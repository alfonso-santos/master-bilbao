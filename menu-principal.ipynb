{
 "cells": [
  {
   "cell_type": "markdown",
   "metadata": {},
   "source": [
    "<img src=\"https://github.com/alfonso-santos/master-bilbao/blob/main/imgs/EHU%20logo.png?raw=true\" alt=\"Logos de Python y la UAM\" style=\"max-width:70%; display: block; margin-left: auto; margin-right: auto;\">"
   ]
  },
  {
   "cell_type": "markdown",
   "metadata": {},
   "source": [
    "# **Tecnología en la Gestión de Carteras: De la Programación a la Inteligencia Artificial**\n",
    "\n",
    "Hemos preparado dos sesiones introductorias para explorar dos ejemplos de las capacidades que nos proporciona la tecnología en la gestión de inversiones. A través de estas sesiones, veremos cómo el uso de herramientas digitales y modelos de inteligencia artificial puede mejorar la toma de decisiones y la optimización de carteras."
   ]
  },
  {
   "cell_type": "markdown",
   "metadata": {},
   "source": [
    "## ¿Por qué estas sesiones? \n",
    "\n",
    "El sector financiero está experimentando una transformación acelerada con la Inteligencia Artificial (IA). Según estudios recientes:  \n",
    "\n",
    "- **53%** de los servicios financieros ya están utilizando IA.  \n",
    "- **90%** de las empresas creen que la IA transformará sus negocios.  \n",
    "- **78%** estaría dispuesto a pagar más a candidatos con conocimientos en IA.  \n",
    "\n",
    "Para destacar en este entorno, es esencial comprender cómo la tecnología puede mejorar la toma de decisiones y la gestión de carteras."
   ]
  },
  {
   "cell_type": "markdown",
   "metadata": {},
   "source": [
    "## ¿Cómo lo abordaremos?\n",
    "\n",
    "A través de dos sesiones prácticas, exploraremos desde la programación en Python hasta la aplicación de IA para la selección y optimización de carteras.\n",
    "\n",
    "1- **\"Gestión de Carteras con Python: Fundamentos y Aplicaciones Prácticas\"**\n",
    "- Introducción a la programación en Python aplicada a la gestión de inversiones.\n",
    "- Uso de herramientas esenciales para el análisis de carteras.\n",
    "\n",
    "2- **\"Inteligencia Artificial en la Gestión de Carteras: Selección de Activos y Optimización con Clustering\"**\n",
    "\n",
    "- Aplicación de técnicas de clustering para la selección de activos.\n",
    "- Optimización de carteras utilizando modelos de clustering (Hieralchical Risk Parity)."
   ]
  },
  {
   "cell_type": "markdown",
   "metadata": {},
   "source": [
    "### Profesores\n",
    "\n",
    "- [Alfonso Santos](https://www.uam.es/Economicas/santos-ramon-alfonso/1242667903456.htm?language=es&pid=1242653687745&title=Santos%20Ram?n%20Alfonso).\n",
    "\n",
    "    - Master de IA aplicado a los Mercados Financieros del Instituto  BME.\n",
    "    \n",
    "    - Grado Economía y Finanzas Universidad Autónoma de Madrid.\n",
    "\n",
    "    - Ingeniero Superior de Telecomunicaciones Universidad Politécnica de Madrid.\n",
    "\n",
    "    - Profesor Asociado Dpto Financiación e Investigación Comercial. Facultad Económicas y Empresariales Universidad Autónoma de Madrid.\n",
    "\n",
    "- [Fernando Úbeda](https://www.uam.es/Economicas/%C3%9Abeda-Mellina,-Fernando/1234888497623.htm?language=es&pid=1234888496695&title=?beda%20Mellina,%20Fernando).\n",
    "\n",
    "    - Doctor en Economía y Empresa. Universidad Autónoma de Madrid.\n",
    "\n",
    "    - Profesor Titular Dpto Financiación e Investigación Comercial. Facultad Económicas y Empresariales. Universidad Autónoma de Madrid."
   ]
  },
  {
   "cell_type": "markdown",
   "metadata": {},
   "source": []
  },
  {
   "cell_type": "markdown",
   "metadata": {},
   "source": []
  }
 ],
 "metadata": {
  "language_info": {
   "name": "python"
  }
 },
 "nbformat": 4,
 "nbformat_minor": 2
}
