{
 "cells": [
  {
   "cell_type": "markdown",
   "metadata": {},
   "source": [
    "<img src=\"https://github.com/alfonso-santos/master-bilbao/blob/main/imgs/logo.PNG?raw=true\" alt=\"Logos de Python y la UAM\" style=\"max-width:50%; display: block; margin-left: auto; margin-right: auto;\">\n"
   ]
  },
  {
   "cell_type": "markdown",
   "metadata": {},
   "source": [
    "# **Tecnología en la Gestión de Carteras: De la Programación a la Inteligencia Artificial**\n",
    "\n",
    "Hemos preparado dos sesiones introductorias para explorar dos ejemplos de las capacidades que nos proporciona la tecnología en la gestión de inversiones. A través de estas sesiones, veremos cómo el uso de herramientas digitales y modelos de inteligencia artificial puede mejorar la toma de decisiones y la optimización de carteras."
   ]
  },
  {
   "cell_type": "markdown",
   "metadata": {},
   "source": [
    "## ¿Por qué estas sesiones? \n",
    "\n",
    "El sector financiero está experimentando una transformación acelerada con la Inteligencia Artificial (IA). Según estudios recientes:  \n",
    "\n",
    "<img src=\"https://github.com/alfonso-santos/master-bilbao/blob/main/imgs/porque_curso.PNG?raw=true\" alt=\"Logos de Python y la UAM\" style=\"max-width:70%; display: block; margin-left: auto; margin-right: auto;\">\n",
    "\n",
    "\n",
    "\n",
    "Para destacar en este entorno, es esencial comprender cómo la tecnología puede mejorar la toma de decisiones y la gestión de carteras."
   ]
  },
  {
   "cell_type": "markdown",
   "metadata": {},
   "source": [
    "## ¿Cómo lo abordaremos?\n",
    "\n",
    "A través de dos sesiones prácticas, exploraremos desde la programación en Python hasta la aplicación de IA para la selección y optimización de carteras.\n",
    "\n",
    "1- **\"Gestión de Carteras con Python: Fundamentos y Aplicaciones Prácticas\"**\n",
    "- Introducción a la programación en Python aplicada a la gestión de inversiones.\n",
    "- Uso de herramientas esenciales para el análisis de carteras.\n",
    "\n",
    "2- **\"Inteligencia Artificial en la Gestión de Carteras: Selección de Activos y Optimización con Clustering\"**\n",
    "\n",
    "- Aplicación de técnicas de clustering para la selección de activos.\n",
    "- Optimización de carteras utilizando modelos de clustering (Hieralchical Risk Parity)."
   ]
  },
  {
   "cell_type": "markdown",
   "metadata": {},
   "source": [
    "<div style=\"background-color: #e0f7df; padding: 10px;\">\n",
    "\n",
    "### Profesores\n",
    "\n",
    "- [Alfonso Santos](https://www.uam.es/Economicas/santos-ramon-alfonso/1242667903456.htm?language=es&pid=1242653687745&title=Santos%20Ram?n%20Alfonso).\n",
    "\n",
    "    - Master de IA aplicado a los Mercados Financieros del Instituto  BME.\n",
    "    \n",
    "    - Grado Economía y Finanzas Universidad Autónoma de Madrid.\n",
    "\n",
    "    - Ingeniero Superior de Telecomunicaciones Universidad Politécnica de Madrid.\n",
    "\n",
    "    - Profesor Asociado Dpto Financiación e Investigación Comercial. Facultad Económicas y Empresariales Universidad Autónoma de Madrid.\n",
    "\n",
    "- [Fernando Úbeda](https://www.uam.es/Economicas/%C3%9Abeda-Mellina,-Fernando/1234888497623.htm?language=es&pid=1234888496695&title=?beda%20Mellina,%20Fernando).\n",
    "\n",
    "    - Doctor en Economía y Empresa. Universidad Autónoma de Madrid.\n",
    "\n",
    "    - Profesor Titular Dpto Financiación e Investigación Comercial. Facultad Económicas y Empresariales. Universidad Autónoma de Madrid."
   ]
  },
  {
   "cell_type": "markdown",
   "metadata": {},
   "source": [
    "## **CONTENIDOS**\n",
    "\n",
    "### **Sesión 1: Gestión de Carteras con Python: Fundamentos y Aplicaciones Prácticas**\n"
   ]
  },
  {
   "cell_type": "markdown",
   "metadata": {},
   "source": [
    "* [1.1](src/sesion_1/1-Intro.ipynb) Introducción\n",
    "* [1.2](src/sesion_1/2-google_colab.ipynb) Google Colab\n",
    "* [1.3](src/sesion_1/3-descarga-datos.ipynb) Descarga de datos\n",
    "* [1.4](src/sesion_1/4-analisis-inicial.ipynb) Análisis inicial de activos financieros\n",
    "* [1.5](src/sesion_1/5-Calculos-iniciales-carteras.ipynb) Introducción al cálculo de carteras\n",
    "* [1.6](src/sesion_1/6-ejemplos-optimizacion-carteras.ipynb) Introducción a la optimización de carteras\n",
    "* [1.7](src/sesion_1/7-beta.ipynb) Estimación de la beta de un activo\n",
    "\n"
   ]
  },
  {
   "cell_type": "markdown",
   "metadata": {},
   "source": [
    "### **Sesión 2: Inteligencia Artificial en la Gestión de Carteras: Selección de Activos y Optimización con Clustering**"
   ]
  },
  {
   "cell_type": "markdown",
   "metadata": {},
   "source": [
    "   "
   ]
  }
 ],
 "metadata": {
  "language_info": {
   "name": "python"
  }
 },
 "nbformat": 4,
 "nbformat_minor": 2
}
