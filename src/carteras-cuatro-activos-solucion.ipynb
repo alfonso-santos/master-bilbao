{
 "cells": [
  {
   "cell_type": "markdown",
   "id": "964afce5",
   "metadata": {},
   "source": [
    "# Ejercicio: carteras con 4 activos"
   ]
  },
  {
   "cell_type": "code",
   "execution_count": 54,
   "id": "af228ac1",
   "metadata": {},
   "outputs": [],
   "source": [
    "import numpy as np\n",
    "import matplotlib.pyplot as plt\n",
    "\n",
    "plt.style.use(\"ggplot\")"
   ]
  },
  {
   "cell_type": "markdown",
   "id": "d35d42f5",
   "metadata": {},
   "source": [
    "### Ejercicio 1\n",
    "\n",
    "Con la siguiente matriz de varianza-covarianzas y las rentabilidades esperadas (medias), determina la desviación típica y la rentabilidad media de las carteras X e Y."
   ]
  },
  {
   "cell_type": "code",
   "execution_count": 55,
   "id": "26014358",
   "metadata": {},
   "outputs": [
    {
     "name": "stdout",
     "output_type": "stream",
     "text": [
      "[[ 0.1   0.01  0.03  0.05]\n",
      " [ 0.01  0.3   0.06 -0.04]\n",
      " [ 0.03  0.06  0.4   0.02]\n",
      " [ 0.05 -0.04  0.02  0.5 ]]\n"
     ]
    }
   ],
   "source": [
    "matriz_covarianzas = np.array([[0.10, 0.01, 0.03, 0.05], [0.01, 0.30, 0.06, -0.04], [0.03, 0.06, 0.40, 0.02], [0.05, -0.04, 0.02, 0.50]])\n",
    "\n",
    "\n",
    "print(matriz_covarianzas)"
   ]
  },
  {
   "cell_type": "code",
   "execution_count": 56,
   "id": "f67a1d82",
   "metadata": {},
   "outputs": [
    {
     "name": "stdout",
     "output_type": "stream",
     "text": [
      "[0.06 0.08 0.1  0.15]\n"
     ]
    }
   ],
   "source": [
    "rentabilidad_medias = np.array([0.06, 0.08, 0.1, 0.15])\n",
    "\n",
    "print(rentabilidad_medias)"
   ]
  },
  {
   "cell_type": "code",
   "execution_count": 57,
   "id": "cf2c3dfb",
   "metadata": {},
   "outputs": [
    {
     "name": "stdout",
     "output_type": "stream",
     "text": [
      "[0.2 0.3 0.4 0.1]\n",
      "[0.2 0.1 0.1 0.6]\n"
     ]
    }
   ],
   "source": [
    "pesos_x = np.array([0.2, 0.3, 0.4, 0.1])\n",
    "pesos_y = np.array([0.2, 0.1, 0.1, 0.6])\n",
    "print(pesos_x)\n",
    "print(pesos_y)"
   ]
  },
  {
   "cell_type": "markdown",
   "id": "7a8ebda5",
   "metadata": {},
   "source": [
    "**Rentabilidad** de la cartera $E(\\tilde R_p)=\\sum_{i=1}^{N}w_i E(\\tilde R_i)$"
   ]
  },
  {
   "cell_type": "markdown",
   "id": "4aaf8c95",
   "metadata": {},
   "source": [
    "$E(\\tilde R_p)=\\begin{pmatrix}w_1 & w_2 & ... & w_N\\end{pmatrix}  \\begin{pmatrix}\\mu_1 \\\\\\mu_2  \\\\...  \\\\ \\mu_N\\end{pmatrix} = \\mathbf{w}^T\\mathbf{\\mu}$"
   ]
  },
  {
   "cell_type": "code",
   "execution_count": 53,
   "id": "c152e8b8",
   "metadata": {},
   "outputs": [
    {
     "name": "stdout",
     "output_type": "stream",
     "text": [
      "(4,) (4,)\n",
      "(4, 1) (4, 1)\n",
      "Rentabilidad media de cartera X: 0.0910\n",
      "Rentabilidad media de cartera Y: 0.1200\n"
     ]
    }
   ],
   "source": [
    "# TO-DO Calcula la rentabilidad media de las dos carteras\n",
    "\n",
    "# Utilizando matrices.\n",
    "\n",
    "print(pesos_x.shape, rentabilidad_medias.shape)\n",
    "\n",
    "pesos_x = np.matrix(pesos_x).reshape(-1, 1)  # (4,) -> (4,1)\n",
    "rentabilidad_medias = np.matrix(rentabilidad_medias).reshape(-1, 1)  # (4,) -> (4, 1)\n",
    "\n",
    "print(pesos_x.shape, rentabilidad_medias.shape)\n",
    "\n",
    "\n",
    "mu_x = pesos_x.T @ rentabilidad_medias\n",
    "mu_y = pesos_y.T @ rentabilidad_medias\n",
    "\n",
    "\n",
    "print(\"Rentabilidad media de cartera X: {:.4f}\".format(mu_x[0, 0]))\n",
    "print(\"Rentabilidad media de cartera Y: {:.4f}\".format(mu_y[0, 0]))"
   ]
  },
  {
   "cell_type": "code",
   "execution_count": 60,
   "id": "1111391b",
   "metadata": {},
   "outputs": [
    {
     "name": "stdout",
     "output_type": "stream",
     "text": [
      "(4,) (4,)\n",
      "Rentabilidad media de cartera X: 0.0910\n",
      "Rentabilidad media de cartera Y: 0.1200\n"
     ]
    }
   ],
   "source": [
    "# TO-DO Calcula la rentabilidad media de las dos carteras\n",
    "\n",
    "# Utilizando arrays.\n",
    "\n",
    "print(pesos_x.shape, rentabilidad_medias.shape)\n",
    "\n",
    "mu_x = pesos_x.T @ rentabilidad_medias\n",
    "mu_y = pesos_y.T @ rentabilidad_medias\n",
    "\n",
    "\n",
    "print(\"Rentabilidad media de cartera X: {:.4f}\".format(mu_x))\n",
    "print(\"Rentabilidad media de cartera Y: {:.4f}\".format(mu_y))"
   ]
  },
  {
   "cell_type": "markdown",
   "id": "5abdb90e",
   "metadata": {},
   "source": [
    "$\\sigma²(\\tilde R_p)=\\begin{pmatrix}w_1 & w_2 & ... & w_N\\end{pmatrix} \\begin{pmatrix}\\sigma_1^2 & \\sigma_{12}^2 & ... & \\sigma_{1N}^2\\\\ \n",
    " \\sigma_{21}^2& \\sigma_2^2 &...  & \\sigma_{2N}^2\\\\ ... & ... & ... & ...\\\\  \\sigma_{N1}^2& \\sigma_{N2}^2 & ... & \\sigma_N^2\\end{pmatrix} \\begin{pmatrix}w_1 \\\\w_2  \\\\...  \\\\ w_N\\end{pmatrix} = \\mathbf{w}^T\\mathbf{C}\\mathbf{w}$"
   ]
  },
  {
   "cell_type": "code",
   "execution_count": 61,
   "id": "39557a7f",
   "metadata": {},
   "outputs": [
    {
     "name": "stdout",
     "output_type": "stream",
     "text": [
      "Desviación típica de cartera X: 0.3487\n",
      "Desviación típica de cartera Y: 0.4510\n"
     ]
    }
   ],
   "source": [
    "# TO-DO Calcula la desviación típica de las dos carteras\n",
    "sigma2_x = pesos_x.T @ matriz_covarianzas @ pesos_x\n",
    "sigma2_y = pesos_y.T @ matriz_covarianzas @ pesos_y\n",
    "\n",
    "sigma_x = np.sqrt(sigma2_x)\n",
    "sigma_y = np.sqrt(sigma2_y)\n",
    "\n",
    "print(\"Desviación típica de cartera X: {:.4f}\".format(sigma_x))\n",
    "print(\"Desviación típica de cartera Y: {:.4f}\".format(sigma_y))"
   ]
  },
  {
   "cell_type": "markdown",
   "id": "d66f91ac",
   "metadata": {},
   "source": [
    "---"
   ]
  },
  {
   "cell_type": "markdown",
   "id": "7013ca22",
   "metadata": {},
   "source": [
    "### Ejercicio 2"
   ]
  },
  {
   "cell_type": "markdown",
   "id": "db949ad4",
   "metadata": {},
   "source": [
    "Determina la covarianza de las dos carteras X e Y a partir de sus pesos y la matriz de covarianzas.\n",
    "\n",
    "$covar(X,Y)=\\begin{pmatrix}x_1 & x_2 & ... & x_N\\end{pmatrix} \\begin{pmatrix}\\sigma_1^2 & \\sigma_{12}^2 & ... & \\sigma_{1N}^2\\\\ \n",
    " \\sigma_{21}^2& \\sigma_2^2 &...  & \\sigma_{2N}^2\\\\ ... & ... & ... & ...\\\\  \\sigma_{N1}^2& \\sigma_{N2}^2 & ... & \\sigma_N^2\\end{pmatrix} \\begin{pmatrix}y_1 \\\\y_2  \\\\...  \\\\ y_N\\end{pmatrix} = \\mathbf{X}^T\\mathbf{C}\\mathbf{Y}$"
   ]
  },
  {
   "cell_type": "markdown",
   "id": "d5301317",
   "metadata": {},
   "source": [
    "Razonamiento tras la fórmula:\n",
    "\n",
    "$$\n",
    "\\text{covar}_{XY} = \\text{pesos}_x^\\top \\cdot \\text{matriz\\_covarianzas} \\cdot \\text{pesos}_y\n",
    "$$\n",
    "\n",
    "representa la covarianza entre dos carteras \\(X\\) e \\(Y\\) porque cada cartera es una combinación lineal de los rendimientos de los activos. A continuación se explica el razonamiento:\n",
    "\n",
    "1. **Definición de las carteras como combinaciones lineales:**\n",
    "\n",
    "   La rentabilidad de la cartera \\(X\\) se expresa como\n",
    "\n",
    "   $$\n",
    "   X = \\sum_{i=1}^{n} w_{x,i} \\, R_i,\n",
    "   $$\n",
    "\n",
    "   y la rentabilidad de la cartera \\(Y\\) como\n",
    "\n",
    "   $$\n",
    "   Y = \\sum_{j=1}^{n} w_{y,j} \\, R_j,\n",
    "   $$\n",
    "\n",
    "   donde:\n",
    "   \n",
    "   - $R_i$ es la rentabilidad del activo \\(i\\).\n",
    "   - $w_{x,i}$ es el peso del activo \\(i\\) en la cartera \\(X\\).\n",
    "   - $w_{y,j}$ es el peso del activo \\(j\\) en la cartera \\(Y\\).\n",
    "\n",
    "2. **Propiedad lineal de la covarianza:**\n",
    "\n",
    "   La covarianza entre \\(X\\) e \\(Y\\) se define por\n",
    "\n",
    "   $$\n",
    "   \\text{Cov}(X, Y) = \\text{Cov}\\left(\\sum_{i=1}^{n} w_{x,i} \\, R_i,\\, \\sum_{j=1}^{n} w_{y,j} \\, R_j\\right).\n",
    "   $$\n",
    "\n",
    "   Aplicando la propiedad bilineal de la covarianza, se tiene que\n",
    "\n",
    "   $$\n",
    "   \\text{Cov}(X, Y) = \\sum_{i=1}^{n} \\sum_{j=1}^{n} w_{x,i} \\, w_{y,j} \\, \\text{Cov}(R_i, R_j).\n",
    "   $$\n",
    "\n",
    "3. **Representación matricial:**\n",
    "\n",
    "   Definimos los vectores de pesos:\n",
    "\n",
    "   $$\n",
    "   \\text{pesos}_x = \\begin{bmatrix} w_{x,1} \\\\ w_{x,2} \\\\ \\vdots \\\\ w_{x,n} \\end{bmatrix}, \\quad\n",
    "   \\text{pesos}_y = \\begin{bmatrix} w_{y,1} \\\\ w_{y,2} \\\\ \\vdots \\\\ w_{y,n} \\end{bmatrix}.\n",
    "   $$\n",
    "\n",
    "   Y la matriz de covarianzas de los activos:\n",
    "\n",
    "   $$\n",
    "   \\text{matriz\\_covarianzas} = \\Sigma = \\begin{bmatrix}\n",
    "   \\text{Cov}(R_1, R_1) & \\text{Cov}(R_1, R_2) & \\cdots & \\text{Cov}(R_1, R_n) \\\\\n",
    "   \\text{Cov}(R_2, R_1) & \\text{Cov}(R_2, R_2) & \\cdots & \\text{Cov}(R_2, R_n) \\\\\n",
    "   \\vdots & \\vdots & \\ddots & \\vdots \\\\\n",
    "   \\text{Cov}(R_n, R_1) & \\text{Cov}(R_n, R_2) & \\cdots & \\text{Cov}(R_n, R_n)\n",
    "   \\end{bmatrix}.\n",
    "   $$\n",
    "\n",
    "   De esta forma, la suma doble se puede escribir de forma compacta mediante multiplicación matricial:\n",
    "\n",
    "   $$\n",
    "   \\text{Cov}(X, Y) = \\text{pesos}_x^\\top \\, \\Sigma \\, \\text{pesos}_y.\n",
    "   $$"
   ]
  },
  {
   "cell_type": "code",
   "execution_count": 62,
   "id": "8f7f3f53",
   "metadata": {},
   "outputs": [
    {
     "name": "stdout",
     "output_type": "stream",
     "text": [
      "Covarianzas entre X e Y: 0.0714\n"
     ]
    }
   ],
   "source": [
    "# TO-DO Calcula la covarianza entre las dos carteras X e Y\n",
    "covar_XY = pesos_x.T @ matriz_covarianzas @ pesos_y\n",
    "\n",
    "print(\"Covarianzas entre X e Y: {:.4f}\".format(covar_XY))"
   ]
  },
  {
   "cell_type": "markdown",
   "id": "93e3177f",
   "metadata": {},
   "source": [
    "---"
   ]
  },
  {
   "cell_type": "markdown",
   "id": "f12445bf",
   "metadata": {},
   "source": [
    "### Ejercicio 3"
   ]
  },
  {
   "cell_type": "markdown",
   "id": "d60ff4ef",
   "metadata": {},
   "source": [
    "Crea una cartera en la que inviertes el 30% en la cartera X y el 70% restante en la cartera Y y determina su rentabilidad esperada y su desviación típica."
   ]
  },
  {
   "cell_type": "code",
   "execution_count": 63,
   "id": "95140eb1",
   "metadata": {},
   "outputs": [
    {
     "name": "stdout",
     "output_type": "stream",
     "text": [
      "Rentabilidad de la nueva cartera XY: 0.1113\n"
     ]
    }
   ],
   "source": [
    "# TO-DO Define los pesos de la nueva cartera y calcula la rentabilidad media\n",
    "pesos_new = np.array([0.3, 0.7])\n",
    "mu_carteras = np.array([mu_x, mu_y])\n",
    "\n",
    "mu_xy = pesos_new.T @ mu_carteras\n",
    "\n",
    "print(\"Rentabilidad de la nueva cartera XY: {:.4f}\".format(mu_xy))"
   ]
  },
  {
   "cell_type": "code",
   "execution_count": 64,
   "id": "aec3ebc5",
   "metadata": {},
   "outputs": [
    {
     "name": "stdout",
     "output_type": "stream",
     "text": [
      "[[0.1216 0.0714]\n",
      " [0.0714 0.2034]]\n"
     ]
    }
   ],
   "source": [
    "# TO-DO Estima la matriz de varianzas-covarianzas\n",
    "S_carteras = np.array([[sigma2_x, covar_XY], [covar_XY, sigma2_y]])\n",
    "print(S_carteras)"
   ]
  },
  {
   "cell_type": "code",
   "execution_count": 65,
   "id": "f54dbf2d",
   "metadata": {},
   "outputs": [
    {
     "name": "stdout",
     "output_type": "stream",
     "text": [
      "Desviación típica de la nueva cartera XY: 0.3750\n"
     ]
    }
   ],
   "source": [
    "# TO-DO Calcula la desviación típica\n",
    "sigma2_xy = pesos_new.T @ S_carteras @ pesos_new\n",
    "sigma_xy = np.sqrt(sigma2_xy)\n",
    "sigma_xy\n",
    "\n",
    "print(\"Desviación típica de la nueva cartera XY: {:.4f}\".format(sigma_xy))"
   ]
  },
  {
   "cell_type": "markdown",
   "id": "a0ec7118",
   "metadata": {},
   "source": [
    "---"
   ]
  },
  {
   "cell_type": "markdown",
   "id": "5b879a5a",
   "metadata": {},
   "source": [
    "### Ejercicio 4"
   ]
  },
  {
   "cell_type": "markdown",
   "id": "ca1932ff",
   "metadata": {},
   "source": [
    "Genera 100 carteras empezando invirtiendo 0% de tu presupuesto en X hasta el 100% de tu presupuesto en X."
   ]
  },
  {
   "cell_type": "code",
   "execution_count": 66,
   "id": "62eaa6bc",
   "metadata": {},
   "outputs": [],
   "source": [
    "mus = []\n",
    "sigmas = []\n",
    "\n",
    "# TO-DO Genera 100 carteras cambiando sus pesos y calcula la media y desviación de cada una\n",
    "for w_x in np.linspace(0.0, 1.0, 100):\n",
    "    w_y = 1.0 - w_x\n",
    "\n",
    "    pesos_new = np.array([w_x, w_y])\n",
    "    mu_new = pesos_new.T @ mu_carteras\n",
    "    sigma2_new = pesos_new.T @ S_carteras @ pesos_new\n",
    "    sigma_new = np.sqrt(sigma2_new)\n",
    "\n",
    "    mus.append(mu_new)\n",
    "    sigmas.append(sigma_new)"
   ]
  },
  {
   "cell_type": "markdown",
   "id": "b200371d",
   "metadata": {},
   "source": [
    "Representa gráficamente las 100 carteras, dibujando además las dos carteras iniciales."
   ]
  },
  {
   "cell_type": "code",
   "execution_count": 67,
   "id": "c4a7724d",
   "metadata": {},
   "outputs": [
    {
     "data": {
      "image/png": "[encoded data removed]",
      "text/plain": [
       "<Figure size 640x480 with 1 Axes>"
      ]
     },
     "metadata": {},
     "output_type": "display_data"
    }
   ],
   "source": [
    "# TO-DO Dibuja las 100 carteras y las dos carteras iniciales\n",
    "plt.plot(sigmas, mus, \".-\")\n",
    "plt.plot([sigma_x, sigma_y], [mu_x, mu_y], \"d\", markersize=10)\n",
    "plt.show()"
   ]
  },
  {
   "cell_type": "markdown",
   "id": "e0042a8c",
   "metadata": {},
   "source": [
    "Genera una nueva figura añadiendo, además, los cuatro activos."
   ]
  },
  {
   "cell_type": "code",
   "execution_count": 68,
   "id": "7d03b229",
   "metadata": {},
   "outputs": [
    {
     "data": {
      "image/png": "[encoded data removed]",
      "text/plain": [
       "<Figure size 640x480 with 1 Axes>"
      ]
     },
     "metadata": {},
     "output_type": "display_data"
    }
   ],
   "source": [
    "# TO-DO Vuelve a generar la figura añadiendo los 4 activos\n",
    "plt.plot(sigmas, mus, \".-\")\n",
    "plt.plot(np.sqrt(np.diag(matriz_covarianzas)), rentabilidad_medias, \"o\")\n",
    "plt.plot([sigma_x, sigma_y], [mu_x, mu_y], \"d\", markersize=10)\n",
    "plt.show()"
   ]
  },
  {
   "cell_type": "markdown",
   "id": "92657635",
   "metadata": {},
   "source": [
    "---"
   ]
  },
  {
   "cell_type": "markdown",
   "id": "e4bcdc3c",
   "metadata": {},
   "source": [
    "### Ejercicio 5"
   ]
  },
  {
   "cell_type": "markdown",
   "id": "3bcd1d61",
   "metadata": {},
   "source": [
    "Genera 10.000 carteras aleatorias, calcula sus rentabilidades medias y sus desviaciones típicas y represéntalas gráficamente junto a la figura anterior."
   ]
  },
  {
   "cell_type": "code",
   "execution_count": 70,
   "id": "50728035",
   "metadata": {},
   "outputs": [
    {
     "data": {
      "image/png": "[encoded data removed]",
      "text/latex": [
       "$\\displaystyle \\left( 10000, \\  4\\right)$"
      ],
      "text/plain": [
       "(10000, 4)"
      ]
     },
     "execution_count": 70,
     "metadata": {},
     "output_type": "execute_result"
    }
   ],
   "source": [
    "num_carteras = 10000\n",
    "num_activos = 4\n",
    "\n",
    "# TO-DO Genera las 10000 carteras aleatorias\n",
    "rng = np.random.default_rng(42)\n",
    "pesos = rng.random(size=(num_carteras, num_activos))\n",
    "pesos = pesos / pesos.sum(axis=1, keepdims=True)\n",
    "pesos.shape"
   ]
  },
  {
   "cell_type": "code",
   "execution_count": 77,
   "id": "96c41927",
   "metadata": {},
   "outputs": [
    {
     "name": "stdout",
     "output_type": "stream",
     "text": [
      "[0.09824205 0.10612291 0.1171668  ... 0.0975393  0.10322618 0.09211196]\n",
      "[0.32324851 0.36096397 0.40002563 ... 0.37123401 0.34584718 0.29087977]\n"
     ]
    }
   ],
   "source": [
    "# TO-DO Calcula las rentabilidades y las desviaciones típicas\n",
    "r_carteras = pesos @ rentabilidad_medias\n",
    "std_carteras = np.sqrt(np.diag((pesos @ matriz_covarianzas @ pesos.T)))"
   ]
  },
  {
   "cell_type": "code",
   "execution_count": 72,
   "id": "57ce2eb1",
   "metadata": {},
   "outputs": [
    {
     "data": {
      "image/png": "[encoded data removed]",
      "text/plain": [
       "<Figure size 640x480 with 1 Axes>"
      ]
     },
     "metadata": {},
     "output_type": "display_data"
    }
   ],
   "source": [
    "# TO-DO Añade a la figura previa las 10000 carteras\n",
    "plt.scatter(std_carteras, r_carteras, c=r_carteras / std_carteras, marker=\"o\", cmap=\"coolwarm\")\n",
    "plt.plot(sigmas, mus, \".\", color=\"green\")\n",
    "plt.plot([sigma_x, sigma_y], [mu_x, mu_y], \"d\", markersize=10)\n",
    "plt.plot(np.sqrt(np.diag(matriz_covarianzas)), rentabilidad_medias, \"o\", color=\"magenta\")\n",
    "plt.show()"
   ]
  },
  {
   "cell_type": "code",
   "execution_count": null,
   "id": "2ed4d400",
   "metadata": {},
   "outputs": [],
   "source": []
  }
 ],
 "metadata": {
  "kernelspec": {
   "display_name": ".venv",
   "language": "python",
   "name": "python3"
  },
  "language_info": {
   "codemirror_mode": {
    "name": "ipython",
    "version": 3
   },
   "file_extension": ".py",
   "mimetype": "text/x-python",
   "name": "python",
   "nbconvert_exporter": "python",
   "pygments_lexer": "ipython3",
   "version": "3.10.6"
  }
 },
 "nbformat": 4,
 "nbformat_minor": 5
}
