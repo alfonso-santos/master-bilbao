{
 "cells": [
  {
   "cell_type": "markdown",
   "metadata": {},
   "source": [
    "# 2.1 $\\quad$ Generación de carteras"
   ]
  },
  {
   "cell_type": "markdown",
   "metadata": {},
   "source": [
    "## 1. Rentabilidad y volatilidad de una cartera con dos activos"
   ]
  },
  {
   "cell_type": "markdown",
   "metadata": {},
   "source": [
    "Una **cartera** de activos define una colección de activos financieros, como acciones, bonos y otros instrumentos de inversión. La composición de la cartera se determina con el **objetivo** de alcanzar una meta financiera específica, como maximizar el rendimiento, minimizar el riesgo o encontrar cierto equilibrio entre ambos. La **gestión** de carteras implica la toma de decisiones estratégicas sobre la asignación de activos, la diversificación y el ajuste periódico para adaptarse a los posibles cambios en las condiciones del mercado.\n",
    "\n",
    "Definir una cartera de activos implica especificar los diferentes instrumentos financieros o activos que la componen y la proporción en la que se invierte en cada uno. Si llamamos:\n",
    "\n",
    "* $w_1$ a la proporción de la inversión en el activo $1$ $\\Rightarrow w_2=1-w_1$. Debe cumplirse que $w_1 + w_2 = 1.0$ ya que representa el 100% de la inversión.\n",
    "\n",
    "* $\\bar R_p$ a la rentabilidad media o esperanza de la cartera $\\Rightarrow \\bar R_p=w_1 \\bar R_1 + w_2 \\bar R_2$. Es una suma ponderada de la rentabilidad de cada activo por el porcentaje de inversión $w_i$ en cada activo.\n",
    "\n",
    "* Varianza $\\sigma_{P}^2 = w_1^2 \\sigma_{1}^2 + w_2^2 \\sigma_{2}^2 + 2 w_1 w_2 \\sigma_{12}$ siendo $\\sigma_{12}$, la covarianza entre los activos 1 y 2. Es decir, la varianza de la cartera se ve afectada por las covarianzas ($\\sigma_{12}$) entre los activos.\n",
    "\n",
    "* Volatilidad $\\sigma_{P} = \\sqrt{\\sigma_{P}^2}$\n",
    "\n",
    "Operando un poco y poniendo la Covarianza en función de la Correlación:\n",
    "\n",
    "$\\sigma_{P}^2 = w_1^2 \\sigma_{1}^2 + w_2^2 \\sigma_{2}^2 + 2 w_1 w_2 \\sigma_{12}$ donde $\\sigma_{12} = Cov(r_1,r_2)$\n",
    "\n",
    "Si:\n",
    "\n",
    "$Corr(r_1,r_2) = \\frac{Cov(r_1,r_2)}{\\sigma_{r_1}\\sigma_{r_2}} \\implies Cov(r_1,r_2) = \\sigma_{r_1}\\sigma_{r_2} Corr(r_1,r_2) = \\sigma_1\\sigma_2\\rho_{12}$\n",
    "\n",
    "Por lo tanto:\n",
    "\n",
    "$\\sigma_{P}^2 = w_1^2 \\sigma_{1}^2 + w_2^2 \\sigma_{2}^2 + 2 w_1 w_2 \\sigma_1\\sigma_2 \\rho_{12} \\implies \\sigma_{P} = \\sqrt{w_1^2 \\sigma_{1}^2 + w_2^2 \\sigma_{2}^2 + 2 w_1 w_2 \\sigma_1\\sigma_2 \\rho_{12}}$"
   ]
  },
  {
   "cell_type": "code",
   "execution_count": 42,
   "metadata": {},
   "outputs": [],
   "source": [
    "import numpy as np\n",
    "import pandas as pd\n",
    "import matplotlib.pyplot as plt\n",
    "import plotly.graph_objects as go"
   ]
  },
  {
   "cell_type": "markdown",
   "metadata": {},
   "source": [
    "Definimos dos funciones:\n",
    "\n",
    "* **calc_ret_cartera** una función que, dada una cartera, nos devuelve la rentabilidad esperada\n",
    "\n",
    "* **calc_std_cartera** una función que, dada una cartera, nos devuelve la varianza de la cartera\n",
    "\n",
    "* una cartera ejemplo con dos activos: **cartera**"
   ]
  },
  {
   "cell_type": "code",
   "execution_count": 43,
   "metadata": {},
   "outputs": [],
   "source": [
    "def calc_ret_cartera(w1: float, w2: float, r1: float, r2: float) -> float:\n",
    "    \"\"\"Calcula el retorno esperado de una cartera con dos activos.\n",
    "\n",
    "    Args:\n",
    "        w1 (float): Peso del activo 1 en la cartera.\n",
    "        w2 (float): Peso del activo 2 en la cartera.\n",
    "        r1 (float): Retorno esperada del activo 1.\n",
    "        r2 (float): Retorno esperada del activo 2.\n",
    "\n",
    "    Returns:\n",
    "        float: Retorno esperado de la cartera.\n",
    "    \"\"\"\n",
    "\n",
    "    return w1 * r1 + w2 * r2"
   ]
  },
  {
   "cell_type": "code",
   "execution_count": 44,
   "metadata": {},
   "outputs": [],
   "source": [
    "def calc_std_cartera(\n",
    "    w1: float, w2: float, std1: float, std2: float, rho: float\n",
    ") -> float:\n",
    "    \"\"\"Calcula la desviación estándar de una cartera con dos activos.\n",
    "    Args:\n",
    "        w1 (float): Peso del activo 1 en la cartera.\n",
    "        w2 (float): Peso del activo 2 en la cartera.\n",
    "        std1 (float): Desviación estándar del activo 1.\n",
    "        std2 (float): Desviación estándar del activo 2.\n",
    "        rho (float): Coeficiente de correlación entre los activos.\n",
    "    Returns:\n",
    "        float: Desviación estándar de la cartera.\n",
    "    \"\"\"\n",
    "\n",
    "    return np.sqrt(w1**2 * std1**2 + w2**2 * std2**2 + 2 * w1 * w2 * std1 * std2 * rho)"
   ]
  },
  {
   "cell_type": "code",
   "execution_count": 45,
   "metadata": {},
   "outputs": [],
   "source": [
    "# definimos una cartera con dos activos\n",
    "ret1 = 0.2  # retornos esperados del activo 1\n",
    "ret2 = 0.1  # retornos esperados del activo 2\n",
    "\n",
    "std1 = 0.25  # volatilidad del activo 1\n",
    "std2 = 0.15  # volatilidad del activo 2\n",
    "\n",
    "p1 = 0.4  # peso del activo 1\n",
    "p2 = 0.6  # peso del activo 2"
   ]
  },
  {
   "cell_type": "markdown",
   "metadata": {},
   "source": [
    "---"
   ]
  },
  {
   "cell_type": "markdown",
   "metadata": {},
   "source": [
    "### Caso 1:  \n",
    "$\\quad \\rho_{12} = 1$"
   ]
  },
  {
   "cell_type": "markdown",
   "metadata": {},
   "source": [
    "* Si $\\rho_{12} = 1$ se dice que los activos son **perfecta y positivamente** correlacionados.\n",
    "\n",
    "    - No hay beneficios de diversificación.\n",
    "\n",
    "    - La rentabilidad de la cartera es igual a la suma ponderada de las rentabilidades de los activos.\n",
    "        - $E(\\tilde R_P) = w_1 E(\\tilde R_1) + w_2 E(\\tilde R_2)$\n",
    "        $$$$\n",
    "\n",
    "    - La volatilidad de la cartera es igual a la suma ponderada de las volatilidades de los activos.\n",
    "        \n",
    "        Si $\\rho_{12} = 1$\n",
    "\n",
    "        $\\sigma_{P} = \\sqrt{w_1^2 \\sigma_{1}^2 + w_2^2 \\sigma_{2}^2 + 2 w_1 w_2 \\sigma_1\\sigma_2 \\rho_{12}} = \\sqrt{w_1^2 \\sigma_{1}^2 + w_2^2 \\sigma_{2}^2 + 2 w_1 w_2 \\sigma_1\\sigma_2} = \\sqrt{(w_1\\sigma_{1})^2 + (w_2\\sigma_{2})^2 + 2(w_1\\sigma_1)(w_2\\sigma_2)}$\n",
    "\n",
    "        Si $(x+y)^2 = 2x+2y+2xy$\n",
    "\n",
    "        $\\sigma_P = w_1 \\sigma_1 + w_2 \\sigma_2$"
   ]
  },
  {
   "cell_type": "code",
   "execution_count": 46,
   "metadata": {},
   "outputs": [],
   "source": [
    "# definimos el coeficiente de correlación\n",
    "coef_corr = 1"
   ]
  },
  {
   "cell_type": "code",
   "execution_count": 47,
   "metadata": {},
   "outputs": [
    {
     "name": "stdout",
     "output_type": "stream",
     "text": [
      "El retorno de la cartera es: 14.00 %\n",
      "La volatilidad de la cartera es: 19.00 %\n"
     ]
    }
   ],
   "source": [
    "print(f\"El retorno de la cartera es: {100*calc_ret_cartera(p1, p2, ret1, ret2):.2f} %\")\n",
    "print(\n",
    "    f\"La volatilidad de la cartera es: {100*calc_std_cartera(p1, p2, std1, std2, coef_corr):.2f} %\"\n",
    ")"
   ]
  },
  {
   "cell_type": "markdown",
   "metadata": {},
   "source": [
    "Vamos a ir variando los pesos de los dos activos y ver cómo se comporta la rentabilidad y la volatilidad de la cartera."
   ]
  },
  {
   "cell_type": "code",
   "execution_count": 48,
   "metadata": {},
   "outputs": [
    {
     "data": {
      "image/png": "[encoded data removed]",
      "text/plain": [
       "<Figure size 800x400 with 1 Axes>"
      ]
     },
     "metadata": {},
     "output_type": "display_data"
    }
   ],
   "source": [
    "fig, ax = plt.subplots(figsize=(8, 4))\n",
    "\n",
    "pesos_1 = np.linspace(\n",
    "    0, 1, 100\n",
    ")  # generamos 100 puntos entre 0 y 1 que representan los pesos_1 del activo 1\n",
    "\n",
    "for w_1 in pesos_1:\n",
    "    w_2 = 1 - w_1  # calculamos el peso del activo 2\n",
    "\n",
    "    ret_p = calc_ret_cartera(\n",
    "        w_1, w_2, ret1, ret2\n",
    "    )  # calculamos el retorno de la cartera para cada peso\n",
    "    std_p = calc_std_cartera(\n",
    "        w_1, w_2, std1, std2, coef_corr\n",
    "    )  # calculamos la volatilidad de la cartera para cada peso\n",
    "\n",
    "    plt.scatter(\n",
    "        x=std_p, y=ret_p, marker=\".\", color=\"blue\", alpha=0.5\n",
    "    )  # marcamos el punto\n",
    "\n",
    "plt.scatter(\n",
    "    x=std1, y=ret1, color=\"red\", marker=\"*\", s=200, label=\"Activo 1\"\n",
    ")  # marcamos el punto del activo 1\n",
    "plt.scatter(\n",
    "    x=std2, y=ret2, color=\"green\", marker=\"*\", s=200, label=\"Activo 2\"\n",
    ")  # marcamos el punto del activo 2\n",
    "\n",
    "plt.xlabel(\"Volatilidad\")\n",
    "plt.ylabel(\"Retorno\")\n",
    "plt.title(r\"Carteras de dos activos con coeficiente de correlación $\\rho=1$\")\n",
    "plt.legend()\n",
    "plt.show()"
   ]
  },
  {
   "cell_type": "markdown",
   "metadata": {},
   "source": [
    "---"
   ]
  },
  {
   "cell_type": "markdown",
   "metadata": {},
   "source": [
    "Vamos a construir carteras a partir de las rentabilidades de dos activos que descargamos."
   ]
  },
  {
   "cell_type": "code",
   "execution_count": 82,
   "metadata": {},
   "outputs": [
    {
     "data": {
      "application/vnd.microsoft.datawrangler.viewer.v0+json": {
       "columns": [
        {
         "name": "index",
         "rawType": "datetime64[ns]",
         "type": "datetime"
        },
        {
         "name": "Activo 1",
         "rawType": "float64",
         "type": "float"
        },
        {
         "name": "Activo 2",
         "rawType": "float64",
         "type": "float"
        }
       ],
       "conversionMethod": "pd.DataFrame",
       "ref": "23f9a1ba-571d-44c5-abd3-d5f71cf2c170",
       "rows": [
        [
         "2010-01-04 00:00:00",
         "117.0",
         "158.0"
        ],
        [
         "2010-01-05 00:00:00",
         "113.1923748195137",
         "156.26303684869893"
        ],
        [
         "2010-01-06 00:00:00",
         "111.12115207871508",
         "155.30770212145214"
        ],
        [
         "2010-01-07 00:00:00",
         "107.08466637504009",
         "153.4677191518955"
        ],
        [
         "2010-01-08 00:00:00",
         "105.0767904594012",
         "152.54089955167947"
        ]
       ],
       "shape": {
        "columns": 2,
        "rows": 5
       }
      },
      "text/html": [
       "<div>\n",
       "<style scoped>\n",
       "    .dataframe tbody tr th:only-of-type {\n",
       "        vertical-align: middle;\n",
       "    }\n",
       "\n",
       "    .dataframe tbody tr th {\n",
       "        vertical-align: top;\n",
       "    }\n",
       "\n",
       "    .dataframe thead th {\n",
       "        text-align: right;\n",
       "    }\n",
       "</style>\n",
       "<table border=\"1\" class=\"dataframe\">\n",
       "  <thead>\n",
       "    <tr style=\"text-align: right;\">\n",
       "      <th></th>\n",
       "      <th>Activo 1</th>\n",
       "      <th>Activo 2</th>\n",
       "    </tr>\n",
       "  </thead>\n",
       "  <tbody>\n",
       "    <tr>\n",
       "      <th>2010-01-04</th>\n",
       "      <td>117.000000</td>\n",
       "      <td>158.000000</td>\n",
       "    </tr>\n",
       "    <tr>\n",
       "      <th>2010-01-05</th>\n",
       "      <td>113.192375</td>\n",
       "      <td>156.263037</td>\n",
       "    </tr>\n",
       "    <tr>\n",
       "      <th>2010-01-06</th>\n",
       "      <td>111.121152</td>\n",
       "      <td>155.307702</td>\n",
       "    </tr>\n",
       "    <tr>\n",
       "      <th>2010-01-07</th>\n",
       "      <td>107.084666</td>\n",
       "      <td>153.467719</td>\n",
       "    </tr>\n",
       "    <tr>\n",
       "      <th>2010-01-08</th>\n",
       "      <td>105.076790</td>\n",
       "      <td>152.540900</td>\n",
       "    </tr>\n",
       "  </tbody>\n",
       "</table>\n",
       "</div>"
      ],
      "text/plain": [
       "              Activo 1    Activo 2\n",
       "2010-01-04  117.000000  158.000000\n",
       "2010-01-05  113.192375  156.263037\n",
       "2010-01-06  111.121152  155.307702\n",
       "2010-01-07  107.084666  153.467719\n",
       "2010-01-08  105.076790  152.540900"
      ]
     },
     "execution_count": 82,
     "metadata": {},
     "output_type": "execute_result"
    }
   ],
   "source": [
    "# Para descargar desde github\n",
    "\n",
    "file_path = \"https://raw.githubusercontent.com/alfonso-santos/microcredencial-carteras-python/refs/heads/Feb-2025/Tema_1_Activos_Intro/data/precios_corr_pos.csv\"\n",
    "precios_pos_df = pd.read_csv(file_path, index_col=0, parse_dates=True)\n",
    "precios_pos_df.head()"
   ]
  },
  {
   "cell_type": "code",
   "execution_count": 83,
   "metadata": {},
   "outputs": [
    {
     "data": {
      "application/vnd.microsoft.datawrangler.viewer.v0+json": {
       "columns": [
        {
         "name": "index",
         "rawType": "datetime64[ns]",
         "type": "datetime"
        },
        {
         "name": "Activo 1",
         "rawType": "float64",
         "type": "float"
        },
        {
         "name": "Activo 2",
         "rawType": "float64",
         "type": "float"
        }
       ],
       "conversionMethod": "pd.DataFrame",
       "ref": "4ca7c7bd-358b-43b4-a928-57a2e030d9c5",
       "rows": [
        [
         "2010-01-04 00:00:00",
         "117.0",
         "158.0"
        ],
        [
         "2010-01-05 00:00:00",
         "113.1923748195137",
         "156.26303684869893"
        ],
        [
         "2010-01-06 00:00:00",
         "111.12115207871508",
         "155.30770212145214"
        ],
        [
         "2010-01-07 00:00:00",
         "107.08466637504009",
         "153.4677191518955"
        ],
        [
         "2010-01-08 00:00:00",
         "105.0767904594012",
         "152.54089955167947"
        ]
       ],
       "shape": {
        "columns": 2,
        "rows": 5
       }
      },
      "text/html": [
       "<div>\n",
       "<style scoped>\n",
       "    .dataframe tbody tr th:only-of-type {\n",
       "        vertical-align: middle;\n",
       "    }\n",
       "\n",
       "    .dataframe tbody tr th {\n",
       "        vertical-align: top;\n",
       "    }\n",
       "\n",
       "    .dataframe thead th {\n",
       "        text-align: right;\n",
       "    }\n",
       "</style>\n",
       "<table border=\"1\" class=\"dataframe\">\n",
       "  <thead>\n",
       "    <tr style=\"text-align: right;\">\n",
       "      <th></th>\n",
       "      <th>Activo 1</th>\n",
       "      <th>Activo 2</th>\n",
       "    </tr>\n",
       "  </thead>\n",
       "  <tbody>\n",
       "    <tr>\n",
       "      <th>2010-01-04</th>\n",
       "      <td>117.000000</td>\n",
       "      <td>158.000000</td>\n",
       "    </tr>\n",
       "    <tr>\n",
       "      <th>2010-01-05</th>\n",
       "      <td>113.192375</td>\n",
       "      <td>156.263037</td>\n",
       "    </tr>\n",
       "    <tr>\n",
       "      <th>2010-01-06</th>\n",
       "      <td>111.121152</td>\n",
       "      <td>155.307702</td>\n",
       "    </tr>\n",
       "    <tr>\n",
       "      <th>2010-01-07</th>\n",
       "      <td>107.084666</td>\n",
       "      <td>153.467719</td>\n",
       "    </tr>\n",
       "    <tr>\n",
       "      <th>2010-01-08</th>\n",
       "      <td>105.076790</td>\n",
       "      <td>152.540900</td>\n",
       "    </tr>\n",
       "  </tbody>\n",
       "</table>\n",
       "</div>"
      ],
      "text/plain": [
       "              Activo 1    Activo 2\n",
       "2010-01-04  117.000000  158.000000\n",
       "2010-01-05  113.192375  156.263037\n",
       "2010-01-06  111.121152  155.307702\n",
       "2010-01-07  107.084666  153.467719\n",
       "2010-01-08  105.076790  152.540900"
      ]
     },
     "execution_count": 83,
     "metadata": {},
     "output_type": "execute_result"
    }
   ],
   "source": [
    "# Descargar los precios de los activos\n",
    "precios_pos_df = pd.read_csv(\n",
    "    \"../data/precios_corr_pos.csv\", index_col=0, parse_dates=True\n",
    ")\n",
    "precios_pos_df.head()"
   ]
  },
  {
   "cell_type": "code",
   "execution_count": 51,
   "metadata": {},
   "outputs": [],
   "source": [
    "# Calcular los retornos logarítmicos de los precios\n",
    "retornos_pos_df = np.log(precios_pos_df).diff().dropna()"
   ]
  },
  {
   "cell_type": "code",
   "execution_count": 52,
   "metadata": {},
   "outputs": [
    {
     "data": {
      "image/png": "[encoded data removed]",
      "text/plain": [
       "<Figure size 1000x300 with 1 Axes>"
      ]
     },
     "metadata": {},
     "output_type": "display_data"
    }
   ],
   "source": [
    "# Graficar precios_pos_df y mostrar coeficiente de correlación en el título\n",
    "plt.figure(figsize=(10, 3))\n",
    "\n",
    "corr_pos = retornos_pos_df.corr().iloc[0, 1]\n",
    "\n",
    "plt.plot(precios_pos_df[\"Activo 1\"], label=\"Activo 1\", color=\"blue\")\n",
    "plt.plot(precios_pos_df[\"Activo 2\"], label=\"Activo 2\", color=\"green\")\n",
    "\n",
    "# plt.title(f\"Precios Positivos (Correlación de los retornos: {corr_pos:.2f})\")\n",
    "plt.title(f\"Precios Positivos ($\\\\rho={corr_pos:.2f}$)\")\n",
    "plt.xlabel(\"Tiempo\")\n",
    "plt.ylabel(\"Precio\")\n",
    "plt.legend()\n",
    "plt.grid(True)\n",
    "plt.show()"
   ]
  },
  {
   "cell_type": "markdown",
   "metadata": {},
   "source": [
    "Como se ve en la figura, tener una **correlación positiva** implica que cuando un activo sube, el otro también sube y viceversa, es decir, están altamente correlados positivamente. "
   ]
  },
  {
   "cell_type": "markdown",
   "metadata": {},
   "source": [
    "El cálculo de los parámetros (rentabilidad y volatilidad) de carteras con datos reales cuando disponemos de los precios o retornos diarios/semanales/etc. se puede realizar de dos maneras distintas:\n",
    "\n",
    "* Utilizando las ecuaciones anteriores\n",
    "* Considerando la cartera como un único activo"
   ]
  },
  {
   "cell_type": "markdown",
   "metadata": {},
   "source": [
    "#### Utilizando las ecuaciones anteriores"
   ]
  },
  {
   "cell_type": "markdown",
   "metadata": {},
   "source": [
    "Es necesario calcular la media y volatilidad de los retornos y la correlación entre los dos activos."
   ]
  },
  {
   "cell_type": "code",
   "execution_count": 53,
   "metadata": {},
   "outputs": [
    {
     "data": {
      "text/plain": [
       "(Activo 1    0.000781\n",
       " Activo 2    0.000222\n",
       " dtype: float64,\n",
       " Activo 1    0.011965\n",
       " Activo 2    0.005326\n",
       " dtype: float64)"
      ]
     },
     "execution_count": 53,
     "metadata": {},
     "output_type": "execute_result"
    }
   ],
   "source": [
    "# Calcular la media y la desviación estándar de los retornos\n",
    "med_pos = retornos_pos_df.mean()\n",
    "std_pos = retornos_pos_df.std()\n",
    "\n",
    "med_pos, std_pos"
   ]
  },
  {
   "cell_type": "code",
   "execution_count": 54,
   "metadata": {},
   "outputs": [
    {
     "data": {
      "text/plain": [
       "np.float64(0.9801402288728873)"
      ]
     },
     "execution_count": 54,
     "metadata": {},
     "output_type": "execute_result"
    }
   ],
   "source": [
    "# Calcular la matriz de correlación de los dos activos\n",
    "matriz_correlacion = retornos_pos_df.corr()\n",
    "rho = matriz_correlacion.values[0, 1]\n",
    "\n",
    "rho"
   ]
  },
  {
   "cell_type": "code",
   "execution_count": 55,
   "metadata": {},
   "outputs": [],
   "source": [
    "# Definimos los pesos de la cartera\n",
    "w1 = 0.8\n",
    "w2 = 0.2"
   ]
  },
  {
   "cell_type": "code",
   "execution_count": 56,
   "metadata": {},
   "outputs": [
    {
     "name": "stdout",
     "output_type": "stream",
     "text": [
      "La rentabilidad de la cartera es: 0.0006692986940257982\n"
     ]
    }
   ],
   "source": [
    "# Calculamos la rentabilidad de la cartera\n",
    "r1 = med_pos.iloc[0]\n",
    "r2 = med_pos.iloc[1]\n",
    "\n",
    "print(\"La rentabilidad de la cartera es:\", calc_ret_cartera(w1, w2, r1, r2))"
   ]
  },
  {
   "cell_type": "code",
   "execution_count": 57,
   "metadata": {},
   "outputs": [
    {
     "name": "stdout",
     "output_type": "stream",
     "text": [
      "La volatilidad de la cartera es: 0.010618201150274205\n"
     ]
    }
   ],
   "source": [
    "# Calculamos la volatilidad de la cartera\n",
    "vol1 = std_pos.iloc[0]\n",
    "vol2 = std_pos.iloc[1]\n",
    "\n",
    "print(\"La volatilidad de la cartera es:\", calc_std_cartera(w1, w2, vol1, vol2, rho))"
   ]
  },
  {
   "cell_type": "markdown",
   "metadata": {},
   "source": [
    "#### Considerando la cartera como un único activo"
   ]
  },
  {
   "cell_type": "markdown",
   "metadata": {},
   "source": [
    "Con los retornos diarios de cada activo y los pesos de la cartera, podemos calcular los retornos diarios de la cartera. A partir de ahí, podemos considerar dicha cartera como un único activo y calcular su retorno y volatilidad."
   ]
  },
  {
   "cell_type": "code",
   "execution_count": 58,
   "metadata": {},
   "outputs": [
    {
     "data": {
      "text/plain": [
       "(999, 2)"
      ]
     },
     "execution_count": 58,
     "metadata": {},
     "output_type": "execute_result"
    }
   ],
   "source": [
    "retornos_pos_df.shape"
   ]
  },
  {
   "cell_type": "code",
   "execution_count": 59,
   "metadata": {},
   "outputs": [
    {
     "data": {
      "text/plain": [
       "2010-01-05   -0.028679\n",
       "2010-01-06   -0.016001\n",
       "2010-01-07   -0.031985\n",
       "2010-01-08   -0.016354\n",
       "2010-01-11    0.002600\n",
       "                ...   \n",
       "2013-12-16    0.010026\n",
       "2013-12-17   -0.010063\n",
       "2013-12-18   -0.009953\n",
       "2013-12-19   -0.001246\n",
       "2013-12-20   -0.010755\n",
       "Length: 999, dtype: float64"
      ]
     },
     "execution_count": 59,
     "metadata": {},
     "output_type": "execute_result"
    }
   ],
   "source": [
    "# Cálculo de los retornos diarios de la cartera\n",
    "pesos = np.array([w1, w2])  # (1, 2)\n",
    "\n",
    "retornos_cartera = retornos_pos_df @ pesos.T  # (999, 2) @ (2, 1) = (999, 1)\n",
    "\n",
    "retornos_cartera"
   ]
  },
  {
   "cell_type": "code",
   "execution_count": 60,
   "metadata": {},
   "outputs": [
    {
     "name": "stdout",
     "output_type": "stream",
     "text": [
      "La rentabilidad de la cartera es: 0.0006692986940257981\n"
     ]
    }
   ],
   "source": [
    "print(\"La rentabilidad de la cartera es:\", retornos_cartera.mean())\n",
    "\n",
    "# La rentabilidad de la cartera es: 0.0006692986940257982"
   ]
  },
  {
   "cell_type": "code",
   "execution_count": 61,
   "metadata": {},
   "outputs": [
    {
     "name": "stdout",
     "output_type": "stream",
     "text": [
      "La volatilidad de la cartera es: 0.010618201150274204\n"
     ]
    }
   ],
   "source": [
    "print(\"La volatilidad de la cartera es:\", retornos_cartera.std())\n",
    "\n",
    "# La volatilidad de la cartera es: 0.010618201150274205"
   ]
  },
  {
   "cell_type": "markdown",
   "metadata": {},
   "source": [
    "---"
   ]
  },
  {
   "cell_type": "markdown",
   "metadata": {},
   "source": [
    "Vamos a generar 1000 carteras aleatorias y a representarlas gráficamente."
   ]
  },
  {
   "cell_type": "code",
   "execution_count": 62,
   "metadata": {},
   "outputs": [
    {
     "data": {
      "text/plain": [
       "(1000, 2)"
      ]
     },
     "execution_count": 62,
     "metadata": {},
     "output_type": "execute_result"
    }
   ],
   "source": [
    "# Generador de números aleatorios.\n",
    "rng = np.random.default_rng(42)  # Fijar semilla para reproducibilidad\n",
    "\n",
    "# Generar pesos aleatorios.\n",
    "num_portfolios = 1000\n",
    "\n",
    "weights = rng.random(\n",
    "    size=(num_portfolios, 2)\n",
    ")  # Distribución uniforme entre 0 y 1 -> [0.0, 1.0)\n",
    "weights = weights / np.sum(\n",
    "    weights, axis=1, keepdims=True\n",
    ")  # Normalizar para que la suma sea 1\n",
    "\n",
    "weights.shape"
   ]
  },
  {
   "cell_type": "code",
   "execution_count": 63,
   "metadata": {},
   "outputs": [],
   "source": [
    "def asset_performance(returns: pd.Series) -> tuple:\n",
    "    \"\"\"Calcula la rentabilidad y el riesgo de un activo individual.\n",
    "\n",
    "    Args:\n",
    "        returns (pd.Series): Serie de tiempo con los retornos del activo.\n",
    "\n",
    "    Returns:\n",
    "        tuple: Retorno esperado y desviación estándar de los retornos.\n",
    "    \"\"\"\n",
    "\n",
    "    r_a = returns.mean()\n",
    "    std_a = returns.std()\n",
    "\n",
    "    return r_a, std_a"
   ]
  },
  {
   "cell_type": "code",
   "execution_count": 64,
   "metadata": {},
   "outputs": [],
   "source": [
    "def portfolio_performance(weights: np.ndarray, returns: pd.DataFrame) -> tuple:\n",
    "    \"\"\"Calcula la rentabilidad y el riesgo de una cartera a partir de los pesos y los retornos de los activos.\n",
    "\n",
    "    Args:\n",
    "        weights (np.ndarray): Peso de cada activo en la cartera.\n",
    "        returns (pd.DataFrame): Serie de tiempo con los retornos de los activos.\n",
    "\n",
    "    Returns:\n",
    "        tuple: Retorno esperado y desviación estándar de los retornos de la cartera.\n",
    "    \"\"\"\n",
    "\n",
    "    portfolio_returns = returns @ weights.T\n",
    "\n",
    "    r_p = portfolio_returns.mean(axis=0)\n",
    "    std_p = portfolio_returns.std(axis=0)\n",
    "\n",
    "    return r_p, std_p"
   ]
  },
  {
   "cell_type": "code",
   "execution_count": 65,
   "metadata": {},
   "outputs": [],
   "source": [
    "# Función para graficar en un eje específico\n",
    "def plot_on_axis(\n",
    "    ret_mean: float,\n",
    "    ret_std: float,\n",
    "    asset1_mean: float,\n",
    "    asset1_std: float,\n",
    "    asset2_mean: float,\n",
    "    asset2_std: float,\n",
    "    color: str,\n",
    "    marker: str,\n",
    "    title: str,\n",
    "    corr: float,\n",
    "):\n",
    "    # Inicializar figura y ejes\n",
    "    plt.figure(figsize=(14, 4))\n",
    "\n",
    "    plt.scatter(ret_std, ret_mean, c=color, marker=marker, alpha=0.4, label=None)\n",
    "    plt.scatter(asset1_std, asset1_mean, c=\"red\", marker=\"*\", s=150, label=\"Activo 1\")\n",
    "    plt.scatter(asset2_std, asset2_mean, c=\"green\", marker=\"*\", s=150, label=\"Activo 2\")\n",
    "\n",
    "    # plt.plot([asset1_std, asset2_std], [asset1_mean, asset2_mean], color=\"red\", linestyle=\"--\")\n",
    "\n",
    "    plt.title(f\"{title} ($\\\\rho={corr:.2f}$)\")\n",
    "    plt.xlabel(\"Riesgo (Desviación Estándar)\")\n",
    "    plt.ylabel(\"Rentabilidad (Retorno Medio)\")\n",
    "    plt.legend(loc=\"upper left\")\n",
    "    plt.grid(True)\n",
    "\n",
    "    plt.tight_layout()\n",
    "    plt.show()"
   ]
  },
  {
   "cell_type": "code",
   "execution_count": 66,
   "metadata": {},
   "outputs": [
    {
     "data": {
      "image/png": "[encoded data removed]",
      "text/plain": [
       "<Figure size 1400x400 with 1 Axes>"
      ]
     },
     "metadata": {},
     "output_type": "display_data"
    }
   ],
   "source": [
    "# Rentabilidad esperada y riesgo activo 1.\n",
    "asset1_pos_mean, asset1_pos_std = asset_performance(retornos_pos_df[\"Activo 1\"])\n",
    "# Rentabilidad esperada y riesgo activo 2.\n",
    "asset2_pos_mean, asset2_pos_std = asset_performance(retornos_pos_df[\"Activo 2\"])\n",
    "# Rentabilidades esperadas y riesgos de todas las carteras calculadas.\n",
    "ret_pos_mean, ret_pos_std = portfolio_performance(\n",
    "    weights, retornos_pos_df\n",
    ")  # weights.shape = (1000, 2)\n",
    "\n",
    "# Graficar\n",
    "plot_on_axis(\n",
    "    ret_pos_mean,\n",
    "    ret_pos_std,\n",
    "    asset1_pos_mean,\n",
    "    asset1_pos_std,\n",
    "    asset2_pos_mean,\n",
    "    asset2_pos_std,\n",
    "    \"blue\",\n",
    "    \".\",\n",
    "    \"Caso 1: Correlación positiva\",\n",
    "    corr_pos,\n",
    ")"
   ]
  },
  {
   "cell_type": "markdown",
   "metadata": {},
   "source": [
    "---"
   ]
  },
  {
   "cell_type": "markdown",
   "metadata": {},
   "source": [
    "### Caso 2:  \n",
    "$\\quad \\rho_{12} = -1$"
   ]
  },
  {
   "cell_type": "markdown",
   "metadata": {},
   "source": [
    "* Si $\\rho_{12} = -1$ se dice que los activos son **perfecta pero negativamente** correlacionados.\n",
    "\n",
    "    - Hay máximos beneficios de diversificación.\n",
    "\n",
    "    - La rentabilidad de la cartera es igual (recordad que **no depende de las relaccciones entre activos**).\n",
    "        - $E(\\tilde R_P) = w_1 E(\\tilde R_1) + w_2 E(\\tilde R_2)$\n",
    "        $$$$\n",
    "        \n",
    "\n",
    "    - La volatilidad de la cartera es igual a la suma ponderada de las volatilidades de los activos.\n",
    "        \n",
    "        Si $\\rho_{12} = -1$\n",
    "\n",
    "        $\\sigma_{P} = \\sqrt{w_1^2 \\sigma_{1}^2 + w_2^2 \\sigma_{2}^2 + 2 w_1 w_2 \\sigma_1\\sigma_2 \\rho_{12}} = \\sqrt{w_1^2 \\sigma_{1}^2 + w_2^2 \\sigma_{2}^2 - 2 w_1 w_2 \\sigma_1\\sigma_2} = \\sqrt{(w_1\\sigma_{1})^2 + (w_2\\sigma_{2})^2 - 2(w_1\\sigma_1)(w_2\\sigma_2)}$\n",
    "\n",
    "        Si $(x-y)^2 = 2x+2y-2xy$\n",
    "\n",
    "        $\\sigma_P = |w_1 \\sigma_1 - w_2 \\sigma_2|$ <span style=\"color: orange;\">OJO: valor absoluto porque el resultado debe ser positivo</span>\n"
   ]
  },
  {
   "cell_type": "code",
   "execution_count": 67,
   "metadata": {},
   "outputs": [],
   "source": [
    "# definimos el coeficiente de correlación\n",
    "coef_corr_neg = -1"
   ]
  },
  {
   "cell_type": "code",
   "execution_count": 68,
   "metadata": {},
   "outputs": [
    {
     "name": "stdout",
     "output_type": "stream",
     "text": [
      "0.4 0.2 0.25\n",
      "0.6 0.1 0.15\n"
     ]
    }
   ],
   "source": [
    "print(p1, ret1, std1)\n",
    "print(p2, ret2, std2)"
   ]
  },
  {
   "cell_type": "code",
   "execution_count": 69,
   "metadata": {},
   "outputs": [
    {
     "name": "stdout",
     "output_type": "stream",
     "text": [
      "El retorno de la cartera es:14.00 %\n",
      "La volatilidad de la cartera es:1.00 %\n"
     ]
    }
   ],
   "source": [
    "# calculamos la rentabilidad y volatilidad de la cartera con el nuevo coeficiente de correlación\n",
    "print(f\"El retorno de la cartera es:{100*calc_ret_cartera(p1, p2, ret1, ret2):.2f} %\")\n",
    "print(\n",
    "    f\"La volatilidad de la cartera es:{100*calc_std_cartera(p1, p2, std1, std2, coef_corr_neg):.2f} %\"\n",
    ")"
   ]
  },
  {
   "cell_type": "markdown",
   "metadata": {},
   "source": [
    "Recordad que con $\\rho_{12}=1$ nos dió:\n",
    "\n",
    "* $E(\\tilde R_p) = 14$%\n",
    "\n",
    "* $\\sigma_p = 19$%\n",
    "\n",
    "y con el $\\rho_{12}=-1$ y nos ha dado:\n",
    "\n",
    "* $E(\\tilde R_p) = 14$%\n",
    "\n",
    "* $\\sigma_p = 1$%\n",
    "\n",
    "Gracias a la **diversificación**, obtenemos la misma rentabilidad pero **menor volatilidad**."
   ]
  },
  {
   "cell_type": "code",
   "execution_count": null,
   "metadata": {},
   "outputs": [
    {
     "data": {
      "image/png": "[encoded data removed]",
      "text/plain": [
       "<Figure size 1200x600 with 1 Axes>"
      ]
     },
     "metadata": {},
     "output_type": "display_data"
    }
   ],
   "source": [
    "fig, ax = plt.subplots(figsize=(12, 6))\n",
    "\n",
    "pesos_1 = np.linspace(\n",
    "    0, 1, 100\n",
    ")  # generamos 100 puntos entre 0 y 1 que representan los pesos_1 del activo 1\n",
    "\n",
    "for w_1 in pesos_1:\n",
    "    w_2 = 1 - w_1  # calculamos el peso del activo 2\n",
    "\n",
    "    ret_p = calc_ret_cartera(\n",
    "        w_1, w_2, ret1, ret2\n",
    "    )  # calculamos el retorno de la cartera para cada peso\n",
    "    std_p = calc_std_cartera(\n",
    "        w_1, w_2, std1, std2, coef_corr_neg\n",
    "    )  # calculamos la volatilidad de la cartera para cada peso\n",
    "\n",
    "    plt.scatter(\n",
    "        x=std_p, y=ret_p, marker=\".\", color=\"blue\", alpha=0.5\n",
    "    )  # marcamos el punto\n",
    "\n",
    "plt.scatter(\n",
    "    std1, ret1, color=\"red\", marker=\"*\", s=200, label=\"Activo 1\"\n",
    ")  # marcamos el punto del activo 1\n",
    "plt.scatter(\n",
    "    std2, ret2, color=\"green\", marker=\"*\", s=200, label=\"Activo 2\"\n",
    ")  # marcamos el punto del activo 2\n",
    "\n",
    "plt.xlabel(\"Volatilidad\")\n",
    "plt.ylabel(\"Retorno\")\n",
    "plt.title(r\"Carteras de dos activos con coeficiente de correlación $\\rho=-1$\")\n",
    "plt.legend()\n",
    "plt.show()"
   ]
  },
  {
   "cell_type": "markdown",
   "metadata": {},
   "source": [
    "---"
   ]
  },
  {
   "cell_type": "markdown",
   "metadata": {},
   "source": [
    "Vamos a construir carteras a partir de las rentabilidades de dos activos que descargamos."
   ]
  },
  {
   "cell_type": "code",
   "execution_count": null,
   "metadata": {},
   "outputs": [
    {
     "data": {
      "application/vnd.microsoft.datawrangler.viewer.v0+json": {
       "columns": [
        {
         "name": "index",
         "rawType": "datetime64[ns]",
         "type": "datetime"
        },
        {
         "name": "Activo 1",
         "rawType": "float64",
         "type": "float"
        },
        {
         "name": "Activo 2",
         "rawType": "float64",
         "type": "float"
        }
       ],
       "conversionMethod": "pd.DataFrame",
       "ref": "6f5a3bf0-4466-4f2b-a32c-546239456064",
       "rows": [
        [
         "2010-01-04 00:00:00",
         "117.0",
         "158.0"
        ],
        [
         "2010-01-05 00:00:00",
         "113.1691605314253",
         "159.7745821893019"
        ],
        [
         "2010-01-06 00:00:00",
         "111.07472349161723",
         "160.7675359103054"
        ],
        [
         "2010-01-07 00:00:00",
         "107.01502350802616",
         "162.64513795097108"
        ],
        [
         "2010-01-08 00:00:00",
         "104.98393330757096",
         "163.60957660244412"
        ]
       ],
       "shape": {
        "columns": 2,
        "rows": 5
       }
      },
      "text/html": [
       "<div>\n",
       "<style scoped>\n",
       "    .dataframe tbody tr th:only-of-type {\n",
       "        vertical-align: middle;\n",
       "    }\n",
       "\n",
       "    .dataframe tbody tr th {\n",
       "        vertical-align: top;\n",
       "    }\n",
       "\n",
       "    .dataframe thead th {\n",
       "        text-align: right;\n",
       "    }\n",
       "</style>\n",
       "<table border=\"1\" class=\"dataframe\">\n",
       "  <thead>\n",
       "    <tr style=\"text-align: right;\">\n",
       "      <th></th>\n",
       "      <th>Activo 1</th>\n",
       "      <th>Activo 2</th>\n",
       "    </tr>\n",
       "  </thead>\n",
       "  <tbody>\n",
       "    <tr>\n",
       "      <th>2010-01-04</th>\n",
       "      <td>117.000000</td>\n",
       "      <td>158.000000</td>\n",
       "    </tr>\n",
       "    <tr>\n",
       "      <th>2010-01-05</th>\n",
       "      <td>113.169161</td>\n",
       "      <td>159.774582</td>\n",
       "    </tr>\n",
       "    <tr>\n",
       "      <th>2010-01-06</th>\n",
       "      <td>111.074723</td>\n",
       "      <td>160.767536</td>\n",
       "    </tr>\n",
       "    <tr>\n",
       "      <th>2010-01-07</th>\n",
       "      <td>107.015024</td>\n",
       "      <td>162.645138</td>\n",
       "    </tr>\n",
       "    <tr>\n",
       "      <th>2010-01-08</th>\n",
       "      <td>104.983933</td>\n",
       "      <td>163.609577</td>\n",
       "    </tr>\n",
       "  </tbody>\n",
       "</table>\n",
       "</div>"
      ],
      "text/plain": [
       "              Activo 1    Activo 2\n",
       "2010-01-04  117.000000  158.000000\n",
       "2010-01-05  113.169161  159.774582\n",
       "2010-01-06  111.074723  160.767536\n",
       "2010-01-07  107.015024  162.645138\n",
       "2010-01-08  104.983933  163.609577"
      ]
     },
     "execution_count": 71,
     "metadata": {},
     "output_type": "execute_result"
    }
   ],
   "source": [
    "file_path = \"https://raw.githubusercontent.com/alfonso-santos/microcredencial-carteras-python/refs/heads/Feb-2025/Tema_1_Activos_Intro/data/precios_corr_neg.csv\"\n",
    "precios_neg_df = pd.read_csv(file_path, index_col=0, parse_dates=True)\n",
    "precios_neg_df.head()"
   ]
  },
  {
   "cell_type": "code",
   "execution_count": 72,
   "metadata": {},
   "outputs": [
    {
     "data": {
      "application/vnd.microsoft.datawrangler.viewer.v0+json": {
       "columns": [
        {
         "name": "index",
         "rawType": "datetime64[ns]",
         "type": "datetime"
        },
        {
         "name": "Activo 1",
         "rawType": "float64",
         "type": "float"
        },
        {
         "name": "Activo 2",
         "rawType": "float64",
         "type": "float"
        }
       ],
       "conversionMethod": "pd.DataFrame",
       "ref": "244576b6-7dde-45e8-9fa9-24d92c465e7a",
       "rows": [
        [
         "2010-01-04 00:00:00",
         "117.0",
         "158.0"
        ],
        [
         "2010-01-05 00:00:00",
         "113.1691605314253",
         "159.7745821893019"
        ],
        [
         "2010-01-06 00:00:00",
         "111.07472349161723",
         "160.7675359103054"
        ],
        [
         "2010-01-07 00:00:00",
         "107.01502350802616",
         "162.64513795097108"
        ],
        [
         "2010-01-08 00:00:00",
         "104.98393330757096",
         "163.60957660244412"
        ]
       ],
       "shape": {
        "columns": 2,
        "rows": 5
       }
      },
      "text/html": [
       "<div>\n",
       "<style scoped>\n",
       "    .dataframe tbody tr th:only-of-type {\n",
       "        vertical-align: middle;\n",
       "    }\n",
       "\n",
       "    .dataframe tbody tr th {\n",
       "        vertical-align: top;\n",
       "    }\n",
       "\n",
       "    .dataframe thead th {\n",
       "        text-align: right;\n",
       "    }\n",
       "</style>\n",
       "<table border=\"1\" class=\"dataframe\">\n",
       "  <thead>\n",
       "    <tr style=\"text-align: right;\">\n",
       "      <th></th>\n",
       "      <th>Activo 1</th>\n",
       "      <th>Activo 2</th>\n",
       "    </tr>\n",
       "  </thead>\n",
       "  <tbody>\n",
       "    <tr>\n",
       "      <th>2010-01-04</th>\n",
       "      <td>117.000000</td>\n",
       "      <td>158.000000</td>\n",
       "    </tr>\n",
       "    <tr>\n",
       "      <th>2010-01-05</th>\n",
       "      <td>113.169161</td>\n",
       "      <td>159.774582</td>\n",
       "    </tr>\n",
       "    <tr>\n",
       "      <th>2010-01-06</th>\n",
       "      <td>111.074723</td>\n",
       "      <td>160.767536</td>\n",
       "    </tr>\n",
       "    <tr>\n",
       "      <th>2010-01-07</th>\n",
       "      <td>107.015024</td>\n",
       "      <td>162.645138</td>\n",
       "    </tr>\n",
       "    <tr>\n",
       "      <th>2010-01-08</th>\n",
       "      <td>104.983933</td>\n",
       "      <td>163.609577</td>\n",
       "    </tr>\n",
       "  </tbody>\n",
       "</table>\n",
       "</div>"
      ],
      "text/plain": [
       "              Activo 1    Activo 2\n",
       "2010-01-04  117.000000  158.000000\n",
       "2010-01-05  113.169161  159.774582\n",
       "2010-01-06  111.074723  160.767536\n",
       "2010-01-07  107.015024  162.645138\n",
       "2010-01-08  104.983933  163.609577"
      ]
     },
     "execution_count": 72,
     "metadata": {},
     "output_type": "execute_result"
    }
   ],
   "source": [
    "# Descargar los precios de los activos\n",
    "precios_neg_df = pd.read_csv(\n",
    "    \"../data/precios_corr_neg.csv\", index_col=0, parse_dates=True\n",
    ")\n",
    "precios_neg_df.head()"
   ]
  },
  {
   "cell_type": "code",
   "execution_count": 73,
   "metadata": {},
   "outputs": [],
   "source": [
    "# Calcular los retornos logarítmicos de los precios\n",
    "retornos_neg_df = np.log(precios_neg_df).diff().dropna()"
   ]
  },
  {
   "cell_type": "code",
   "execution_count": 74,
   "metadata": {},
   "outputs": [
    {
     "data": {
      "image/png": "[encoded data removed]",
      "text/plain": [
       "<Figure size 1000x300 with 1 Axes>"
      ]
     },
     "metadata": {},
     "output_type": "display_data"
    }
   ],
   "source": [
    "# Graficar precios_neg_df y mostrar coeficiente de correlación en el título\n",
    "plt.figure(figsize=(10, 3))\n",
    "\n",
    "corr_neg = retornos_neg_df.corr().iloc[0, 1]\n",
    "\n",
    "plt.plot(precios_neg_df[\"Activo 1\"], label=\"Activo 1\", color=\"blue\")\n",
    "plt.plot(precios_neg_df[\"Activo 2\"], label=\"Activo 2\", color=\"green\")\n",
    "\n",
    "# plt.title(f\"Precios Positivos (Correlación de los retornos: {corr_neg:.2f})\")\n",
    "plt.title(f\"Precios Positivos ($\\\\rho={corr_neg:.2f}$)\")\n",
    "plt.xlabel(\"Tiempo\")\n",
    "plt.ylabel(\"Precio\")\n",
    "plt.legend()\n",
    "plt.grid(True)\n",
    "plt.show()"
   ]
  },
  {
   "cell_type": "code",
   "execution_count": 75,
   "metadata": {},
   "outputs": [
    {
     "name": "stdout",
     "output_type": "stream",
     "text": [
      "Activo 1    0.000686\n",
      "Activo 2   -0.000011\n",
      "dtype: float64\n",
      "Activo 1    0.012476\n",
      "Activo 2    0.006515\n",
      "dtype: float64\n",
      "La rentabilidad de la cartera es: 0.0005464026795538537\n",
      "La volatilidad de la cartera es: 0.008677642777012613\n"
     ]
    }
   ],
   "source": [
    "# Definimos los pesos de la cartera\n",
    "w1 = 0.8\n",
    "w2 = 0.2\n",
    "\n",
    "# Calcular la media y la desviación estándar de los retornos\n",
    "med_neg = retornos_neg_df.mean()\n",
    "std_neg = retornos_neg_df.std()\n",
    "\n",
    "print(med_neg)\n",
    "print(std_neg)\n",
    "\n",
    "# Calculamos la rentabilidad de la cartera\n",
    "r1 = med_neg.iloc[0]\n",
    "r2 = med_neg.iloc[1]\n",
    "\n",
    "print(\"La rentabilidad de la cartera es:\", calc_ret_cartera(w1, w2, r1, r2))\n",
    "\n",
    "# Calculamos la volatilidad de la cartera\n",
    "vol1 = std_neg.iloc[0]\n",
    "vol2 = std_neg.iloc[1]\n",
    "\n",
    "print(\n",
    "    \"La volatilidad de la cartera es:\",\n",
    "    calc_std_cartera(w1, w2, vol1, vol2, coef_corr_neg),\n",
    ")"
   ]
  },
  {
   "cell_type": "code",
   "execution_count": 76,
   "metadata": {},
   "outputs": [
    {
     "name": "stdout",
     "output_type": "stream",
     "text": [
      "La rentabilidad de la cartera es: 0.0005464026795538539\n",
      "La volatilidad de la cartera es: 0.008747188300591333\n"
     ]
    }
   ],
   "source": [
    "# Cálculo de los retornos diarios de la cartera\n",
    "pesos = np.array([w1, w2])  # (1, 2)\n",
    "\n",
    "retornos_cartera = retornos_neg_df @ pesos.T  # (999, 2) @ (2, 1) = (999, 1)\n",
    "\n",
    "print(\"La rentabilidad de la cartera es:\", retornos_cartera.mean())\n",
    "print(\"La volatilidad de la cartera es:\", retornos_cartera.std())"
   ]
  },
  {
   "cell_type": "code",
   "execution_count": 77,
   "metadata": {},
   "outputs": [
    {
     "data": {
      "text/plain": [
       "(1000, 2)"
      ]
     },
     "execution_count": 77,
     "metadata": {},
     "output_type": "execute_result"
    }
   ],
   "source": [
    "# Generador de números aleatorios.\n",
    "rng = np.random.default_rng(42)  # Fijar semilla para reproducibilidad\n",
    "\n",
    "# Generar pesos aleatorios.\n",
    "num_portfolios = 1000\n",
    "\n",
    "weights = rng.random(\n",
    "    size=(num_portfolios, 2)\n",
    ")  # Distribución uniforme entre 0 y 1 -> [0.0, 1.0)\n",
    "weights = weights / np.sum(\n",
    "    weights, axis=1, keepdims=True\n",
    ")  # Normalizar para que la suma sea 1\n",
    "\n",
    "weights.shape"
   ]
  },
  {
   "cell_type": "code",
   "execution_count": 78,
   "metadata": {},
   "outputs": [
    {
     "data": {
      "image/png": "[encoded data removed]",
      "text/plain": [
       "<Figure size 1400x400 with 1 Axes>"
      ]
     },
     "metadata": {},
     "output_type": "display_data"
    }
   ],
   "source": [
    "# Rentabilidad esperada y riesgo activo 1.\n",
    "asset1_neg_mean, asset1_neg_std = asset_performance(retornos_neg_df[\"Activo 1\"])\n",
    "# Rentabilidad esperada y riesgo activo 2.\n",
    "asset2_neg_mean, asset2_neg_std = asset_performance(retornos_neg_df[\"Activo 2\"])\n",
    "# Rentabilidades esperadas y riesgos de todas las carteras calculadas.\n",
    "ret_neg_mean, ret_neg_std = portfolio_performance(\n",
    "    weights, retornos_neg_df\n",
    ")  # weights.shape = (1000, 2)\n",
    "\n",
    "# Graficar\n",
    "plot_on_axis(\n",
    "    ret_neg_mean,\n",
    "    ret_neg_std,\n",
    "    asset1_neg_mean,\n",
    "    asset1_neg_std,\n",
    "    asset2_neg_mean,\n",
    "    asset2_neg_std,\n",
    "    \"blue\",\n",
    "    \".\",\n",
    "    \"Caso 1: Correlación negativa\",\n",
    "    coef_corr_neg,\n",
    ")"
   ]
  },
  {
   "cell_type": "markdown",
   "metadata": {},
   "source": [
    "---"
   ]
  },
  {
   "cell_type": "markdown",
   "metadata": {},
   "source": [
    "### Caso 3: $\\quad$    $-1\\leq \\rho_{12} \\leq 1$"
   ]
  },
  {
   "cell_type": "markdown",
   "metadata": {},
   "source": [
    "* Si $-1 \\leq \\rho_{12} \\leq 1$ se dice que los activos tienen correlación **lineal no perfecta**.\n",
    "\n",
    "    - Hay beneficios de diversificación, a mayor correlación negativa mayor beneficio.\n",
    "\n",
    "    - La rentabilidad de la cartera es igual (recordad que no depende de las relaciones entre activos).\n",
    "        - $E(\\tilde R_P) = w_1 E(\\tilde R_1) + w_2 E(\\tilde R_2)$\n",
    "        $$$$\n",
    "        \n",
    "    - La varianza de la cartera es igual a:\n",
    "        - $\\sigma²(\\tilde R_p)= \\underset{Activo 1} {\\underbrace{w_1²\\sigma²(\\tilde R_1)}}+\\underset{Activo 2} {\\underbrace{w_2²\\sigma²(\\tilde R_2)}}+ \\underset{Relacion\\ entre\\ activos} {\\underbrace{2w_1w_2 \\rho_{12} \\sigma_1 \\sigma_2}}$\n",
    "        $$$$\n",
    "\n",
    "    - La volatilidad de la cartera es igual a la raiz cuadrada de la varianza.\n",
    "        - $\\sigma(\\tilde R_p)= \\sqrt{w_1²\\sigma²(\\tilde R_1)+w_2²\\sigma²(\\tilde R_2)+ 2w_1w_2 \\rho_{12} \\sigma_1 \\sigma_2} $\n",
    "\n",
    "        "
   ]
  },
  {
   "cell_type": "code",
   "execution_count": 79,
   "metadata": {},
   "outputs": [
    {
     "data": {
      "application/vnd.plotly.v1+json": {
       "config": {
        "plotlyServerURL": "https://plot.ly"
       },
       "data": [
        {
         "marker": {
          "color": "#440154",
          "opacity": 0.5,
          "size": 8
         },
         "mode": "markers",
         "name": "Corr -1",
         "type": "scatter",
         "x": [
          0.15,
          0.14595959595959596,
          0.14191919191919192,
          0.13787878787878788,
          0.1338383838383838,
          0.1297979797979798,
          0.12575757575757576,
          0.12171717171717171,
          0.11767676767676769,
          0.11363636363636363,
          0.10959595959595958,
          0.10555555555555556,
          0.1015151515151515,
          0.09747474747474746,
          0.09343434343434341,
          0.0893939393939394,
          0.08535353535353535,
          0.08131313131313131,
          0.07727272727272724,
          0.07323232323232322,
          0.06919191919191918,
          0.06515151515151515,
          0.06111111111111111,
          0.05707070707070705,
          0.053030303030303025,
          0.048989898989898965,
          0.04494949494949494,
          0.0409090909090909,
          0.036868686868686884,
          0.032828282828282866,
          0.02878787878787883,
          0.024747474747474723,
          0.020707070707070674,
          0.016666666666666618,
          0.012626262626262685,
          0.008585858585858652,
          0.004545454545454248,
          0.0005050505050508536,
          0.003535353535353522,
          0.007575757575757538,
          0.011616161616161719,
          0.015656565656565605,
          0.019696969696969727,
          0.023737373737373824,
          0.027777777777777776,
          0.03181818181818181,
          0.03585858585858589,
          0.03989898989898991,
          0.043939393939393945,
          0.04797979797979801,
          0.05202020202020204,
          0.0560606060606061,
          0.060101010101010134,
          0.06414141414141414,
          0.06818181818181819,
          0.07222222222222226,
          0.07626262626262632,
          0.08030303030303032,
          0.08434343434343435,
          0.0883838383838384,
          0.09242424242424245,
          0.0964646464646465,
          0.1005050505050505,
          0.10454545454545461,
          0.1085858585858586,
          0.11262626262626263,
          0.11666666666666668,
          0.12070707070707073,
          0.12474747474747479,
          0.1287878787878788,
          0.13282828282828288,
          0.1368686868686869,
          0.14090909090909093,
          0.144949494949495,
          0.14898989898989903,
          0.15303030303030307,
          0.15707070707070708,
          0.16111111111111112,
          0.16515151515151516,
          0.1691919191919192,
          0.17323232323232327,
          0.1772727272727273,
          0.18131313131313137,
          0.18535353535353538,
          0.1893939393939394,
          0.19343434343434346,
          0.1974747474747475,
          0.20151515151515156,
          0.20555555555555557,
          0.20959595959595964,
          0.21363636363636368,
          0.2176767676767677,
          0.22171717171717176,
          0.2257575757575758,
          0.22979797979797986,
          0.23383838383838387,
          0.2378787878787879,
          0.24191919191919195,
          0.245959595959596,
          0.25
         ],
         "y": [
          0.1,
          0.10101010101010102,
          0.10202020202020202,
          0.10303030303030304,
          0.10404040404040404,
          0.10505050505050506,
          0.10606060606060608,
          0.10707070707070708,
          0.1080808080808081,
          0.1090909090909091,
          0.11010101010101012,
          0.11111111111111112,
          0.11212121212121214,
          0.11313131313131314,
          0.11414141414141414,
          0.11515151515151516,
          0.11616161616161616,
          0.11717171717171718,
          0.1181818181818182,
          0.11919191919191921,
          0.12020202020202023,
          0.12121212121212122,
          0.12222222222222223,
          0.12323232323232323,
          0.12424242424242425,
          0.12525252525252525,
          0.12626262626262627,
          0.1272727272727273,
          0.1282828282828283,
          0.1292929292929293,
          0.1303030303030303,
          0.13131313131313133,
          0.13232323232323234,
          0.13333333333333336,
          0.13434343434343438,
          0.13535353535353536,
          0.13636363636363638,
          0.13737373737373737,
          0.1383838383838384,
          0.1393939393939394,
          0.14040404040404042,
          0.14141414141414144,
          0.14242424242424243,
          0.14343434343434344,
          0.14444444444444446,
          0.14545454545454548,
          0.14646464646464646,
          0.14747474747474748,
          0.1484848484848485,
          0.14949494949494951,
          0.15050505050505053,
          0.15151515151515155,
          0.15252525252525254,
          0.15353535353535355,
          0.15454545454545457,
          0.15555555555555556,
          0.15656565656565657,
          0.1575757575757576,
          0.1585858585858586,
          0.15959595959595962,
          0.1606060606060606,
          0.16161616161616163,
          0.16262626262626262,
          0.16363636363636364,
          0.16464646464646468,
          0.16565656565656567,
          0.16666666666666669,
          0.1676767676767677,
          0.16868686868686872,
          0.1696969696969697,
          0.17070707070707072,
          0.1717171717171717,
          0.17272727272727276,
          0.17373737373737377,
          0.17474747474747476,
          0.17575757575757578,
          0.1767676767676768,
          0.17777777777777778,
          0.1787878787878788,
          0.17979797979797982,
          0.18080808080808083,
          0.18181818181818185,
          0.18282828282828287,
          0.18383838383838386,
          0.18484848484848485,
          0.18585858585858586,
          0.18686868686868688,
          0.1878787878787879,
          0.1888888888888889,
          0.18989898989898993,
          0.19090909090909094,
          0.19191919191919193,
          0.19292929292929295,
          0.19393939393939394,
          0.19494949494949496,
          0.19595959595959597,
          0.196969696969697,
          0.197979797979798,
          0.19898989898989902,
          0.2
         ]
        },
        {
         "marker": {
          "color": "#3b528b",
          "opacity": 0.5,
          "size": 8
         },
         "mode": "markers",
         "name": "Corr -0.8",
         "type": "scatter",
         "x": [
          0.15,
          0.1464724832455835,
          0.14296141267392082,
          0.13946803037537328,
          0.1359936994765441,
          0.13253991819566951,
          0.12910833571377386,
          0.12570077009992384,
          0.12231922855428287,
          0.11896593025729454,
          0.11564333213514585,
          0.11235415786753714,
          0.10910143046905874,
          0.1058885087633869,
          0.10271912803047187,
          0.09959744502754422,
          0.09652808744690072,
          0.09351620765282316,
          0.09056754020532395,
          0.08768846219080143,
          0.08488605469333496,
          0.08216816280579545,
          0.07954345035153529,
          0.07702144393766075,
          0.07461255910451595,
          0.0723280992662959,
          0.07018021607471032,
          0.06818181818181818,
          0.06634641475114988,
          0.06468788130362821,
          0.063220139530379,
          0.06195675035374666,
          0.060910430995191576,
          0.06009252125773313,
          0.05951243933556942,
          0.05917717953481861,
          0.05909090909090907,
          0.059254715543588736,
          0.0596665392710249,
          0.06032130071937691,
          0.0612112044469136,
          0.06232617906364714,
          0.0636543985987879,
          0.06518282858806099,
          0.0668977476599572,
          0.06878520886555252,
          0.0708314202374036,
          0.07302303776538782,
          0.0753473742979173,
          0.07779253434721901,
          0.08034748785247522,
          0.08300209651395359,
          0.08574710528459419,
          0.08857410976764313,
          0.09147550817044595,
          0.09444444444444446,
          0.09747474747474752,
          0.10056086973360678,
          0.10369782767908245,
          0.10688114532792738,
          0.11010680181226767,
          0.11337118329412486,
          0.11667103931636898,
          0.12000344347676446,
          0.12336575819435422,
          0.1267556032722907,
          0.1301708279317776,
          0.13360948598596636,
          0.13706981383182604,
          0.14055021095614317,
          0.1440492226747818,
          0.14756552484936641,
          0.15109791035086056,
          0.15464527706396997,
          0.1582066172492635,
          0.1617810081010299,
          0.16536760335804485,
          0.16896562584161723,
          0.17257436081058722,
          0.17619315003649744,
          0.17982138651409701,
          0.18345850973282335,
          0.18710400144409584,
          0.1907573818672913,
          0.1944182062842947,
          0.198086061978649,
          0.20176056548067903,
          0.20544136008463626,
          0.2091281136079857,
          0.21282051636651858,
          0.21651827934208281,
          0.22022113252244535,
          0.22392882339517678,
          0.22764111557953606,
          0.23135778758215758,
          0.2350786316639464,
          0.23880345280699697,
          0.24253206777158662,
          0.24626430423438747,
          0.25
         ],
         "y": [
          0.1,
          0.10101010101010102,
          0.10202020202020202,
          0.10303030303030304,
          0.10404040404040404,
          0.10505050505050506,
          0.10606060606060608,
          0.10707070707070708,
          0.1080808080808081,
          0.1090909090909091,
          0.11010101010101012,
          0.11111111111111112,
          0.11212121212121214,
          0.11313131313131314,
          0.11414141414141414,
          0.11515151515151516,
          0.11616161616161616,
          0.11717171717171718,
          0.1181818181818182,
          0.11919191919191921,
          0.12020202020202023,
          0.12121212121212122,
          0.12222222222222223,
          0.12323232323232323,
          0.12424242424242425,
          0.12525252525252525,
          0.12626262626262627,
          0.1272727272727273,
          0.1282828282828283,
          0.1292929292929293,
          0.1303030303030303,
          0.13131313131313133,
          0.13232323232323234,
          0.13333333333333336,
          0.13434343434343438,
          0.13535353535353536,
          0.13636363636363638,
          0.13737373737373737,
          0.1383838383838384,
          0.1393939393939394,
          0.14040404040404042,
          0.14141414141414144,
          0.14242424242424243,
          0.14343434343434344,
          0.14444444444444446,
          0.14545454545454548,
          0.14646464646464646,
          0.14747474747474748,
          0.1484848484848485,
          0.14949494949494951,
          0.15050505050505053,
          0.15151515151515155,
          0.15252525252525254,
          0.15353535353535355,
          0.15454545454545457,
          0.15555555555555556,
          0.15656565656565657,
          0.1575757575757576,
          0.1585858585858586,
          0.15959595959595962,
          0.1606060606060606,
          0.16161616161616163,
          0.16262626262626262,
          0.16363636363636364,
          0.16464646464646468,
          0.16565656565656567,
          0.16666666666666669,
          0.1676767676767677,
          0.16868686868686872,
          0.1696969696969697,
          0.17070707070707072,
          0.1717171717171717,
          0.17272727272727276,
          0.17373737373737377,
          0.17474747474747476,
          0.17575757575757578,
          0.1767676767676768,
          0.17777777777777778,
          0.1787878787878788,
          0.17979797979797982,
          0.18080808080808083,
          0.18181818181818185,
          0.18282828282828287,
          0.18383838383838386,
          0.18484848484848485,
          0.18585858585858586,
          0.18686868686868688,
          0.1878787878787879,
          0.1888888888888889,
          0.18989898989898993,
          0.19090909090909094,
          0.19191919191919193,
          0.19292929292929295,
          0.19393939393939394,
          0.19494949494949496,
          0.19595959595959597,
          0.196969696969697,
          0.197979797979798,
          0.19898989898989902,
          0.2
         ]
        },
        {
         "marker": {
          "color": "#21918c",
          "opacity": 0.5,
          "size": 8
         },
         "mode": "markers",
         "name": "Corr -0.5",
         "type": "scatter",
         "x": [
          0.15,
          0.14723846437424767,
          0.14451065092861867,
          0.14181850556813602,
          0.13916409831772578,
          0.13654962998423595,
          0.13397743872129264,
          0.1314500063638019,
          0.1289699643677135,
          0.12654009915522776,
          0.12416335662610099,
          0.12184284555256282,
          0.11958183952954933,
          0.11738377710499853,
          0.11525225966913157,
          0.11319104664011977,
          0.11120404745048838,
          0.10929530981929211,
          0.10746900379578987,
          0.10572940108817333,
          0.10408084925339546,
          0.1025277404285889,
          0.1010744744370014,
          0.09972541630537257,
          0.09848484848484848,
          0.09735691836807041,
          0.09634558202850077,
          0.09545454545454546,
          0.09468720488374906,
          0.09404658812897007,
          0.0935352989942464,
          0.09315546697014553,
          0.09290870435082256,
          0.0927960727138337,
          0.09281806035095509,
          0.09297457175354905,
          0.09326492967583268,
          0.09368788967289243,
          0.09424166639296011,
          0.09492397034955807,
          0.09573205345423995,
          0.09666276128606607,
          0.0977125899235529,
          0.09887774516507597,
          0.10015420209622193,
          0.10153776319858489,
          0.10302411349996084,
          0.10460887160644453,
          0.10628763580179142,
          0.10805602472391247,
          0.10990971241512366,
          0.11184445778157927,
          0.11385612868429884,
          0.11594072102042335,
          0.11809437324333255,
          0.12031337682059844,
          0.12259418314689716,
          0.12493340742241234,
          0.1273278299828198,
          0.129774395530602,
          0.13227021067410558,
          0.13481254013425933,
          0.13739880193207715,
          0.14002656182499423,
          0.14269352721804715,
          0.1453975407376826,
          0.14813657362192648,
          0.1509087190508312,
          0.15371218551540028,
          0.15654529030130174,
          0.15940645314527485,
          0.16229419010683793,
          0.16520710768532954,
          0.1681438972020976,
          0.1711033294594437,
          0.17408424968142344,
          0.17708557273651993,
          0.18010627863830364,
          0.18314540831725795,
          0.18620205965480582,
          0.18927538376906936,
          0.19236458154089844,
          0.1954689003681182,
          0.19858763113567157,
          0.20172010538930832,
          0.20486569270063162,
          0.20802379821161204,
          0.2111938603470783,
          0.21437534868416377,
          0.21756776196820216,
          0.22077062626510713,
          0.22398349324082528,
          0.22720593855900406,
          0.23043756038856358,
          0.23367797801339288,
          0.2369268305369032,
          0.24018377567466337,
          0.24344848862880927,
          0.24672066103836096,
          0.25
         ],
         "y": [
          0.1,
          0.10101010101010102,
          0.10202020202020202,
          0.10303030303030304,
          0.10404040404040404,
          0.10505050505050506,
          0.10606060606060608,
          0.10707070707070708,
          0.1080808080808081,
          0.1090909090909091,
          0.11010101010101012,
          0.11111111111111112,
          0.11212121212121214,
          0.11313131313131314,
          0.11414141414141414,
          0.11515151515151516,
          0.11616161616161616,
          0.11717171717171718,
          0.1181818181818182,
          0.11919191919191921,
          0.12020202020202023,
          0.12121212121212122,
          0.12222222222222223,
          0.12323232323232323,
          0.12424242424242425,
          0.12525252525252525,
          0.12626262626262627,
          0.1272727272727273,
          0.1282828282828283,
          0.1292929292929293,
          0.1303030303030303,
          0.13131313131313133,
          0.13232323232323234,
          0.13333333333333336,
          0.13434343434343438,
          0.13535353535353536,
          0.13636363636363638,
          0.13737373737373737,
          0.1383838383838384,
          0.1393939393939394,
          0.14040404040404042,
          0.14141414141414144,
          0.14242424242424243,
          0.14343434343434344,
          0.14444444444444446,
          0.14545454545454548,
          0.14646464646464646,
          0.14747474747474748,
          0.1484848484848485,
          0.14949494949494951,
          0.15050505050505053,
          0.15151515151515155,
          0.15252525252525254,
          0.15353535353535355,
          0.15454545454545457,
          0.15555555555555556,
          0.15656565656565657,
          0.1575757575757576,
          0.1585858585858586,
          0.15959595959595962,
          0.1606060606060606,
          0.16161616161616163,
          0.16262626262626262,
          0.16363636363636364,
          0.16464646464646468,
          0.16565656565656567,
          0.16666666666666669,
          0.1676767676767677,
          0.16868686868686872,
          0.1696969696969697,
          0.17070707070707072,
          0.1717171717171717,
          0.17272727272727276,
          0.17373737373737377,
          0.17474747474747476,
          0.17575757575757578,
          0.1767676767676768,
          0.17777777777777778,
          0.1787878787878788,
          0.17979797979797982,
          0.18080808080808083,
          0.18181818181818185,
          0.18282828282828287,
          0.18383838383838386,
          0.18484848484848485,
          0.18585858585858586,
          0.18686868686868688,
          0.1878787878787879,
          0.1888888888888889,
          0.18989898989898993,
          0.19090909090909094,
          0.19191919191919193,
          0.19292929292929295,
          0.19393939393939394,
          0.19494949494949496,
          0.19595959595959597,
          0.196969696969697,
          0.197979797979798,
          0.19898989898989902,
          0.2
         ]
        },
        {
         "marker": {
          "color": "#5ec962",
          "opacity": 0.5,
          "size": 8
         },
         "mode": "markers",
         "name": "Corr 0",
         "type": "scatter",
         "x": [
          0.15,
          0.14850632016814877,
          0.1470564498028894,
          0.14565169719654858,
          0.1442933800723399,
          0.1429828218284516,
          0.14172134741178918,
          0.14051027882421865,
          0.13935093027018736,
          0.13824460296132318,
          0.13719257960094441,
          0.13619611857923625,
          0.13525644791801095,
          0.13437475901227194,
          0.13355220022401365,
          0.1327898703915484,
          0.13208881232486624,
          0.1314500063638019,
          0.1308743640807997,
          0.13036272221353845,
          0.12991583691434613,
          0.1295343784029788,
          0.12921892610681118,
          0.12896996436771346,
          0.12878787878787878,
          0.12867295327773334,
          0.12862536785800252,
          0.12864519725531734,
          0.12873241031679963,
          0.12888687025429135,
          0.12910833571377386,
          0.12939646265054872,
          0.12975080697640953,
          0.13017082793177756,
          0.13065589212400536,
          0.1312052781630957,
          0.1318181818181818,
          0.13249372161241257,
          0.13323094477044,
          0.13402883343147068,
          0.13488631104169957,
          0.13580224884270378,
          0.13677547237678794,
          0.13780476793606106,
          0.1388888888888889,
          0.1400265618249942,
          0.14121649246857837,
          0.14245737131713293,
          0.14374787897185562,
          0.14508669113356792,
          0.1464724832455835,
          0.14790393477196093,
          0.14937973310589867,
          0.1508985771086357,
          0.15245918028407657,
          0.15406027359846722,
          0.15570060795782686,
          0.15737895635852825,
          0.15909411572846593,
          0.16084490847771898,
          0.1626301837785637,
          0.16444881859518887,
          0.16629971848357886,
          0.1681818181818182,
          0.17009408201059506,
          0.17203550410299687,
          0.1740051084818425,
          0.17600194900183247,
          0.1780251091727507,
          0.1800737018788593,
          0.18214686900850946,
          0.18424378100687752,
          0.18636363636363637,
          0.18850566104630775,
          0.1906691078890169,
          0.19285325594540004,
          0.19505740981349748,
          0.19728089893960782,
          0.1995230769072819,
          0.20178332071689875,
          0.2040610300605896,
          0.2063556265966576,
          0.20866655322708008,
          0.21099327338116922,
          0.21333527030801097,
          0.21569204637988793,
          0.2180631224085257,
          0.22044803697567353,
          0.22284634577923979,
          0.22525762099594634,
          0.2276814506612399,
          0.23011743806700125,
          0.2325652011774204,
          0.23502437206325688,
          0.23749459635457543,
          0.2399755327119361,
          0.24246685231592516,
          0.2449682383748312,
          0.24747938565020705,
          0.25
         ],
         "y": [
          0.1,
          0.10101010101010102,
          0.10202020202020202,
          0.10303030303030304,
          0.10404040404040404,
          0.10505050505050506,
          0.10606060606060608,
          0.10707070707070708,
          0.1080808080808081,
          0.1090909090909091,
          0.11010101010101012,
          0.11111111111111112,
          0.11212121212121214,
          0.11313131313131314,
          0.11414141414141414,
          0.11515151515151516,
          0.11616161616161616,
          0.11717171717171718,
          0.1181818181818182,
          0.11919191919191921,
          0.12020202020202023,
          0.12121212121212122,
          0.12222222222222223,
          0.12323232323232323,
          0.12424242424242425,
          0.12525252525252525,
          0.12626262626262627,
          0.1272727272727273,
          0.1282828282828283,
          0.1292929292929293,
          0.1303030303030303,
          0.13131313131313133,
          0.13232323232323234,
          0.13333333333333336,
          0.13434343434343438,
          0.13535353535353536,
          0.13636363636363638,
          0.13737373737373737,
          0.1383838383838384,
          0.1393939393939394,
          0.14040404040404042,
          0.14141414141414144,
          0.14242424242424243,
          0.14343434343434344,
          0.14444444444444446,
          0.14545454545454548,
          0.14646464646464646,
          0.14747474747474748,
          0.1484848484848485,
          0.14949494949494951,
          0.15050505050505053,
          0.15151515151515155,
          0.15252525252525254,
          0.15353535353535355,
          0.15454545454545457,
          0.15555555555555556,
          0.15656565656565657,
          0.1575757575757576,
          0.1585858585858586,
          0.15959595959595962,
          0.1606060606060606,
          0.16161616161616163,
          0.16262626262626262,
          0.16363636363636364,
          0.16464646464646468,
          0.16565656565656567,
          0.16666666666666669,
          0.1676767676767677,
          0.16868686868686872,
          0.1696969696969697,
          0.17070707070707072,
          0.1717171717171717,
          0.17272727272727276,
          0.17373737373737377,
          0.17474747474747476,
          0.17575757575757578,
          0.1767676767676768,
          0.17777777777777778,
          0.1787878787878788,
          0.17979797979797982,
          0.18080808080808083,
          0.18181818181818185,
          0.18282828282828287,
          0.18383838383838386,
          0.18484848484848485,
          0.18585858585858586,
          0.18686868686868688,
          0.1878787878787879,
          0.1888888888888889,
          0.18989898989898993,
          0.19090909090909094,
          0.19191919191919193,
          0.19292929292929295,
          0.19393939393939394,
          0.19494949494949496,
          0.19595959595959597,
          0.196969696969697,
          0.197979797979798,
          0.19898989898989902,
          0.2
         ]
        },
        {
         "marker": {
          "color": "#3366CC",
          "opacity": 0.5,
          "size": 8
         },
         "mode": "markers",
         "name": "Corr 0.5",
         "type": "scatter",
         "x": [
          0.15,
          0.149763443030944,
          0.1495589202469929,
          0.14938656322069507,
          0.14924648339178995,
          0.14913877171018178,
          0.14906349834251295,
          0.14902071244453158,
          0.14901044200096833,
          0.14903269373413638,
          0.14908745308194987,
          0.14917468424552835,
          0.14929433030602446,
          0.14944631340978723,
          0.1496305350204601,
          0.14984687623611873,
          0.15009519816908531,
          0.1503753423856188,
          0.15068713140227977,
          0.15103036923541088,
          0.1514048419998579,
          0.1518103185527917,
          0.15224655117827468,
          0.1527132763080496,
          0.15321021527391426,
          0.15373707508698212,
          0.1542935492391123,
          0.15487931852182565,
          0.15549405185809728,
          0.15613740714253244,
          0.15680903208558492,
          0.15750856505766225,
          0.15823563592917497,
          0.15898986690282427,
          0.1597708733346786,
          0.1605782645408612,
          0.16141164458695184,
          0.16227061305749385,
          0.16315476580328903,
          0.1640636956644524,
          0.1649969931674841,
          0.1659542471948949,
          0.16693504562619121,
          0.1679389759492822,
          0.16896562584161723,
          0.1700145837205913,
          0.17108543926296968,
          0.17217778389328103,
          0.1732912112413098,
          0.17442531756898105,
          0.17557970216707938,
          0.17675396772237242,
          0.17794772065582468,
          0.17916057143268468,
          0.180392134845313,
          0.18164203026968684,
          0.1829098818965745,
          0.1841953189384155,
          0.18549797581297525,
          0.18681749230486547,
          0.1881535137060335,
          0.18950569093632885,
          0.1908736806452503,
          0.1922571452959691,
          0.19365575323270548,
          0.1950691787325164,
          0.19649710204252663,
          0.19793920940360596,
          0.1993951930614647,
          0.2008647512661038,
          0.20234758826052143,
          0.203843414259539,
          0.20535194541957302,
          0.2068729038001385,
          0.20840601731783126,
          0.20995101969349844,
          0.2115076503932662,
          0.21307565456405675,
          0.21465478296418908,
          0.21624479188962165,
          0.2178454430963595,
          0.21945650371951475,
          0.22107774618947598,
          0.22270894814561015,
          0.22434989234789163,
          0.22600036658682177,
          0.22766016359197727,
          0.2293290809394976,
          0.23100692095879768,
          0.23269349063876826,
          0.23438860153370433,
          0.23609206966918117,
          0.2378037154480773,
          0.23952336355692636,
          0.24125084287276113,
          0.24298598637059834,
          0.24472863103169665,
          0.24647861775270644,
          0.2482357912558179,
          0.25
         ],
         "y": [
          0.1,
          0.10101010101010102,
          0.10202020202020202,
          0.10303030303030304,
          0.10404040404040404,
          0.10505050505050506,
          0.10606060606060608,
          0.10707070707070708,
          0.1080808080808081,
          0.1090909090909091,
          0.11010101010101012,
          0.11111111111111112,
          0.11212121212121214,
          0.11313131313131314,
          0.11414141414141414,
          0.11515151515151516,
          0.11616161616161616,
          0.11717171717171718,
          0.1181818181818182,
          0.11919191919191921,
          0.12020202020202023,
          0.12121212121212122,
          0.12222222222222223,
          0.12323232323232323,
          0.12424242424242425,
          0.12525252525252525,
          0.12626262626262627,
          0.1272727272727273,
          0.1282828282828283,
          0.1292929292929293,
          0.1303030303030303,
          0.13131313131313133,
          0.13232323232323234,
          0.13333333333333336,
          0.13434343434343438,
          0.13535353535353536,
          0.13636363636363638,
          0.13737373737373737,
          0.1383838383838384,
          0.1393939393939394,
          0.14040404040404042,
          0.14141414141414144,
          0.14242424242424243,
          0.14343434343434344,
          0.14444444444444446,
          0.14545454545454548,
          0.14646464646464646,
          0.14747474747474748,
          0.1484848484848485,
          0.14949494949494951,
          0.15050505050505053,
          0.15151515151515155,
          0.15252525252525254,
          0.15353535353535355,
          0.15454545454545457,
          0.15555555555555556,
          0.15656565656565657,
          0.1575757575757576,
          0.1585858585858586,
          0.15959595959595962,
          0.1606060606060606,
          0.16161616161616163,
          0.16262626262626262,
          0.16363636363636364,
          0.16464646464646468,
          0.16565656565656567,
          0.16666666666666669,
          0.1676767676767677,
          0.16868686868686872,
          0.1696969696969697,
          0.17070707070707072,
          0.1717171717171717,
          0.17272727272727276,
          0.17373737373737377,
          0.17474747474747476,
          0.17575757575757578,
          0.1767676767676768,
          0.17777777777777778,
          0.1787878787878788,
          0.17979797979797982,
          0.18080808080808083,
          0.18181818181818185,
          0.18282828282828287,
          0.18383838383838386,
          0.18484848484848485,
          0.18585858585858586,
          0.18686868686868688,
          0.1878787878787879,
          0.1888888888888889,
          0.18989898989898993,
          0.19090909090909094,
          0.19191919191919193,
          0.19292929292929295,
          0.19393939393939394,
          0.19494949494949496,
          0.19595959595959597,
          0.196969696969697,
          0.197979797979798,
          0.19898989898989902,
          0.2
         ]
        },
        {
         "marker": {
          "color": "#FF6633",
          "opacity": 0.5,
          "size": 8
         },
         "mode": "markers",
         "name": "Corr 1",
         "type": "scatter",
         "x": [
          0.15,
          0.151010101010101,
          0.15202020202020203,
          0.15303030303030304,
          0.15404040404040403,
          0.15505050505050505,
          0.15606060606060607,
          0.15707070707070706,
          0.1580808080808081,
          0.1590909090909091,
          0.1601010101010101,
          0.16111111111111112,
          0.1621212121212121,
          0.16313131313131313,
          0.16414141414141414,
          0.16515151515151516,
          0.16616161616161615,
          0.16717171717171717,
          0.16818181818181815,
          0.16919191919191917,
          0.17020202020202022,
          0.1712121212121212,
          0.17222222222222222,
          0.17323232323232324,
          0.17424242424242425,
          0.17525252525252524,
          0.17626262626262626,
          0.17727272727272728,
          0.1782828282828283,
          0.17929292929292928,
          0.1803030303030303,
          0.18131313131313131,
          0.18232323232323233,
          0.18333333333333332,
          0.18434343434343436,
          0.18535353535353535,
          0.18636363636363637,
          0.1873737373737374,
          0.1883838383838384,
          0.18939393939393936,
          0.1904040404040404,
          0.19141414141414143,
          0.19242424242424241,
          0.19343434343434343,
          0.19444444444444445,
          0.19545454545454546,
          0.19646464646464645,
          0.19747474747474747,
          0.1984848484848485,
          0.1994949494949495,
          0.20050505050505052,
          0.20151515151515154,
          0.20252525252525252,
          0.20353535353535354,
          0.20454545454545453,
          0.20555555555555557,
          0.2065656565656566,
          0.20757575757575758,
          0.2085858585858586,
          0.20959595959595959,
          0.2106060606060606,
          0.21161616161616162,
          0.21262626262626264,
          0.21363636363636365,
          0.21464646464646464,
          0.21565656565656566,
          0.21666666666666667,
          0.2176767676767677,
          0.2186868686868687,
          0.2196969696969697,
          0.2207070707070707,
          0.22171717171717173,
          0.22272727272727272,
          0.22373737373737373,
          0.22474747474747475,
          0.2257575757575758,
          0.22676767676767678,
          0.22777777777777777,
          0.2287878787878788,
          0.2297979797979798,
          0.23080808080808082,
          0.2318181818181818,
          0.23282828282828283,
          0.23383838383838385,
          0.23484848484848486,
          0.23585858585858585,
          0.2368686868686869,
          0.23787878787878788,
          0.2388888888888889,
          0.23989898989898992,
          0.2409090909090909,
          0.24191919191919195,
          0.24292929292929294,
          0.24393939393939396,
          0.24494949494949497,
          0.245959595959596,
          0.24696969696969698,
          0.247979797979798,
          0.248989898989899,
          0.25
         ],
         "y": [
          0.1,
          0.10101010101010102,
          0.10202020202020202,
          0.10303030303030304,
          0.10404040404040404,
          0.10505050505050506,
          0.10606060606060608,
          0.10707070707070708,
          0.1080808080808081,
          0.1090909090909091,
          0.11010101010101012,
          0.11111111111111112,
          0.11212121212121214,
          0.11313131313131314,
          0.11414141414141414,
          0.11515151515151516,
          0.11616161616161616,
          0.11717171717171718,
          0.1181818181818182,
          0.11919191919191921,
          0.12020202020202023,
          0.12121212121212122,
          0.12222222222222223,
          0.12323232323232323,
          0.12424242424242425,
          0.12525252525252525,
          0.12626262626262627,
          0.1272727272727273,
          0.1282828282828283,
          0.1292929292929293,
          0.1303030303030303,
          0.13131313131313133,
          0.13232323232323234,
          0.13333333333333336,
          0.13434343434343438,
          0.13535353535353536,
          0.13636363636363638,
          0.13737373737373737,
          0.1383838383838384,
          0.1393939393939394,
          0.14040404040404042,
          0.14141414141414144,
          0.14242424242424243,
          0.14343434343434344,
          0.14444444444444446,
          0.14545454545454548,
          0.14646464646464646,
          0.14747474747474748,
          0.1484848484848485,
          0.14949494949494951,
          0.15050505050505053,
          0.15151515151515155,
          0.15252525252525254,
          0.15353535353535355,
          0.15454545454545457,
          0.15555555555555556,
          0.15656565656565657,
          0.1575757575757576,
          0.1585858585858586,
          0.15959595959595962,
          0.1606060606060606,
          0.16161616161616163,
          0.16262626262626262,
          0.16363636363636364,
          0.16464646464646468,
          0.16565656565656567,
          0.16666666666666669,
          0.1676767676767677,
          0.16868686868686872,
          0.1696969696969697,
          0.17070707070707072,
          0.1717171717171717,
          0.17272727272727276,
          0.17373737373737377,
          0.17474747474747476,
          0.17575757575757578,
          0.1767676767676768,
          0.17777777777777778,
          0.1787878787878788,
          0.17979797979797982,
          0.18080808080808083,
          0.18181818181818185,
          0.18282828282828287,
          0.18383838383838386,
          0.18484848484848485,
          0.18585858585858586,
          0.18686868686868688,
          0.1878787878787879,
          0.1888888888888889,
          0.18989898989898993,
          0.19090909090909094,
          0.19191919191919193,
          0.19292929292929295,
          0.19393939393939394,
          0.19494949494949496,
          0.19595959595959597,
          0.196969696969697,
          0.197979797979798,
          0.19898989898989902,
          0.2
         ]
        },
        {
         "marker": {
          "color": "red",
          "size": 20,
          "symbol": "star"
         },
         "mode": "markers",
         "name": "Activo 1",
         "type": "scatter",
         "x": [
          0.25
         ],
         "y": [
          0.2
         ]
        },
        {
         "marker": {
          "color": "green",
          "size": 20,
          "symbol": "star"
         },
         "mode": "markers",
         "name": "Activo 2",
         "type": "scatter",
         "x": [
          0.15
         ],
         "y": [
          0.1
         ]
        }
       ],
       "layout": {
        "font": {
         "size": 20
        },
        "template": {
         "data": {
          "bar": [
           {
            "error_x": {
             "color": "#2a3f5f"
            },
            "error_y": {
             "color": "#2a3f5f"
            },
            "marker": {
             "line": {
              "color": "#E5ECF6",
              "width": 0.5
             },
             "pattern": {
              "fillmode": "overlay",
              "size": 10,
              "solidity": 0.2
             }
            },
            "type": "bar"
           }
          ],
          "barpolar": [
           {
            "marker": {
             "line": {
              "color": "#E5ECF6",
              "width": 0.5
             },
             "pattern": {
              "fillmode": "overlay",
              "size": 10,
              "solidity": 0.2
             }
            },
            "type": "barpolar"
           }
          ],
          "carpet": [
           {
            "aaxis": {
             "endlinecolor": "#2a3f5f",
             "gridcolor": "white",
             "linecolor": "white",
             "minorgridcolor": "white",
             "startlinecolor": "#2a3f5f"
            },
            "baxis": {
             "endlinecolor": "#2a3f5f",
             "gridcolor": "white",
             "linecolor": "white",
             "minorgridcolor": "white",
             "startlinecolor": "#2a3f5f"
            },
            "type": "carpet"
           }
          ],
          "choropleth": [
           {
            "colorbar": {
             "outlinewidth": 0,
             "ticks": ""
            },
            "type": "choropleth"
           }
          ],
          "contour": [
           {
            "colorbar": {
             "outlinewidth": 0,
             "ticks": ""
            },
            "colorscale": [
             [
              0,
              "#0d0887"
             ],
             [
              0.1111111111111111,
              "#46039f"
             ],
             [
              0.2222222222222222,
              "#7201a8"
             ],
             [
              0.3333333333333333,
              "#9c179e"
             ],
             [
              0.4444444444444444,
              "#bd3786"
             ],
             [
              0.5555555555555556,
              "#d8576b"
             ],
             [
              0.6666666666666666,
              "#ed7953"
             ],
             [
              0.7777777777777778,
              "#fb9f3a"
             ],
             [
              0.8888888888888888,
              "#fdca26"
             ],
             [
              1,
              "#f0f921"
             ]
            ],
            "type": "contour"
           }
          ],
          "contourcarpet": [
           {
            "colorbar": {
             "outlinewidth": 0,
             "ticks": ""
            },
            "type": "contourcarpet"
           }
          ],
          "heatmap": [
           {
            "colorbar": {
             "outlinewidth": 0,
             "ticks": ""
            },
            "colorscale": [
             [
              0,
              "#0d0887"
             ],
             [
              0.1111111111111111,
              "#46039f"
             ],
             [
              0.2222222222222222,
              "#7201a8"
             ],
             [
              0.3333333333333333,
              "#9c179e"
             ],
             [
              0.4444444444444444,
              "#bd3786"
             ],
             [
              0.5555555555555556,
              "#d8576b"
             ],
             [
              0.6666666666666666,
              "#ed7953"
             ],
             [
              0.7777777777777778,
              "#fb9f3a"
             ],
             [
              0.8888888888888888,
              "#fdca26"
             ],
             [
              1,
              "#f0f921"
             ]
            ],
            "type": "heatmap"
           }
          ],
          "histogram": [
           {
            "marker": {
             "pattern": {
              "fillmode": "overlay",
              "size": 10,
              "solidity": 0.2
             }
            },
            "type": "histogram"
           }
          ],
          "histogram2d": [
           {
            "colorbar": {
             "outlinewidth": 0,
             "ticks": ""
            },
            "colorscale": [
             [
              0,
              "#0d0887"
             ],
             [
              0.1111111111111111,
              "#46039f"
             ],
             [
              0.2222222222222222,
              "#7201a8"
             ],
             [
              0.3333333333333333,
              "#9c179e"
             ],
             [
              0.4444444444444444,
              "#bd3786"
             ],
             [
              0.5555555555555556,
              "#d8576b"
             ],
             [
              0.6666666666666666,
              "#ed7953"
             ],
             [
              0.7777777777777778,
              "#fb9f3a"
             ],
             [
              0.8888888888888888,
              "#fdca26"
             ],
             [
              1,
              "#f0f921"
             ]
            ],
            "type": "histogram2d"
           }
          ],
          "histogram2dcontour": [
           {
            "colorbar": {
             "outlinewidth": 0,
             "ticks": ""
            },
            "colorscale": [
             [
              0,
              "#0d0887"
             ],
             [
              0.1111111111111111,
              "#46039f"
             ],
             [
              0.2222222222222222,
              "#7201a8"
             ],
             [
              0.3333333333333333,
              "#9c179e"
             ],
             [
              0.4444444444444444,
              "#bd3786"
             ],
             [
              0.5555555555555556,
              "#d8576b"
             ],
             [
              0.6666666666666666,
              "#ed7953"
             ],
             [
              0.7777777777777778,
              "#fb9f3a"
             ],
             [
              0.8888888888888888,
              "#fdca26"
             ],
             [
              1,
              "#f0f921"
             ]
            ],
            "type": "histogram2dcontour"
           }
          ],
          "mesh3d": [
           {
            "colorbar": {
             "outlinewidth": 0,
             "ticks": ""
            },
            "type": "mesh3d"
           }
          ],
          "parcoords": [
           {
            "line": {
             "colorbar": {
              "outlinewidth": 0,
              "ticks": ""
             }
            },
            "type": "parcoords"
           }
          ],
          "pie": [
           {
            "automargin": true,
            "type": "pie"
           }
          ],
          "scatter": [
           {
            "fillpattern": {
             "fillmode": "overlay",
             "size": 10,
             "solidity": 0.2
            },
            "type": "scatter"
           }
          ],
          "scatter3d": [
           {
            "line": {
             "colorbar": {
              "outlinewidth": 0,
              "ticks": ""
             }
            },
            "marker": {
             "colorbar": {
              "outlinewidth": 0,
              "ticks": ""
             }
            },
            "type": "scatter3d"
           }
          ],
          "scattercarpet": [
           {
            "marker": {
             "colorbar": {
              "outlinewidth": 0,
              "ticks": ""
             }
            },
            "type": "scattercarpet"
           }
          ],
          "scattergeo": [
           {
            "marker": {
             "colorbar": {
              "outlinewidth": 0,
              "ticks": ""
             }
            },
            "type": "scattergeo"
           }
          ],
          "scattergl": [
           {
            "marker": {
             "colorbar": {
              "outlinewidth": 0,
              "ticks": ""
             }
            },
            "type": "scattergl"
           }
          ],
          "scattermap": [
           {
            "marker": {
             "colorbar": {
              "outlinewidth": 0,
              "ticks": ""
             }
            },
            "type": "scattermap"
           }
          ],
          "scattermapbox": [
           {
            "marker": {
             "colorbar": {
              "outlinewidth": 0,
              "ticks": ""
             }
            },
            "type": "scattermapbox"
           }
          ],
          "scatterpolar": [
           {
            "marker": {
             "colorbar": {
              "outlinewidth": 0,
              "ticks": ""
             }
            },
            "type": "scatterpolar"
           }
          ],
          "scatterpolargl": [
           {
            "marker": {
             "colorbar": {
              "outlinewidth": 0,
              "ticks": ""
             }
            },
            "type": "scatterpolargl"
           }
          ],
          "scatterternary": [
           {
            "marker": {
             "colorbar": {
              "outlinewidth": 0,
              "ticks": ""
             }
            },
            "type": "scatterternary"
           }
          ],
          "surface": [
           {
            "colorbar": {
             "outlinewidth": 0,
             "ticks": ""
            },
            "colorscale": [
             [
              0,
              "#0d0887"
             ],
             [
              0.1111111111111111,
              "#46039f"
             ],
             [
              0.2222222222222222,
              "#7201a8"
             ],
             [
              0.3333333333333333,
              "#9c179e"
             ],
             [
              0.4444444444444444,
              "#bd3786"
             ],
             [
              0.5555555555555556,
              "#d8576b"
             ],
             [
              0.6666666666666666,
              "#ed7953"
             ],
             [
              0.7777777777777778,
              "#fb9f3a"
             ],
             [
              0.8888888888888888,
              "#fdca26"
             ],
             [
              1,
              "#f0f921"
             ]
            ],
            "type": "surface"
           }
          ],
          "table": [
           {
            "cells": {
             "fill": {
              "color": "#EBF0F8"
             },
             "line": {
              "color": "white"
             }
            },
            "header": {
             "fill": {
              "color": "#C8D4E3"
             },
             "line": {
              "color": "white"
             }
            },
            "type": "table"
           }
          ]
         },
         "layout": {
          "annotationdefaults": {
           "arrowcolor": "#2a3f5f",
           "arrowhead": 0,
           "arrowwidth": 1
          },
          "autotypenumbers": "strict",
          "coloraxis": {
           "colorbar": {
            "outlinewidth": 0,
            "ticks": ""
           }
          },
          "colorscale": {
           "diverging": [
            [
             0,
             "#8e0152"
            ],
            [
             0.1,
             "#c51b7d"
            ],
            [
             0.2,
             "#de77ae"
            ],
            [
             0.3,
             "#f1b6da"
            ],
            [
             0.4,
             "#fde0ef"
            ],
            [
             0.5,
             "#f7f7f7"
            ],
            [
             0.6,
             "#e6f5d0"
            ],
            [
             0.7,
             "#b8e186"
            ],
            [
             0.8,
             "#7fbc41"
            ],
            [
             0.9,
             "#4d9221"
            ],
            [
             1,
             "#276419"
            ]
           ],
           "sequential": [
            [
             0,
             "#0d0887"
            ],
            [
             0.1111111111111111,
             "#46039f"
            ],
            [
             0.2222222222222222,
             "#7201a8"
            ],
            [
             0.3333333333333333,
             "#9c179e"
            ],
            [
             0.4444444444444444,
             "#bd3786"
            ],
            [
             0.5555555555555556,
             "#d8576b"
            ],
            [
             0.6666666666666666,
             "#ed7953"
            ],
            [
             0.7777777777777778,
             "#fb9f3a"
            ],
            [
             0.8888888888888888,
             "#fdca26"
            ],
            [
             1,
             "#f0f921"
            ]
           ],
           "sequentialminus": [
            [
             0,
             "#0d0887"
            ],
            [
             0.1111111111111111,
             "#46039f"
            ],
            [
             0.2222222222222222,
             "#7201a8"
            ],
            [
             0.3333333333333333,
             "#9c179e"
            ],
            [
             0.4444444444444444,
             "#bd3786"
            ],
            [
             0.5555555555555556,
             "#d8576b"
            ],
            [
             0.6666666666666666,
             "#ed7953"
            ],
            [
             0.7777777777777778,
             "#fb9f3a"
            ],
            [
             0.8888888888888888,
             "#fdca26"
            ],
            [
             1,
             "#f0f921"
            ]
           ]
          },
          "colorway": [
           "#636efa",
           "#EF553B",
           "#00cc96",
           "#ab63fa",
           "#FFA15A",
           "#19d3f3",
           "#FF6692",
           "#B6E880",
           "#FF97FF",
           "#FECB52"
          ],
          "font": {
           "color": "#2a3f5f"
          },
          "geo": {
           "bgcolor": "white",
           "lakecolor": "white",
           "landcolor": "#E5ECF6",
           "showlakes": true,
           "showland": true,
           "subunitcolor": "white"
          },
          "hoverlabel": {
           "align": "left"
          },
          "hovermode": "closest",
          "mapbox": {
           "style": "light"
          },
          "paper_bgcolor": "white",
          "plot_bgcolor": "#E5ECF6",
          "polar": {
           "angularaxis": {
            "gridcolor": "white",
            "linecolor": "white",
            "ticks": ""
           },
           "bgcolor": "#E5ECF6",
           "radialaxis": {
            "gridcolor": "white",
            "linecolor": "white",
            "ticks": ""
           }
          },
          "scene": {
           "xaxis": {
            "backgroundcolor": "#E5ECF6",
            "gridcolor": "white",
            "gridwidth": 2,
            "linecolor": "white",
            "showbackground": true,
            "ticks": "",
            "zerolinecolor": "white"
           },
           "yaxis": {
            "backgroundcolor": "#E5ECF6",
            "gridcolor": "white",
            "gridwidth": 2,
            "linecolor": "white",
            "showbackground": true,
            "ticks": "",
            "zerolinecolor": "white"
           },
           "zaxis": {
            "backgroundcolor": "#E5ECF6",
            "gridcolor": "white",
            "gridwidth": 2,
            "linecolor": "white",
            "showbackground": true,
            "ticks": "",
            "zerolinecolor": "white"
           }
          },
          "shapedefaults": {
           "line": {
            "color": "#2a3f5f"
           }
          },
          "ternary": {
           "aaxis": {
            "gridcolor": "white",
            "linecolor": "white",
            "ticks": ""
           },
           "baxis": {
            "gridcolor": "white",
            "linecolor": "white",
            "ticks": ""
           },
           "bgcolor": "#E5ECF6",
           "caxis": {
            "gridcolor": "white",
            "linecolor": "white",
            "ticks": ""
           }
          },
          "title": {
           "x": 0.05
          },
          "xaxis": {
           "automargin": true,
           "gridcolor": "white",
           "linecolor": "white",
           "ticks": "",
           "title": {
            "standoff": 15
           },
           "zerolinecolor": "white",
           "zerolinewidth": 2
          },
          "yaxis": {
           "automargin": true,
           "gridcolor": "white",
           "linecolor": "white",
           "ticks": "",
           "title": {
            "standoff": 15
           },
           "zerolinecolor": "white",
           "zerolinewidth": 2
          }
         }
        },
        "title": {
         "text": "Cartera de dos activos variando el coeficiente de correlación",
         "x": 0.5
        },
        "xaxis": {
         "title": {
          "text": "Volatilidad"
         }
        },
        "yaxis": {
         "title": {
          "text": "Retorno"
         }
        }
       }
      }
     },
     "metadata": {},
     "output_type": "display_data"
    }
   ],
   "source": [
    "pesos_1 = np.linspace(0, 1, 100)\n",
    "coef_corr_lst = [-1, -0.8, -0.5, 0, 0.5, 1]\n",
    "\n",
    "# Definir un mapa de colores basado en coef_corr_lst\n",
    "colors = [\"#440154\", \"#3b528b\", \"#21918c\", \"#5ec962\", \"#3366CC\", \"#FF6633\"]\n",
    "\n",
    "# Ajustar el tamaño de la\n",
    "layout_width = 1200  # Ancho en píxeles\n",
    "layout_height = 700  # Altura en píxeles\n",
    "\n",
    "# Crear la figura de plotly\n",
    "fig = go.Figure()\n",
    "\n",
    "for idx, coef_corr_i in enumerate(coef_corr_lst):\n",
    "    ret_lst = []\n",
    "    std_lst = []\n",
    "\n",
    "    for w_1 in pesos_1:\n",
    "        w_2 = 1 - w_1\n",
    "        ret_p = calc_ret_cartera(w_1, w_2, ret1, ret2)\n",
    "        std_p = calc_std_cartera(w_1, w_2, std1, std2, coef_corr_i)\n",
    "\n",
    "        ret_lst.append(ret_p)\n",
    "        std_lst.append(std_p)\n",
    "\n",
    "    fig.add_trace(\n",
    "        go.Scatter(\n",
    "            x=std_lst,\n",
    "            y=ret_lst,\n",
    "            mode=\"markers\",\n",
    "            name=f\"Corr {coef_corr_i}\",\n",
    "            marker=dict(color=colors[idx], size=8, opacity=0.5),\n",
    "        )\n",
    "    )\n",
    "\n",
    "# Añadir puntos de activos individuales\n",
    "fig.add_trace(\n",
    "    go.Scatter(\n",
    "        x=[std1],\n",
    "        y=[ret1],\n",
    "        mode=\"markers\",\n",
    "        marker=dict(color=\"red\", size=20, symbol=\"star\"),\n",
    "        name=\"Activo 1\",\n",
    "    )\n",
    ")\n",
    "fig.add_trace(\n",
    "    go.Scatter(\n",
    "        x=[std2],\n",
    "        y=[ret2],\n",
    "        mode=\"markers\",\n",
    "        marker=dict(color=\"green\", size=20, symbol=\"star\"),\n",
    "        name=\"Activo 2\",\n",
    "    )\n",
    ")\n",
    "\n",
    "# Configurar títulos y etiquetas\n",
    "\n",
    "title_font_size = 20  # Tamaño de fuente del título\n",
    "\n",
    "fig.update_layout(\n",
    "    title=\"Cartera de dos activos variando el coeficiente de correlación\",\n",
    "    font=dict(size=title_font_size),\n",
    "    title_x=0.5,\n",
    "    # xanchor='center',\n",
    "    xaxis_title=\"Volatilidad\",\n",
    "    yaxis_title=\"Retorno\",\n",
    ")\n",
    "\n",
    "# Mostrar el gráfico\n",
    "fig.show()"
   ]
  },
  {
   "cell_type": "markdown",
   "metadata": {},
   "source": [
    "## 2. Cálculo de la cartera de mínima volatilidad"
   ]
  },
  {
   "cell_type": "markdown",
   "metadata": {},
   "source": [
    "Vamos a calcular la cartera de mínima varianza:\n",
    "\n",
    "* Partimos de la fórmula de la varianza de la cartera:\n",
    "\n",
    "    - $\\sigma^2_p= w_1^2\\sigma^2_1+w_2^2\\sigma^2_2+ 2w_1w_2 \\rho_{12} \\sigma_1 \\sigma_2 $\n",
    "    $$$$\n",
    "\n",
    "* Sustituimos $w_2=1-w_1$, calculamos la derivada respecto de $w_1$ e igualamos a 0:\n",
    "\n",
    "    - $\\dfrac{\\partial \\sigma^2_p}{\\partial w_1}= 2w_1\\sigma^2_1 - 2(1-w_1)\\sigma^2_2 + 2(1-2w_1) \\rho_{12} \\sigma_1 \\sigma_2 = 0$\n",
    "    $$$$\n",
    "\n",
    "* Despejamos $w_1$:\n",
    "\n",
    "    - $w_1 = \\dfrac{\\sigma_2²-\\rho_{12} \\sigma_1 \\sigma_2}{\\sigma_1²+\\sigma_2²-2 \\rho_{12} \\sigma_1 \\sigma_2}$\n",
    "    \n",
    "\n",
    "\n",
    "  \n",
    "\n"
   ]
  },
  {
   "cell_type": "markdown",
   "metadata": {},
   "source": [
    "En el caso de dos activos con correlación $\\rho_{12} = -1$:\n",
    "\n",
    "* $w_1 = \\dfrac{\\sigma_2²+\\sigma_1 \\sigma_2}{\\sigma_1²+\\sigma_2²+2 \\sigma_1 \\sigma_2} = \\dfrac{\\sigma_2(\\sigma_1+\\sigma_2)}{(\\sigma_1+\\sigma_2)²} = \\dfrac{\\sigma_2}{\\sigma_1+\\sigma_2}$"
   ]
  },
  {
   "cell_type": "markdown",
   "metadata": {},
   "source": [
    "Si lo aplicamos al ejemplo de la cartera con dos activos que hemos estado usando:"
   ]
  },
  {
   "cell_type": "code",
   "execution_count": 80,
   "metadata": {},
   "outputs": [
    {
     "name": "stdout",
     "output_type": "stream",
     "text": [
      "El peso del activo 1 es: 37.50%\n",
      "El peso del activo 2 es: 62.50%\n"
     ]
    }
   ],
   "source": [
    "p1 = std2 / (std1 + std2)\n",
    "p2 = 1 - p1\n",
    "print(f\"El peso del activo 1 es: {100*p1:.2f}%\")\n",
    "print(f\"El peso del activo 2 es: {100*p2:.2f}%\")"
   ]
  },
  {
   "cell_type": "code",
   "execution_count": 81,
   "metadata": {},
   "outputs": [
    {
     "name": "stdout",
     "output_type": "stream",
     "text": [
      "El retorno de la cartera es:13.75 %\n",
      "La volatilidad de la cartera es:0.00 %\n"
     ]
    }
   ],
   "source": [
    "# calculamos la rentabilidad y volatilidad de la cartera con los nuevos pesos\n",
    "print(f\"El retorno de la cartera es:{100*calc_ret_cartera(p1, p2, ret1, ret2):.2f} %\")\n",
    "print(\n",
    "    f\"La volatilidad de la cartera es:{100*calc_std_cartera(p1, p2, std1, std2, coef_corr_neg):.2f} %\"\n",
    ")"
   ]
  },
  {
   "cell_type": "markdown",
   "metadata": {},
   "source": [
    "**CONCLUSIONES**\n",
    "\n",
    "Recordad que con los pesos iniciales y $\\rho_{12}=1$ nos dió:\n",
    "\n",
    "* $E(\\tilde R_p) = 14$%\n",
    "\n",
    "* $\\sigma_p = 19$%\n",
    "\n",
    "Y hemos visto que con $\\rho_{12}=-1$ y la fórmula de la cartera de mínima varianza nos ha dado:\n",
    "\n",
    "* $E(\\tilde R_p) = 13.75$%\n",
    "\n",
    "* $\\sigma_p = 0$%\n",
    "\n",
    "Gracias a la **diversificación**, obtenemos casi la misma rentabilidad pero **sin riesgo**."
   ]
  },
  {
   "cell_type": "markdown",
   "metadata": {},
   "source": [
    "## EJERCICIO\n",
    "\n",
    "\n",
    "Bájate la información de Telefónica y del Banco Santander de los años 2022 y 2023 y haz los siguientes apartados:\n",
    "\n",
    "1- Genera 100 carteras modificando el peso en el activo 1 con saltos de 0.01 y dibuja la gráfica en el plano rentabilidad-riesgo de todas las carteras y de los dos activos.\n",
    "\n",
    "2- Crea la cartera de volatilidad mínima e inclúyela en la gráfica que has generado antes.\n",
    "\n",
    "3- Compara la rentabilidad, volatilidad, asimetría y kurtosis de los activos y de la cartera."
   ]
  },
  {
   "cell_type": "code",
   "execution_count": null,
   "metadata": {},
   "outputs": [],
   "source": []
  }
 ],
 "metadata": {
  "kernelspec": {
   "display_name": ".venv",
   "language": "python",
   "name": "python3"
  },
  "language_info": {
   "codemirror_mode": {
    "name": "ipython",
    "version": 3
   },
   "file_extension": ".py",
   "mimetype": "text/x-python",
   "name": "python",
   "nbconvert_exporter": "python",
   "pygments_lexer": "ipython3",
   "version": "3.10.6"
  }
 },
 "nbformat": 4,
 "nbformat_minor": 2
}
