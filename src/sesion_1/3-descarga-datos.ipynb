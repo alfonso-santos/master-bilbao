{
 "cells": [
  {
   "cell_type": "markdown",
   "metadata": {},
   "source": [
    "<div style=\"display: flex; align-items: flex-start; justify-content: space-between;\">\n",
    "    <div style=\"width: 75%; padding-top: 10px;\">\n",
    "        <h1>Descarga de datos de Yahoo Finance</h1>\n",
    "        <p>En este notebook vamos a ver cómo descargar datos de Yahoo Finance para poder trabajar con ellos.</p>\n",
    "        <p>Para ello vamos a utilizar la librería <strong>yfinance</strong> de python.</p>\n",
    "        <ul>\n",
    "            <li><a href=\"https://yfinance-python.org/index.html\"> Documentación de yfinance </a></li>\n",
    "        </ul>\n",
    "    </div>\n",
    "    <div style=\"width: 15%;\">\n",
    "        <img src=\"https://github.com/alfonso-santos/master-bilbao/blob/main/imgs/logo.PNG?raw=true\" \n",
    "             alt=\"Logos de Python y la UAM\" \n",
    "             style=\"max-width: 100%;\">\n",
    "    </div>\n",
    "</div>\n"
   ]
  },
  {
   "cell_type": "markdown",
   "metadata": {},
   "source": [
    "## Descarga de Datos con `yfinance`\n",
    "\n",
    "La librería `yfinance` de Python nos permite obtener datos financieros de manera sencilla a través de la API de Yahoo Finance. Con ella, podemos descargar tanto datos históricos de precios **OHLC** (*Open, High, Low, Close*) como información fundamental de empresas.\n",
    "\n",
    "Entre los datos disponibles se incluyen:\n",
    "- **Precios históricos**: Apertura, máximo, mínimo, cierre, volumen y precio ajustado.\n",
    "- **Información de la empresa**: Nombre, sector, capitalización bursátil, dividendos, ratios financieros y más.\n",
    "\n",
    "Esta herramienta es muy útil para análisis de mercados y construcción de modelos cuantitativos de inversión.\n"
   ]
  },
  {
   "cell_type": "markdown",
   "metadata": {},
   "source": [
    "Importamos las librerías base."
   ]
  },
  {
   "cell_type": "code",
   "execution_count": 1,
   "metadata": {},
   "outputs": [],
   "source": [
    "import numpy as np\n",
    "import pandas as pd\n",
    "import seaborn as sns\n",
    "import matplotlib.pyplot as plt\n",
    "import warnings\n",
    "\n",
    "warnings.simplefilter(action=\"ignore\", category=FutureWarning)"
   ]
  },
  {
   "cell_type": "markdown",
   "metadata": {},
   "source": [
    "Para instalar la libería si fuese necesario:\n",
    "\n",
    "```!pip install yfinance```"
   ]
  },
  {
   "cell_type": "code",
   "execution_count": 2,
   "metadata": {},
   "outputs": [],
   "source": [
    "import yfinance as yf"
   ]
  },
  {
   "cell_type": "markdown",
   "metadata": {},
   "source": [
    "### Empezamos bajando datos de precios históricos"
   ]
  },
  {
   "cell_type": "code",
   "execution_count": null,
   "metadata": {},
   "outputs": [
    {
     "name": "stderr",
     "output_type": "stream",
     "text": [
      "[*********************100%***********************]  1 of 1 completed\n"
     ]
    }
   ],
   "source": [
    "# Descargamos los precios de Apple\n",
    "\n",
    "ticker = \"AAPL\" # Ticker de Apple\n",
    "\n",
    "prices_aapl = yf.download(\n",
    "    ticker,\n",
    "    auto_adjust=False,  # False nos devuelve 'Close' y 'Adj. Close' por separado. True hace que Close = Adj. Close\n",
    "    multi_level_index=False,  # No queremos multi-indice en esta ocasión.\n",
    ") "
   ]
  },
  {
   "cell_type": "code",
   "execution_count": null,
   "metadata": {},
   "outputs": [
    {
     "name": "stdout",
     "output_type": "stream",
     "text": [
      "<class 'pandas.core.frame.DataFrame'>\n",
      "DatetimeIndex: 11156 entries, 1980-12-12 to 2025-03-18\n",
      "Data columns (total 6 columns):\n",
      " #   Column     Non-Null Count  Dtype  \n",
      "---  ------     --------------  -----  \n",
      " 0   Adj Close  11156 non-null  float64\n",
      " 1   Close      11156 non-null  float64\n",
      " 2   High       11156 non-null  float64\n",
      " 3   Low        11156 non-null  float64\n",
      " 4   Open       11156 non-null  float64\n",
      " 5   Volume     11156 non-null  int64  \n",
      "dtypes: float64(5), int64(1)\n",
      "memory usage: 610.1 KB\n"
     ]
    }
   ],
   "source": [
    "# Mostramos la información de los precios descargados\n",
    "\n",
    "prices_aapl.info()"
   ]
  },
  {
   "cell_type": "code",
   "execution_count": null,
   "metadata": {},
   "outputs": [
    {
     "name": "stderr",
     "output_type": "stream",
     "text": [
      "[*********************100%***********************]  1 of 1 completed\n"
     ]
    }
   ],
   "source": [
    "# Descargamos los datos de Apple ('AAPL') entre los años 2000 y 2010\n",
    "\n",
    "\n",
    "start_date = \"2000-01-01\" # Fecha de inicio\n",
    "end_date = \"2011-01-01\" # Fecha de fin\n",
    "\n",
    "prices_aapl = yf.download(\n",
    "    ticker,\n",
    "    start=start_date,\n",
    "    end=end_date,  \n",
    "    auto_adjust=False,  # False nos devuelve 'Close' y 'Adj. Close' por separado. True hace que Close = Adj. Close\n",
    "    multi_level_index=False,  # No queremos multi-indice en esta ocasión.\n",
    ")  "
   ]
  },
  {
   "cell_type": "markdown",
   "metadata": {},
   "source": [
    "La variable `data_yahoo` es un DataFrame de Pandas con la siguiente información:\n",
    "\n",
    "* Como índice del DataFrame, **Date**: La fecha a la que se recoge la información\n",
    "* **Open**: Precio de apertura del activo\n",
    "* **High**: Precio máximo alcanzado por el activo\n",
    "* **Low**: Precio mínimo alcanzado por el activo\n",
    "* **Close**: Precio de cierre del activo\n",
    "* **Adj Close**: Precio de cierre ajustado por eventos corporativos, como dividendos, splits, etc.\n",
    "* **Volume**: Valor de las transacciones negociadas\n",
    "\n",
    "Veamos el aspecto que tiene:"
   ]
  },
  {
   "cell_type": "code",
   "execution_count": 5,
   "metadata": {},
   "outputs": [
    {
     "data": {
      "application/vnd.microsoft.datawrangler.viewer.v0+json": {
       "columns": [
        {
         "name": "Date",
         "rawType": "datetime64[ns]",
         "type": "datetime"
        },
        {
         "name": "Adj Close",
         "rawType": "float64",
         "type": "float"
        },
        {
         "name": "Close",
         "rawType": "float64",
         "type": "float"
        },
        {
         "name": "High",
         "rawType": "float64",
         "type": "float"
        },
        {
         "name": "Low",
         "rawType": "float64",
         "type": "float"
        },
        {
         "name": "Open",
         "rawType": "float64",
         "type": "float"
        },
        {
         "name": "Volume",
         "rawType": "int64",
         "type": "integer"
        }
       ],
       "conversionMethod": "pd.DataFrame",
       "ref": "9102dce7-fe55-49a7-ab64-5f0e2cf776c6",
       "rows": [
        [
         "2000-01-03 00:00:00",
         "0.8421504497528076",
         "0.9994419813156128",
         "1.004464030265808",
         "0.9079239964485168",
         "0.9363840222358704",
         "535796800"
        ],
        [
         "2000-01-04 00:00:00",
         "0.7711488604545593",
         "0.9151790142059326",
         "0.9877229928970337",
         "0.9034600257873535",
         "0.966517984867096",
         "512377600"
        ],
        [
         "2000-01-05 00:00:00",
         "0.782433271408081",
         "0.9285709857940674",
         "0.9871649742126465",
         "0.919642984867096",
         "0.9263389706611633",
         "778321600"
        ],
        [
         "2000-01-06 00:00:00",
         "0.7147226929664612",
         "0.8482139706611633",
         "0.955357015132904",
         "0.8482139706611633",
         "0.9475449919700623",
         "767972800"
        ],
        [
         "2000-01-07 00:00:00",
         "0.7485785484313965",
         "0.888392984867096",
         "0.9017860293388367",
         "0.8526790142059326",
         "0.861607015132904",
         "460734400"
        ],
        [
         "2000-01-10 00:00:00",
         "0.73541259765625",
         "0.872767984867096",
         "0.9129459857940674",
         "0.845982015132904",
         "0.9107139706611633",
         "505064000"
        ],
        [
         "2000-01-11 00:00:00",
         "0.6977952122688293",
         "0.828125",
         "0.8872770071029663",
         "0.8080360293388367",
         "0.8565850257873535",
         "441548800"
        ],
        [
         "2000-01-12 00:00:00",
         "0.6559465527534485",
         "0.7784600257873535",
         "0.8526790142059326",
         "0.7723209857940674",
         "0.8482139706611633",
         "976068800"
        ],
        [
         "2000-01-13 00:00:00",
         "0.7278884053230286",
         "0.8638389706611633",
         "0.8816959857940674",
         "0.825892984867096",
         "0.8436099886894226",
         "1032684800"
        ],
        [
         "2000-01-14 00:00:00",
         "0.7556312084197998",
         "0.896763026714325",
         "0.9129459857940674",
         "0.8872770071029663",
         "0.892857015132904",
         "390376000"
        ],
        [
         "2000-01-18 00:00:00",
         "0.7819629907608032",
         "0.928013026714325",
         "0.9464290142059326",
         "0.896763026714325",
         "0.9017860293388367",
         "459177600"
        ],
        [
         "2000-01-19 00:00:00",
         "0.8017122149467468",
         "0.9514510035514832",
         "0.970982015132904",
         "0.9229909777641296",
         "0.9430800080299377",
         "597643200"
        ],
        [
         "2000-01-20 00:00:00",
         "0.8539060950279236",
         "1.0133930444717407",
         "1.0848209857940674",
         "1.0133930444717407",
         "1.03125",
         "1831132800"
        ],
        [
         "2000-01-21 00:00:00",
         "0.8374485969543457",
         "0.993861973285675",
         "1.020089030265808",
         "0.9838169813156128",
         "1.020089030265808",
         "495924800"
        ],
        [
         "2000-01-24 00:00:00",
         "0.799361526966095",
         "0.9486610293388367",
         "1.0066959857940674",
         "0.9386159777641296",
         "0.9681919813156128",
         "440876800"
        ],
        [
         "2000-01-25 00:00:00",
         "0.8445014953613281",
         "1.0022319555282593",
         "1.010045051574707",
         "0.9140629768371582",
         "0.9375",
         "497145600"
        ],
        [
         "2000-01-26 00:00:00",
         "0.8289844989776611",
         "0.9838169813156128",
         "1.019531011581421",
         "0.9799110293388367",
         "0.982142984867096",
         "367158400"
        ],
        [
         "2000-01-27 00:00:00",
         "0.8275739550590515",
         "0.982142984867096",
         "1.0089290142059326",
         "0.955357015132904",
         "0.9715399742126465",
         "340144000"
        ],
        [
         "2000-01-28 00:00:00",
         "0.7645654678344727",
         "0.9073659777641296",
         "0.9899550080299377",
         "0.8984379768371582",
         "0.9659600257873535",
         "423348800"
        ],
        [
         "2000-01-31 00:00:00",
         "0.7805524468421936",
         "0.9263389706611633",
         "0.9274550080299377",
         "0.84375",
         "0.9017860293388367",
         "701680000"
        ],
        [
         "2000-02-01 00:00:00",
         "0.7542206048965454",
         "0.8950889706611633",
         "0.9375",
         "0.892857015132904",
         "0.9285709857940674",
         "318035200"
        ],
        [
         "2000-02-02 00:00:00",
         "0.7434055209159851",
         "0.8822540044784546",
         "0.9118300080299377",
         "0.8660709857940674",
         "0.8995540142059326",
         "464195200"
        ],
        [
         "2000-02-03 00:00:00",
         "0.7772610783576965",
         "0.9224330186843872",
         "0.9308040142059326",
         "0.8950889706611633",
         "0.8956469893455505",
         "475193600"
        ],
        [
         "2000-02-04 00:00:00",
         "0.8125274777412415",
         "0.9642860293388367",
         "0.982142984867096",
         "0.9252229928970337",
         "0.928013026714325",
         "425320000"
        ],
        [
         "2000-02-07 00:00:00",
         "0.8581379055976868",
         "1.0184149742126465",
         "1.020089030265808",
         "0.9458709955215454",
         "0.9642860293388367",
         "441067200"
        ],
        [
         "2000-02-08 00:00:00",
         "0.864250898361206",
         "1.025670051574707",
         "1.036829948425293",
         "0.9933040142059326",
         "1.0178569555282593",
         "408643200"
        ],
        [
         "2000-02-09 00:00:00",
         "0.8473225831985474",
         "1.005579948425293",
         "1.0457589626312256",
         "1.003906011581421",
         "1.0189729928970337",
         "299364800"
        ],
        [
         "2000-02-10 00:00:00",
         "0.8539060950279236",
         "1.0133930444717407",
         "1.0167410373687744",
         "0.982142984867096",
         "1.0078129768371582",
         "302982400"
        ],
        [
         "2000-02-11 00:00:00",
         "0.8181697130203247",
         "0.970982015132904",
         "1.0189729928970337",
         "0.966517984867096",
         "1.0145089626312256",
         "212251200"
        ],
        [
         "2000-02-14 00:00:00",
         "0.8713033199310303",
         "1.0340399742126465",
         "1.0345979928970337",
         "0.9698659777641296",
         "0.9760040044784546",
         "367539200"
        ],
        [
         "2000-02-15 00:00:00",
         "0.8952845335006714",
         "1.0625",
         "1.0708709955215454",
         "1.0284600257873535",
         "1.0290180444717407",
         "485744000"
        ],
        [
         "2000-02-16 00:00:00",
         "0.8586079478263855",
         "1.0189729928970337",
         "1.0546879768371582",
         "1.0011160373687744",
         "1.051339030265808",
         "378246400"
        ],
        [
         "2000-02-17 00:00:00",
         "0.864250898361206",
         "1.025670051574707",
         "1.03125",
         "1.010045051574707",
         "1.0284600257873535",
         "289497600"
        ],
        [
         "2000-02-18 00:00:00",
         "0.8369786143302917",
         "0.9933040142059326",
         "1.0301339626312256",
         "0.9899550080299377",
         "1.0234379768371582",
         "233441600"
        ],
        [
         "2000-02-22 00:00:00",
         "0.8562567830085754",
         "1.0161830186843872",
         "1.0440850257873535",
         "0.9525669813156128",
         "0.9832590222358704",
         "422296000"
        ],
        [
         "2000-02-23 00:00:00",
         "0.8745949268341064",
         "1.0379459857940674",
         "1.0625",
         "0.9910709857940674",
         "1.0110210180282593",
         "473099200"
        ],
        [
         "2000-02-24 00:00:00",
         "0.8667188882827759",
         "1.0285990238189697",
         "1.0636160373687744",
         "0.997767984867096",
         "1.0474330186843872",
         "376432000"
        ],
        [
         "2000-02-25 00:00:00",
         "0.8303951621055603",
         "0.9854909777641296",
         "1.0446430444717407",
         "0.9832590222358704",
         "1.0251120328903198",
         "249144000"
        ],
        [
         "2000-02-28 00:00:00",
         "0.8520251512527466",
         "1.011160969734192",
         "1.026785969734192",
         "0.9676340222358704",
         "0.9832590222358704",
         "328328000"
        ],
        [
         "2000-02-29 00:00:00",
         "0.862369954586029",
         "1.0234379768371582",
         "1.046875",
         "1.0050220489501953",
         "1.0139509439468384",
         "368961600"
        ],
        [
         "2000-03-01 00:00:00",
         "0.9803925156593323",
         "1.1635040044784546",
         "1.1791290044784546",
         "1.058035969734192",
         "1.058593988418579",
         "1077003200"
        ],
        [
         "2000-03-02 00:00:00",
         "0.9178548455238342",
         "1.089285969734192",
         "1.1422990560531616",
         "1.0775669813156128",
         "1.1339290142059326",
         "311259200"
        ],
        [
         "2000-03-03 00:00:00",
         "0.9629945755004883",
         "1.1428569555282593",
         "1.144950032234192",
         "1.0714290142059326",
         "1.114954948425293",
         "323366400"
        ],
        [
         "2000-03-06 00:00:00",
         "0.9455975890159607",
         "1.1222100257873535",
         "1.1529020071029663",
         "1.1160709857940674",
         "1.125",
         "210560000"
        ],
        [
         "2000-03-07 00:00:00",
         "0.9244377017021179",
         "1.0970979928970337",
         "1.1378350257873535",
         "1.0814729928970337",
         "1.128906011581421",
         "273011200"
        ],
        [
         "2000-03-08 00:00:00",
         "0.9178548455238342",
         "1.089285969734192",
         "1.1065850257873535",
         "1.058593988418579",
         "1.0970979928970337",
         "271230400"
        ],
        [
         "2000-03-09 00:00:00",
         "0.9197362065315247",
         "1.0915180444717407",
         "1.1160709857940674",
         "1.0558040142059326",
         "1.0792410373687744",
         "276718400"
        ],
        [
         "2000-03-10 00:00:00",
         "0.9460675120353699",
         "1.1227680444717407",
         "1.1422990560531616",
         "1.0803569555282593",
         "1.0864959955215454",
         "248606400"
        ],
        [
         "2000-03-13 00:00:00",
         "0.9126821160316467",
         "1.0831470489501953",
         "1.129464030265808",
         "1.066964030265808",
         "1.0904020071029663",
         "303956800"
        ],
        [
         "2000-03-14 00:00:00",
         "0.8595482707023621",
         "1.020089030265808",
         "1.109375",
         "1.0178569555282593",
         "1.0823099613189697",
         "428579200"
        ]
       ],
       "shape": {
        "columns": 6,
        "rows": 2767
       }
      },
      "text/html": [
       "<div>\n",
       "<style scoped>\n",
       "    .dataframe tbody tr th:only-of-type {\n",
       "        vertical-align: middle;\n",
       "    }\n",
       "\n",
       "    .dataframe tbody tr th {\n",
       "        vertical-align: top;\n",
       "    }\n",
       "\n",
       "    .dataframe thead th {\n",
       "        text-align: right;\n",
       "    }\n",
       "</style>\n",
       "<table border=\"1\" class=\"dataframe\">\n",
       "  <thead>\n",
       "    <tr style=\"text-align: right;\">\n",
       "      <th></th>\n",
       "      <th>Adj Close</th>\n",
       "      <th>Close</th>\n",
       "      <th>High</th>\n",
       "      <th>Low</th>\n",
       "      <th>Open</th>\n",
       "      <th>Volume</th>\n",
       "    </tr>\n",
       "    <tr>\n",
       "      <th>Date</th>\n",
       "      <th></th>\n",
       "      <th></th>\n",
       "      <th></th>\n",
       "      <th></th>\n",
       "      <th></th>\n",
       "      <th></th>\n",
       "    </tr>\n",
       "  </thead>\n",
       "  <tbody>\n",
       "    <tr>\n",
       "      <th>2000-01-03</th>\n",
       "      <td>0.842150</td>\n",
       "      <td>0.999442</td>\n",
       "      <td>1.004464</td>\n",
       "      <td>0.907924</td>\n",
       "      <td>0.936384</td>\n",
       "      <td>535796800</td>\n",
       "    </tr>\n",
       "    <tr>\n",
       "      <th>2000-01-04</th>\n",
       "      <td>0.771149</td>\n",
       "      <td>0.915179</td>\n",
       "      <td>0.987723</td>\n",
       "      <td>0.903460</td>\n",
       "      <td>0.966518</td>\n",
       "      <td>512377600</td>\n",
       "    </tr>\n",
       "    <tr>\n",
       "      <th>2000-01-05</th>\n",
       "      <td>0.782433</td>\n",
       "      <td>0.928571</td>\n",
       "      <td>0.987165</td>\n",
       "      <td>0.919643</td>\n",
       "      <td>0.926339</td>\n",
       "      <td>778321600</td>\n",
       "    </tr>\n",
       "    <tr>\n",
       "      <th>2000-01-06</th>\n",
       "      <td>0.714723</td>\n",
       "      <td>0.848214</td>\n",
       "      <td>0.955357</td>\n",
       "      <td>0.848214</td>\n",
       "      <td>0.947545</td>\n",
       "      <td>767972800</td>\n",
       "    </tr>\n",
       "    <tr>\n",
       "      <th>2000-01-07</th>\n",
       "      <td>0.748579</td>\n",
       "      <td>0.888393</td>\n",
       "      <td>0.901786</td>\n",
       "      <td>0.852679</td>\n",
       "      <td>0.861607</td>\n",
       "      <td>460734400</td>\n",
       "    </tr>\n",
       "    <tr>\n",
       "      <th>...</th>\n",
       "      <td>...</td>\n",
       "      <td>...</td>\n",
       "      <td>...</td>\n",
       "      <td>...</td>\n",
       "      <td>...</td>\n",
       "      <td>...</td>\n",
       "    </tr>\n",
       "    <tr>\n",
       "      <th>2010-12-27</th>\n",
       "      <td>9.770787</td>\n",
       "      <td>11.595714</td>\n",
       "      <td>11.622857</td>\n",
       "      <td>11.482857</td>\n",
       "      <td>11.530357</td>\n",
       "      <td>249816000</td>\n",
       "    </tr>\n",
       "    <tr>\n",
       "      <th>2010-12-28</th>\n",
       "      <td>9.794563</td>\n",
       "      <td>11.623929</td>\n",
       "      <td>11.666429</td>\n",
       "      <td>11.609286</td>\n",
       "      <td>11.639643</td>\n",
       "      <td>175924000</td>\n",
       "    </tr>\n",
       "    <tr>\n",
       "      <th>2010-12-29</th>\n",
       "      <td>9.789147</td>\n",
       "      <td>11.617500</td>\n",
       "      <td>11.658929</td>\n",
       "      <td>11.610714</td>\n",
       "      <td>11.650714</td>\n",
       "      <td>163139200</td>\n",
       "    </tr>\n",
       "    <tr>\n",
       "      <th>2010-12-30</th>\n",
       "      <td>9.740096</td>\n",
       "      <td>11.559286</td>\n",
       "      <td>11.625357</td>\n",
       "      <td>11.537500</td>\n",
       "      <td>11.624286</td>\n",
       "      <td>157494400</td>\n",
       "    </tr>\n",
       "    <tr>\n",
       "      <th>2010-12-31</th>\n",
       "      <td>9.706991</td>\n",
       "      <td>11.520000</td>\n",
       "      <td>11.552857</td>\n",
       "      <td>11.475357</td>\n",
       "      <td>11.533929</td>\n",
       "      <td>193508000</td>\n",
       "    </tr>\n",
       "  </tbody>\n",
       "</table>\n",
       "<p>2767 rows × 6 columns</p>\n",
       "</div>"
      ],
      "text/plain": [
       "            Adj Close      Close       High        Low       Open     Volume\n",
       "Date                                                                        \n",
       "2000-01-03   0.842150   0.999442   1.004464   0.907924   0.936384  535796800\n",
       "2000-01-04   0.771149   0.915179   0.987723   0.903460   0.966518  512377600\n",
       "2000-01-05   0.782433   0.928571   0.987165   0.919643   0.926339  778321600\n",
       "2000-01-06   0.714723   0.848214   0.955357   0.848214   0.947545  767972800\n",
       "2000-01-07   0.748579   0.888393   0.901786   0.852679   0.861607  460734400\n",
       "...               ...        ...        ...        ...        ...        ...\n",
       "2010-12-27   9.770787  11.595714  11.622857  11.482857  11.530357  249816000\n",
       "2010-12-28   9.794563  11.623929  11.666429  11.609286  11.639643  175924000\n",
       "2010-12-29   9.789147  11.617500  11.658929  11.610714  11.650714  163139200\n",
       "2010-12-30   9.740096  11.559286  11.625357  11.537500  11.624286  157494400\n",
       "2010-12-31   9.706991  11.520000  11.552857  11.475357  11.533929  193508000\n",
       "\n",
       "[2767 rows x 6 columns]"
      ]
     },
     "execution_count": 5,
     "metadata": {},
     "output_type": "execute_result"
    }
   ],
   "source": [
    "prices_aapl"
   ]
  },
  {
   "cell_type": "code",
   "execution_count": 8,
   "metadata": {},
   "outputs": [
    {
     "data": {
      "text/plain": [
       "(2767, 6)"
      ]
     },
     "execution_count": 8,
     "metadata": {},
     "output_type": "execute_result"
    }
   ],
   "source": [
    "# Veamos cuántas filas y columnas tiene el DataFrame\n",
    "\n",
    "prices_aapl.shape  # 2767 filas, 6 columnas"
   ]
  },
  {
   "cell_type": "markdown",
   "metadata": {},
   "source": [
    "Lo más común es trabajar con los precios de cierre. Concretamente, vamos a seleccionar la columna de precios ajustados `Adj Close`."
   ]
  },
  {
   "cell_type": "code",
   "execution_count": 20,
   "metadata": {},
   "outputs": [
    {
     "data": {
      "application/vnd.microsoft.datawrangler.viewer.v0+json": {
       "columns": [
        {
         "name": "Date",
         "rawType": "datetime64[ns]",
         "type": "datetime"
        },
        {
         "name": "Adj Close",
         "rawType": "float64",
         "type": "float"
        }
       ],
       "conversionMethod": "pd.DataFrame",
       "ref": "b9e1ba82-eca9-4588-99a5-b0e5ba77fd4f",
       "rows": [
        [
         "1980-12-12 00:00:00",
         "0.09872594475746155"
        ],
        [
         "1980-12-15 00:00:00",
         "0.09357532113790512"
        ],
        [
         "1980-12-16 00:00:00",
         "0.08670710772275925"
        ],
        [
         "1980-12-17 00:00:00",
         "0.08885320276021957"
        ],
        [
         "1980-12-18 00:00:00",
         "0.09142924845218658"
        ]
       ],
       "shape": {
        "columns": 1,
        "rows": 5
       }
      },
      "text/html": [
       "<div>\n",
       "<style scoped>\n",
       "    .dataframe tbody tr th:only-of-type {\n",
       "        vertical-align: middle;\n",
       "    }\n",
       "\n",
       "    .dataframe tbody tr th {\n",
       "        vertical-align: top;\n",
       "    }\n",
       "\n",
       "    .dataframe thead th {\n",
       "        text-align: right;\n",
       "    }\n",
       "</style>\n",
       "<table border=\"1\" class=\"dataframe\">\n",
       "  <thead>\n",
       "    <tr style=\"text-align: right;\">\n",
       "      <th></th>\n",
       "      <th>Adj Close</th>\n",
       "    </tr>\n",
       "    <tr>\n",
       "      <th>Date</th>\n",
       "      <th></th>\n",
       "    </tr>\n",
       "  </thead>\n",
       "  <tbody>\n",
       "    <tr>\n",
       "      <th>1980-12-12</th>\n",
       "      <td>0.098726</td>\n",
       "    </tr>\n",
       "    <tr>\n",
       "      <th>1980-12-15</th>\n",
       "      <td>0.093575</td>\n",
       "    </tr>\n",
       "    <tr>\n",
       "      <th>1980-12-16</th>\n",
       "      <td>0.086707</td>\n",
       "    </tr>\n",
       "    <tr>\n",
       "      <th>1980-12-17</th>\n",
       "      <td>0.088853</td>\n",
       "    </tr>\n",
       "    <tr>\n",
       "      <th>1980-12-18</th>\n",
       "      <td>0.091429</td>\n",
       "    </tr>\n",
       "  </tbody>\n",
       "</table>\n",
       "</div>"
      ],
      "text/plain": [
       "            Adj Close\n",
       "Date                 \n",
       "1980-12-12   0.098726\n",
       "1980-12-15   0.093575\n",
       "1980-12-16   0.086707\n",
       "1980-12-17   0.088853\n",
       "1980-12-18   0.091429"
      ]
     },
     "execution_count": 20,
     "metadata": {},
     "output_type": "execute_result"
    }
   ],
   "source": [
    "# Elijo la columna 'Adj Close' para quedarme con los precios ajustados de cierre\n",
    "\n",
    "aapl_adj_close = prices_aapl.loc[:, [\"Adj Close\"]]\n",
    "\n",
    "# Muestro los primeros 5 precios ajustados de cierre\n",
    "aapl_adj_close.head()"
   ]
  },
  {
   "cell_type": "markdown",
   "metadata": {},
   "source": [
    "En la celda a continuación, descargamos los datos `Adj Close` de varios activos financieros a la vez. Simplemente pasamos a `yf.download` una lista de activos en lugar de solo uno y seleccionamos la columna `Adj Close`:"
   ]
  },
  {
   "cell_type": "code",
   "execution_count": 21,
   "metadata": {},
   "outputs": [
    {
     "name": "stderr",
     "output_type": "stream",
     "text": [
      "[*********************100%***********************]  8 of 8 completed\n"
     ]
    }
   ],
   "source": [
    "activos = [\"AAPL\", \"MSFT\", \"AMZN\", \"GOOG\", \"TSLA\", \"NVDA\", \"ADBE\", \"NFLX\"]\n",
    "precios = yf.download(\n",
    "    activos,\n",
    "    start=start_date,\n",
    "    end=end_date,\n",
    "    auto_adjust=False,\n",
    "    multi_level_index=True,\n",
    ")['Adj Close']"
   ]
  },
  {
   "cell_type": "code",
   "execution_count": 22,
   "metadata": {},
   "outputs": [
    {
     "data": {
      "application/vnd.microsoft.datawrangler.viewer.v0+json": {
       "columns": [
        {
         "name": "Date",
         "rawType": "datetime64[ns]",
         "type": "datetime"
        },
        {
         "name": "AAPL",
         "rawType": "float64",
         "type": "float"
        },
        {
         "name": "ADBE",
         "rawType": "float64",
         "type": "float"
        },
        {
         "name": "AMZN",
         "rawType": "float64",
         "type": "float"
        },
        {
         "name": "GOOG",
         "rawType": "float64",
         "type": "float"
        },
        {
         "name": "MSFT",
         "rawType": "float64",
         "type": "float"
        },
        {
         "name": "NFLX",
         "rawType": "float64",
         "type": "float"
        },
        {
         "name": "NVDA",
         "rawType": "float64",
         "type": "float"
        },
        {
         "name": "TSLA",
         "rawType": "float64",
         "type": "float"
        }
       ],
       "conversionMethod": "pd.DataFrame",
       "ref": "ace74ce0-f00a-4219-902e-3ab1736e5645",
       "rows": [
        [
         "2000-01-03 00:00:00",
         "0.8421504497528076",
         "16.274673461914062",
         "4.46875",
         null,
         "35.792301177978516",
         null,
         "0.08943139016628265",
         null
        ],
        [
         "2000-01-04 00:00:00",
         "0.7711488604545593",
         "14.909399032592773",
         "4.096875190734863",
         null,
         "34.5832405090332",
         null,
         "0.08704354614019394",
         null
        ],
        [
         "2000-01-05 00:00:00",
         "0.782433271408081",
         "15.204174995422363",
         "3.487499952316284",
         null,
         "34.9478759765625",
         null,
         "0.08417794108390808",
         null
        ],
        [
         "2000-01-06 00:00:00",
         "0.7147226929664612",
         "15.328289031982422",
         "3.278125047683716",
         null,
         "33.777198791503906",
         null,
         "0.07868509739637375",
         null
        ],
        [
         "2000-01-07 00:00:00",
         "0.7485785484313965",
         "16.072986602783203",
         "3.4781250953674316",
         null,
         "34.218589782714844",
         null,
         "0.07999914139509201",
         null
        ]
       ],
       "shape": {
        "columns": 8,
        "rows": 5
       }
      },
      "text/html": [
       "<div>\n",
       "<style scoped>\n",
       "    .dataframe tbody tr th:only-of-type {\n",
       "        vertical-align: middle;\n",
       "    }\n",
       "\n",
       "    .dataframe tbody tr th {\n",
       "        vertical-align: top;\n",
       "    }\n",
       "\n",
       "    .dataframe thead th {\n",
       "        text-align: right;\n",
       "    }\n",
       "</style>\n",
       "<table border=\"1\" class=\"dataframe\">\n",
       "  <thead>\n",
       "    <tr style=\"text-align: right;\">\n",
       "      <th>Ticker</th>\n",
       "      <th>AAPL</th>\n",
       "      <th>ADBE</th>\n",
       "      <th>AMZN</th>\n",
       "      <th>GOOG</th>\n",
       "      <th>MSFT</th>\n",
       "      <th>NFLX</th>\n",
       "      <th>NVDA</th>\n",
       "      <th>TSLA</th>\n",
       "    </tr>\n",
       "    <tr>\n",
       "      <th>Date</th>\n",
       "      <th></th>\n",
       "      <th></th>\n",
       "      <th></th>\n",
       "      <th></th>\n",
       "      <th></th>\n",
       "      <th></th>\n",
       "      <th></th>\n",
       "      <th></th>\n",
       "    </tr>\n",
       "  </thead>\n",
       "  <tbody>\n",
       "    <tr>\n",
       "      <th>2000-01-03</th>\n",
       "      <td>0.842150</td>\n",
       "      <td>16.274673</td>\n",
       "      <td>4.468750</td>\n",
       "      <td>NaN</td>\n",
       "      <td>35.792301</td>\n",
       "      <td>NaN</td>\n",
       "      <td>0.089431</td>\n",
       "      <td>NaN</td>\n",
       "    </tr>\n",
       "    <tr>\n",
       "      <th>2000-01-04</th>\n",
       "      <td>0.771149</td>\n",
       "      <td>14.909399</td>\n",
       "      <td>4.096875</td>\n",
       "      <td>NaN</td>\n",
       "      <td>34.583241</td>\n",
       "      <td>NaN</td>\n",
       "      <td>0.087044</td>\n",
       "      <td>NaN</td>\n",
       "    </tr>\n",
       "    <tr>\n",
       "      <th>2000-01-05</th>\n",
       "      <td>0.782433</td>\n",
       "      <td>15.204175</td>\n",
       "      <td>3.487500</td>\n",
       "      <td>NaN</td>\n",
       "      <td>34.947876</td>\n",
       "      <td>NaN</td>\n",
       "      <td>0.084178</td>\n",
       "      <td>NaN</td>\n",
       "    </tr>\n",
       "    <tr>\n",
       "      <th>2000-01-06</th>\n",
       "      <td>0.714723</td>\n",
       "      <td>15.328289</td>\n",
       "      <td>3.278125</td>\n",
       "      <td>NaN</td>\n",
       "      <td>33.777199</td>\n",
       "      <td>NaN</td>\n",
       "      <td>0.078685</td>\n",
       "      <td>NaN</td>\n",
       "    </tr>\n",
       "    <tr>\n",
       "      <th>2000-01-07</th>\n",
       "      <td>0.748579</td>\n",
       "      <td>16.072987</td>\n",
       "      <td>3.478125</td>\n",
       "      <td>NaN</td>\n",
       "      <td>34.218590</td>\n",
       "      <td>NaN</td>\n",
       "      <td>0.079999</td>\n",
       "      <td>NaN</td>\n",
       "    </tr>\n",
       "  </tbody>\n",
       "</table>\n",
       "</div>"
      ],
      "text/plain": [
       "Ticker          AAPL       ADBE      AMZN  GOOG       MSFT  NFLX      NVDA  \\\n",
       "Date                                                                         \n",
       "2000-01-03  0.842150  16.274673  4.468750   NaN  35.792301   NaN  0.089431   \n",
       "2000-01-04  0.771149  14.909399  4.096875   NaN  34.583241   NaN  0.087044   \n",
       "2000-01-05  0.782433  15.204175  3.487500   NaN  34.947876   NaN  0.084178   \n",
       "2000-01-06  0.714723  15.328289  3.278125   NaN  33.777199   NaN  0.078685   \n",
       "2000-01-07  0.748579  16.072987  3.478125   NaN  34.218590   NaN  0.079999   \n",
       "\n",
       "Ticker      TSLA  \n",
       "Date              \n",
       "2000-01-03   NaN  \n",
       "2000-01-04   NaN  \n",
       "2000-01-05   NaN  \n",
       "2000-01-06   NaN  \n",
       "2000-01-07   NaN  "
      ]
     },
     "execution_count": 22,
     "metadata": {},
     "output_type": "execute_result"
    }
   ],
   "source": [
    "precios.head()"
   ]
  },
  {
   "cell_type": "markdown",
   "metadata": {},
   "source": [
    "### Bajamos información de la empresa"
   ]
  },
  {
   "cell_type": "markdown",
   "metadata": {},
   "source": [
    "## Información Disponible en `yfinance` para un Ticker  \n",
    "\n",
    "El `ticker`  proporciona un conjunto amplio de datos financieros y de empresa. La documentación con toda la información que contiene se puede ver en [este enlace](https://yfinance-python.org/reference/api/yfinance.Ticker.html#yfinance.Ticker).\n",
    "\n",
    "\n",
    "Se puede agrupar en las siguientes categorías principales:  \n",
    "\n",
    "### **1. Datos Generales de la Empresa**  \n",
    "- **Información corporativa**: Dirección, teléfono, página web, sector, industria, resumen de negocio.  \n",
    "- **Gobierno corporativo**: Riesgo de auditoría, derechos de los accionistas, equipo ejecutivo.  \n",
    "\n",
    "### **2. Datos del Mercado y Cotización**  \n",
    "- **Precios históricos y en tiempo real**: Precio actual, apertura, cierre anterior, máximo y mínimo diario.  \n",
    "- **Precios a largo plazo**: Máximos y mínimos de 52 semanas, medias móviles de 50 y 200 días.  \n",
    "- **Capitalización y volumen**: Capitalización bursátil, volumen de negociación diario y promedio.  \n",
    "\n",
    "### **3. Dividendos y Rentabilidad**  \n",
    "- **Dividendos**: Tasa de dividendo, rentabilidad por dividendo, fecha de ex-dividendo, ratio de pago.  \n",
    "- **Crecimiento y valoración**: Beta, PER (trailing y forward), valor en libros, precio sobre ventas.  \n",
    "\n",
    "### **4. Datos Financieros y de Balance**  \n",
    "- **Ingresos y rentabilidad**: EBITDA, ingresos totales, flujo de caja libre, márgenes de beneficio.  \n",
    "- **Deuda y liquidez**: Deuda total, relación deuda/capital, ratios de liquidez (rápida y corriente).  \n",
    "- **Retorno financiero**: ROA (Retorno sobre activos) y ROE (Retorno sobre el capital).  \n",
    "\n",
    "### **5. Información sobre Acciones**  \n",
    "- **Acciones en circulación**: Número total de acciones, porcentaje en manos de instituciones e insiders.  \n",
    "- **Interés en corto**: Acciones en corto, relación de corto, porcentaje del free float en corto.  \n",
    "\n",
    "### **6. Estimaciones y Recomendaciones de Analistas**  \n",
    "- **Proyecciones de EPS**: EPS pasado, estimado a futuro y para el año actual.  \n",
    "- **Recomendaciones**: Precio objetivo (alto, bajo, medio), calificación promedio de analistas.  \n",
    "\n",
    "### **7. Información Adicional**  \n",
    "- **Eventos financieros**: Fechas de dividendos y ganancias, fechas de llamadas de ganancias.  \n",
    "- **Datos de mercado**: Tipo de activo, bolsa donde cotiza, zona horaria, nombre largo y corto.  \n",
    "\n",
    "Esta información es clave para el análisis financiero y la toma de decisiones en inversión. 🚀  \n"
   ]
  },
  {
   "cell_type": "code",
   "execution_count": 25,
   "metadata": {},
   "outputs": [],
   "source": [
    "aapl_ticker = yf.Ticker(\"AAPL\") # Creamos un objeto 'Ticker' para el ticker 'AAPL'\n",
    "\n",
    "aapl_info = aapl_ticker.info # Obtenemos la información del ticker 'AAPL'"
   ]
  },
  {
   "cell_type": "code",
   "execution_count": 26,
   "metadata": {},
   "outputs": [
    {
     "data": {
      "text/plain": [
       "{'address1': 'One Apple Park Way',\n",
       " 'city': 'Cupertino',\n",
       " 'state': 'CA',\n",
       " 'zip': '95014',\n",
       " 'country': 'United States',\n",
       " 'phone': '(408) 996-1010',\n",
       " 'website': 'https://www.apple.com',\n",
       " 'industry': 'Consumer Electronics',\n",
       " 'industryKey': 'consumer-electronics',\n",
       " 'industryDisp': 'Consumer Electronics',\n",
       " 'sector': 'Technology',\n",
       " 'sectorKey': 'technology',\n",
       " 'sectorDisp': 'Technology',\n",
       " 'longBusinessSummary': 'Apple Inc. designs, manufactures, and markets smartphones, personal computers, tablets, wearables, and accessories worldwide. The company offers iPhone, a line of smartphones; Mac, a line of personal computers; iPad, a line of multi-purpose tablets; and wearables, home, and accessories comprising AirPods, Apple TV, Apple Watch, Beats products, and HomePod. It also provides AppleCare support and cloud services; and operates various platforms, including the App Store that allow customers to discover and download applications and digital content, such as books, music, video, games, and podcasts, as well as advertising services include third-party licensing arrangements and its own advertising platforms. In addition, the company offers various subscription-based services, such as Apple Arcade, a game subscription service; Apple Fitness+, a personalized fitness service; Apple Music, which offers users a curated listening experience with on-demand radio stations; Apple News+, a subscription news and magazine service; Apple TV+, which offers exclusive original content; Apple Card, a co-branded credit card; and Apple Pay, a cashless payment service, as well as licenses its intellectual property. The company serves consumers, and small and mid-sized businesses; and the education, enterprise, and government markets. It distributes third-party applications for its products through the App Store. The company also sells its products through its retail and online stores, and direct sales force; and third-party cellular network carriers, wholesalers, retailers, and resellers. Apple Inc. was founded in 1976 and is headquartered in Cupertino, California.',\n",
       " 'fullTimeEmployees': 150000,\n",
       " 'companyOfficers': [{'maxAge': 1,\n",
       "   'name': 'Mr. Timothy D. Cook',\n",
       "   'age': 63,\n",
       "   'title': 'CEO & Director',\n",
       "   'yearBorn': 1961,\n",
       "   'fiscalYear': 2023,\n",
       "   'totalPay': 16239562,\n",
       "   'exercisedValue': 0,\n",
       "   'unexercisedValue': 0},\n",
       "  {'maxAge': 1,\n",
       "   'name': 'Mr. Jeffrey E. Williams',\n",
       "   'age': 60,\n",
       "   'title': 'Chief Operating Officer',\n",
       "   'yearBorn': 1964,\n",
       "   'fiscalYear': 2023,\n",
       "   'totalPay': 4637585,\n",
       "   'exercisedValue': 0,\n",
       "   'unexercisedValue': 0},\n",
       "  {'maxAge': 1,\n",
       "   'name': 'Ms. Katherine L. Adams',\n",
       "   'age': 60,\n",
       "   'title': 'Senior VP, General Counsel & Secretary',\n",
       "   'yearBorn': 1964,\n",
       "   'fiscalYear': 2023,\n",
       "   'totalPay': 4618064,\n",
       "   'exercisedValue': 0,\n",
       "   'unexercisedValue': 0},\n",
       "  {'maxAge': 1,\n",
       "   'name': \"Ms. Deirdre  O'Brien\",\n",
       "   'age': 57,\n",
       "   'title': 'Chief People Officer & Senior VP of Retail',\n",
       "   'yearBorn': 1967,\n",
       "   'fiscalYear': 2023,\n",
       "   'totalPay': 4613369,\n",
       "   'exercisedValue': 0,\n",
       "   'unexercisedValue': 0},\n",
       "  {'maxAge': 1,\n",
       "   'name': 'Mr. Kevan  Parekh',\n",
       "   'age': 52,\n",
       "   'title': 'Senior VP & CFO',\n",
       "   'yearBorn': 1972,\n",
       "   'fiscalYear': 2023,\n",
       "   'exercisedValue': 0,\n",
       "   'unexercisedValue': 0},\n",
       "  {'maxAge': 1,\n",
       "   'name': 'Mr. Chris  Kondo',\n",
       "   'title': 'Senior Director of Corporate Accounting',\n",
       "   'fiscalYear': 2023,\n",
       "   'exercisedValue': 0,\n",
       "   'unexercisedValue': 0},\n",
       "  {'maxAge': 1,\n",
       "   'name': 'Suhasini  Chandramouli',\n",
       "   'title': 'Director of Investor Relations',\n",
       "   'fiscalYear': 2023,\n",
       "   'exercisedValue': 0,\n",
       "   'unexercisedValue': 0},\n",
       "  {'maxAge': 1,\n",
       "   'name': 'Ms. Kristin Huguet Quayle',\n",
       "   'title': 'Vice President of Worldwide Communications',\n",
       "   'fiscalYear': 2023,\n",
       "   'exercisedValue': 0,\n",
       "   'unexercisedValue': 0},\n",
       "  {'maxAge': 1,\n",
       "   'name': 'Mr. Greg  Joswiak',\n",
       "   'title': 'Senior Vice President of Worldwide Marketing',\n",
       "   'fiscalYear': 2023,\n",
       "   'exercisedValue': 0,\n",
       "   'unexercisedValue': 0},\n",
       "  {'maxAge': 1,\n",
       "   'name': 'Mr. Adrian  Perica',\n",
       "   'age': 50,\n",
       "   'title': 'Vice President of Corporate Development',\n",
       "   'yearBorn': 1974,\n",
       "   'fiscalYear': 2023,\n",
       "   'exercisedValue': 0,\n",
       "   'unexercisedValue': 0}],\n",
       " 'auditRisk': 7,\n",
       " 'boardRisk': 1,\n",
       " 'compensationRisk': 3,\n",
       " 'shareHolderRightsRisk': 1,\n",
       " 'overallRisk': 1,\n",
       " 'governanceEpochDate': 1740787200,\n",
       " 'compensationAsOfEpochDate': 1703980800,\n",
       " 'irWebsite': 'http://investor.apple.com/',\n",
       " 'executiveTeam': [],\n",
       " 'maxAge': 86400,\n",
       " 'priceHint': 2,\n",
       " 'previousClose': 214.0,\n",
       " 'open': 214.14,\n",
       " 'dayLow': 211.49,\n",
       " 'dayHigh': 215.15,\n",
       " 'regularMarketPreviousClose': 214.0,\n",
       " 'regularMarketOpen': 214.14,\n",
       " 'regularMarketDayLow': 211.49,\n",
       " 'regularMarketDayHigh': 215.15,\n",
       " 'dividendRate': 1.0,\n",
       " 'dividendYield': 0.47,\n",
       " 'exDividendDate': 1739145600,\n",
       " 'payoutRatio': 0.1571,\n",
       " 'fiveYearAvgDividendYield': 0.59,\n",
       " 'beta': 1.178,\n",
       " 'trailingPE': 33.760315,\n",
       " 'forwardPE': 25.594463,\n",
       " 'volume': 41207689,\n",
       " 'regularMarketVolume': 41207689,\n",
       " 'averageVolume': 53123005,\n",
       " 'averageVolume10days': 56136880,\n",
       " 'averageDailyVolume10Day': 56136880,\n",
       " 'bid': 212.72,\n",
       " 'ask': 212.87,\n",
       " 'bidSize': 2,\n",
       " 'askSize': 2,\n",
       " 'marketCap': 3195050655744,\n",
       " 'fiftyTwoWeekLow': 164.08,\n",
       " 'fiftyTwoWeekHigh': 260.1,\n",
       " 'priceToSalesTrailing12Months': 8.073202,\n",
       " 'fiftyDayAverage': 233.5782,\n",
       " 'twoHundredDayAverage': 228.00475,\n",
       " 'trailingAnnualDividendRate': 0.99,\n",
       " 'trailingAnnualDividendYield': 0.0046261684,\n",
       " 'currency': 'USD',\n",
       " 'tradeable': False,\n",
       " 'enterpriseValue': 3238068748288,\n",
       " 'profitMargins': 0.24295,\n",
       " 'floatShares': 14998187904,\n",
       " 'sharesOutstanding': 15022100480,\n",
       " 'sharesShort': 134441154,\n",
       " 'sharesShortPriorMonth': 124917523,\n",
       " 'sharesShortPreviousMonthDate': 1738281600,\n",
       " 'dateShortInterest': 1740700800,\n",
       " 'sharesPercentSharesOut': 0.009,\n",
       " 'heldPercentInsiders': 0.0207,\n",
       " 'heldPercentInstitutions': 0.62806,\n",
       " 'shortRatio': 2.71,\n",
       " 'shortPercentOfFloat': 0.009,\n",
       " 'impliedSharesOutstanding': 15787400192,\n",
       " 'bookValue': 4.438,\n",
       " 'priceToBook': 47.92474,\n",
       " 'lastFiscalYearEnd': 1727481600,\n",
       " 'nextFiscalYearEnd': 1759017600,\n",
       " 'mostRecentQuarter': 1735344000,\n",
       " 'earningsQuarterlyGrowth': 0.071,\n",
       " 'netIncomeToCommon': 96150003712,\n",
       " 'trailingEps': 6.3,\n",
       " 'forwardEps': 8.31,\n",
       " 'lastSplitFactor': '4:1',\n",
       " 'lastSplitDate': 1598832000,\n",
       " 'enterpriseToRevenue': 8.182,\n",
       " 'enterpriseToEbitda': 23.575,\n",
       " '52WeekChange': 0.19040692,\n",
       " 'SandP52WeekChange': 0.07465422,\n",
       " 'lastDividendValue': 0.25,\n",
       " 'lastDividendDate': 1739145600,\n",
       " 'quoteType': 'EQUITY',\n",
       " 'currentPrice': 212.69,\n",
       " 'targetHighPrice': 325.0,\n",
       " 'targetLowPrice': 197.0,\n",
       " 'targetMeanPrice': 252.59052,\n",
       " 'targetMedianPrice': 255.0,\n",
       " 'recommendationMean': 2.02222,\n",
       " 'recommendationKey': 'buy',\n",
       " 'numberOfAnalystOpinions': 39,\n",
       " 'totalCash': 53774999552,\n",
       " 'totalCashPerShare': 3.58,\n",
       " 'ebitda': 137352003584,\n",
       " 'totalDebt': 96798998528,\n",
       " 'quickRatio': 0.783,\n",
       " 'currentRatio': 0.923,\n",
       " 'totalRevenue': 395760009216,\n",
       " 'debtToEquity': 145.0,\n",
       " 'revenuePerShare': 25.974,\n",
       " 'returnOnAssets': 0.22518998,\n",
       " 'returnOnEquity': 1.3652,\n",
       " 'grossProfits': 184102993920,\n",
       " 'freeCashflow': 93833871360,\n",
       " 'operatingCashflow': 108293996544,\n",
       " 'earningsGrowth': 0.101,\n",
       " 'revenueGrowth': 0.04,\n",
       " 'grossMargins': 0.46519002,\n",
       " 'ebitdaMargins': 0.34706002,\n",
       " 'operatingMargins': 0.34459,\n",
       " 'financialCurrency': 'USD',\n",
       " 'symbol': 'AAPL',\n",
       " 'language': 'en-US',\n",
       " 'region': 'US',\n",
       " 'typeDisp': 'Equity',\n",
       " 'quoteSourceName': 'Nasdaq Real Time Price',\n",
       " 'triggerable': True,\n",
       " 'customPriceAlertConfidence': 'HIGH',\n",
       " 'corporateActions': [],\n",
       " 'preMarketTime': 1742381820,\n",
       " 'exchange': 'NMS',\n",
       " 'messageBoardId': 'finmb_24937',\n",
       " 'exchangeTimezoneName': 'America/New_York',\n",
       " 'exchangeTimezoneShortName': 'EDT',\n",
       " 'gmtOffSetMilliseconds': -14400000,\n",
       " 'market': 'us_market',\n",
       " 'esgPopulated': False,\n",
       " 'regularMarketChangePercent': -0.6121484,\n",
       " 'regularMarketPrice': 212.69,\n",
       " 'regularMarketTime': 1742328001,\n",
       " 'shortName': 'Apple Inc.',\n",
       " 'longName': 'Apple Inc.',\n",
       " 'marketState': 'PRE',\n",
       " 'priceEpsCurrentYear': 29.026272,\n",
       " 'fiftyDayAverageChange': -20.888199,\n",
       " 'fiftyDayAverageChangePercent': -0.089427,\n",
       " 'twoHundredDayAverageChange': -15.314743,\n",
       " 'sourceInterval': 15,\n",
       " 'exchangeDataDelayedBy': 0,\n",
       " 'averageAnalystRating': '2.0 - Buy',\n",
       " 'cryptoTradeable': False,\n",
       " 'regularMarketChange': -1.3099976,\n",
       " 'regularMarketDayRange': '211.49 - 215.15',\n",
       " 'fullExchangeName': 'NasdaqGS',\n",
       " 'averageDailyVolume3Month': 53123005,\n",
       " 'fiftyTwoWeekLowChange': 48.61,\n",
       " 'fiftyTwoWeekLowChangePercent': 0.2962579,\n",
       " 'fiftyTwoWeekRange': '164.08 - 260.1',\n",
       " 'fiftyTwoWeekHighChange': -47.410004,\n",
       " 'fiftyTwoWeekHighChangePercent': -0.18227606,\n",
       " 'fiftyTwoWeekChangePercent': 19.040691,\n",
       " 'dividendDate': 1739404800,\n",
       " 'earningsTimestamp': 1738272600,\n",
       " 'earningsTimestampStart': 1746010740,\n",
       " 'earningsTimestampEnd': 1746446400,\n",
       " 'earningsCallTimestampStart': 1738274400,\n",
       " 'earningsCallTimestampEnd': 1738274400,\n",
       " 'isEarningsDateEstimate': True,\n",
       " 'epsTrailingTwelveMonths': 6.3,\n",
       " 'epsForward': 8.31,\n",
       " 'epsCurrentYear': 7.3275,\n",
       " 'twoHundredDayAverageChangePercent': -0.06716853,\n",
       " 'hasPrePostMarketData': True,\n",
       " 'firstTradeDateMilliseconds': 345479400000,\n",
       " 'preMarketChange': 0.58000183,\n",
       " 'preMarketChangePercent': 0.27269822,\n",
       " 'preMarketPrice': 213.27,\n",
       " 'displayName': 'Apple',\n",
       " 'trailingPegRatio': 1.9739}"
      ]
     },
     "execution_count": 26,
     "metadata": {},
     "output_type": "execute_result"
    }
   ],
   "source": [
    "aapl_info"
   ]
  },
  {
   "cell_type": "code",
   "execution_count": 30,
   "metadata": {},
   "outputs": [
    {
     "data": {
      "application/vnd.microsoft.datawrangler.viewer.v0+json": {
       "columns": [
        {
         "name": "index",
         "rawType": "int64",
         "type": "integer"
        },
        {
         "name": "address1",
         "rawType": "object",
         "type": "string"
        },
        {
         "name": "city",
         "rawType": "object",
         "type": "string"
        },
        {
         "name": "state",
         "rawType": "object",
         "type": "string"
        },
        {
         "name": "zip",
         "rawType": "object",
         "type": "string"
        },
        {
         "name": "country",
         "rawType": "object",
         "type": "string"
        },
        {
         "name": "phone",
         "rawType": "object",
         "type": "string"
        },
        {
         "name": "website",
         "rawType": "object",
         "type": "string"
        },
        {
         "name": "industry",
         "rawType": "object",
         "type": "string"
        },
        {
         "name": "industryKey",
         "rawType": "object",
         "type": "string"
        },
        {
         "name": "industryDisp",
         "rawType": "object",
         "type": "string"
        },
        {
         "name": "sector",
         "rawType": "object",
         "type": "string"
        },
        {
         "name": "sectorKey",
         "rawType": "object",
         "type": "string"
        },
        {
         "name": "sectorDisp",
         "rawType": "object",
         "type": "string"
        },
        {
         "name": "longBusinessSummary",
         "rawType": "object",
         "type": "string"
        },
        {
         "name": "fullTimeEmployees",
         "rawType": "int64",
         "type": "integer"
        },
        {
         "name": "companyOfficers",
         "rawType": "object",
         "type": "unknown"
        },
        {
         "name": "auditRisk",
         "rawType": "int64",
         "type": "integer"
        },
        {
         "name": "boardRisk",
         "rawType": "int64",
         "type": "integer"
        },
        {
         "name": "compensationRisk",
         "rawType": "int64",
         "type": "integer"
        },
        {
         "name": "shareHolderRightsRisk",
         "rawType": "int64",
         "type": "integer"
        },
        {
         "name": "overallRisk",
         "rawType": "int64",
         "type": "integer"
        },
        {
         "name": "governanceEpochDate",
         "rawType": "int64",
         "type": "integer"
        },
        {
         "name": "compensationAsOfEpochDate",
         "rawType": "int64",
         "type": "integer"
        },
        {
         "name": "irWebsite",
         "rawType": "object",
         "type": "string"
        },
        {
         "name": "executiveTeam",
         "rawType": "object",
         "type": "unknown"
        },
        {
         "name": "maxAge",
         "rawType": "int64",
         "type": "integer"
        },
        {
         "name": "priceHint",
         "rawType": "int64",
         "type": "integer"
        },
        {
         "name": "previousClose",
         "rawType": "float64",
         "type": "float"
        },
        {
         "name": "open",
         "rawType": "float64",
         "type": "float"
        },
        {
         "name": "dayLow",
         "rawType": "float64",
         "type": "float"
        },
        {
         "name": "dayHigh",
         "rawType": "float64",
         "type": "float"
        },
        {
         "name": "regularMarketPreviousClose",
         "rawType": "float64",
         "type": "float"
        },
        {
         "name": "regularMarketOpen",
         "rawType": "float64",
         "type": "float"
        },
        {
         "name": "regularMarketDayLow",
         "rawType": "float64",
         "type": "float"
        },
        {
         "name": "regularMarketDayHigh",
         "rawType": "float64",
         "type": "float"
        },
        {
         "name": "dividendRate",
         "rawType": "float64",
         "type": "float"
        },
        {
         "name": "dividendYield",
         "rawType": "float64",
         "type": "float"
        },
        {
         "name": "exDividendDate",
         "rawType": "int64",
         "type": "integer"
        },
        {
         "name": "payoutRatio",
         "rawType": "float64",
         "type": "float"
        },
        {
         "name": "fiveYearAvgDividendYield",
         "rawType": "float64",
         "type": "float"
        },
        {
         "name": "beta",
         "rawType": "float64",
         "type": "float"
        },
        {
         "name": "trailingPE",
         "rawType": "float64",
         "type": "float"
        },
        {
         "name": "forwardPE",
         "rawType": "float64",
         "type": "float"
        },
        {
         "name": "volume",
         "rawType": "int64",
         "type": "integer"
        },
        {
         "name": "regularMarketVolume",
         "rawType": "int64",
         "type": "integer"
        },
        {
         "name": "averageVolume",
         "rawType": "int64",
         "type": "integer"
        },
        {
         "name": "averageVolume10days",
         "rawType": "int64",
         "type": "integer"
        },
        {
         "name": "averageDailyVolume10Day",
         "rawType": "int64",
         "type": "integer"
        },
        {
         "name": "bid",
         "rawType": "float64",
         "type": "float"
        },
        {
         "name": "ask",
         "rawType": "float64",
         "type": "float"
        },
        {
         "name": "bidSize",
         "rawType": "int64",
         "type": "integer"
        },
        {
         "name": "askSize",
         "rawType": "int64",
         "type": "integer"
        },
        {
         "name": "marketCap",
         "rawType": "int64",
         "type": "integer"
        },
        {
         "name": "fiftyTwoWeekLow",
         "rawType": "float64",
         "type": "float"
        },
        {
         "name": "fiftyTwoWeekHigh",
         "rawType": "float64",
         "type": "float"
        },
        {
         "name": "priceToSalesTrailing12Months",
         "rawType": "float64",
         "type": "float"
        },
        {
         "name": "fiftyDayAverage",
         "rawType": "float64",
         "type": "float"
        },
        {
         "name": "twoHundredDayAverage",
         "rawType": "float64",
         "type": "float"
        },
        {
         "name": "trailingAnnualDividendRate",
         "rawType": "float64",
         "type": "float"
        },
        {
         "name": "trailingAnnualDividendYield",
         "rawType": "float64",
         "type": "float"
        },
        {
         "name": "currency",
         "rawType": "object",
         "type": "string"
        },
        {
         "name": "tradeable",
         "rawType": "bool",
         "type": "boolean"
        },
        {
         "name": "enterpriseValue",
         "rawType": "int64",
         "type": "integer"
        },
        {
         "name": "profitMargins",
         "rawType": "float64",
         "type": "float"
        },
        {
         "name": "floatShares",
         "rawType": "int64",
         "type": "integer"
        },
        {
         "name": "sharesOutstanding",
         "rawType": "int64",
         "type": "integer"
        },
        {
         "name": "sharesShort",
         "rawType": "int64",
         "type": "integer"
        },
        {
         "name": "sharesShortPriorMonth",
         "rawType": "int64",
         "type": "integer"
        },
        {
         "name": "sharesShortPreviousMonthDate",
         "rawType": "int64",
         "type": "integer"
        },
        {
         "name": "dateShortInterest",
         "rawType": "int64",
         "type": "integer"
        },
        {
         "name": "sharesPercentSharesOut",
         "rawType": "float64",
         "type": "float"
        },
        {
         "name": "heldPercentInsiders",
         "rawType": "float64",
         "type": "float"
        },
        {
         "name": "heldPercentInstitutions",
         "rawType": "float64",
         "type": "float"
        },
        {
         "name": "shortRatio",
         "rawType": "float64",
         "type": "float"
        },
        {
         "name": "shortPercentOfFloat",
         "rawType": "float64",
         "type": "float"
        },
        {
         "name": "impliedSharesOutstanding",
         "rawType": "int64",
         "type": "integer"
        },
        {
         "name": "bookValue",
         "rawType": "float64",
         "type": "float"
        },
        {
         "name": "priceToBook",
         "rawType": "float64",
         "type": "float"
        },
        {
         "name": "lastFiscalYearEnd",
         "rawType": "int64",
         "type": "integer"
        },
        {
         "name": "nextFiscalYearEnd",
         "rawType": "int64",
         "type": "integer"
        },
        {
         "name": "mostRecentQuarter",
         "rawType": "int64",
         "type": "integer"
        },
        {
         "name": "earningsQuarterlyGrowth",
         "rawType": "float64",
         "type": "float"
        },
        {
         "name": "netIncomeToCommon",
         "rawType": "int64",
         "type": "integer"
        },
        {
         "name": "trailingEps",
         "rawType": "float64",
         "type": "float"
        },
        {
         "name": "forwardEps",
         "rawType": "float64",
         "type": "float"
        },
        {
         "name": "lastSplitFactor",
         "rawType": "object",
         "type": "string"
        },
        {
         "name": "lastSplitDate",
         "rawType": "int64",
         "type": "integer"
        },
        {
         "name": "enterpriseToRevenue",
         "rawType": "float64",
         "type": "float"
        },
        {
         "name": "enterpriseToEbitda",
         "rawType": "float64",
         "type": "float"
        },
        {
         "name": "52WeekChange",
         "rawType": "float64",
         "type": "float"
        },
        {
         "name": "SandP52WeekChange",
         "rawType": "float64",
         "type": "float"
        },
        {
         "name": "lastDividendValue",
         "rawType": "float64",
         "type": "float"
        },
        {
         "name": "lastDividendDate",
         "rawType": "int64",
         "type": "integer"
        },
        {
         "name": "quoteType",
         "rawType": "object",
         "type": "string"
        },
        {
         "name": "currentPrice",
         "rawType": "float64",
         "type": "float"
        },
        {
         "name": "targetHighPrice",
         "rawType": "float64",
         "type": "float"
        },
        {
         "name": "targetLowPrice",
         "rawType": "float64",
         "type": "float"
        },
        {
         "name": "targetMeanPrice",
         "rawType": "float64",
         "type": "float"
        },
        {
         "name": "targetMedianPrice",
         "rawType": "float64",
         "type": "float"
        },
        {
         "name": "recommendationMean",
         "rawType": "float64",
         "type": "float"
        },
        {
         "name": "recommendationKey",
         "rawType": "object",
         "type": "string"
        },
        {
         "name": "numberOfAnalystOpinions",
         "rawType": "int64",
         "type": "integer"
        },
        {
         "name": "totalCash",
         "rawType": "int64",
         "type": "integer"
        },
        {
         "name": "totalCashPerShare",
         "rawType": "float64",
         "type": "float"
        },
        {
         "name": "ebitda",
         "rawType": "int64",
         "type": "integer"
        },
        {
         "name": "totalDebt",
         "rawType": "int64",
         "type": "integer"
        },
        {
         "name": "quickRatio",
         "rawType": "float64",
         "type": "float"
        },
        {
         "name": "currentRatio",
         "rawType": "float64",
         "type": "float"
        },
        {
         "name": "totalRevenue",
         "rawType": "int64",
         "type": "integer"
        },
        {
         "name": "debtToEquity",
         "rawType": "float64",
         "type": "float"
        },
        {
         "name": "revenuePerShare",
         "rawType": "float64",
         "type": "float"
        },
        {
         "name": "returnOnAssets",
         "rawType": "float64",
         "type": "float"
        },
        {
         "name": "returnOnEquity",
         "rawType": "float64",
         "type": "float"
        },
        {
         "name": "grossProfits",
         "rawType": "int64",
         "type": "integer"
        },
        {
         "name": "freeCashflow",
         "rawType": "int64",
         "type": "integer"
        },
        {
         "name": "operatingCashflow",
         "rawType": "int64",
         "type": "integer"
        },
        {
         "name": "earningsGrowth",
         "rawType": "float64",
         "type": "float"
        },
        {
         "name": "revenueGrowth",
         "rawType": "float64",
         "type": "float"
        },
        {
         "name": "grossMargins",
         "rawType": "float64",
         "type": "float"
        },
        {
         "name": "ebitdaMargins",
         "rawType": "float64",
         "type": "float"
        },
        {
         "name": "operatingMargins",
         "rawType": "float64",
         "type": "float"
        },
        {
         "name": "financialCurrency",
         "rawType": "object",
         "type": "string"
        },
        {
         "name": "symbol",
         "rawType": "object",
         "type": "string"
        },
        {
         "name": "language",
         "rawType": "object",
         "type": "string"
        },
        {
         "name": "region",
         "rawType": "object",
         "type": "string"
        },
        {
         "name": "typeDisp",
         "rawType": "object",
         "type": "string"
        },
        {
         "name": "quoteSourceName",
         "rawType": "object",
         "type": "string"
        },
        {
         "name": "triggerable",
         "rawType": "bool",
         "type": "boolean"
        },
        {
         "name": "customPriceAlertConfidence",
         "rawType": "object",
         "type": "string"
        },
        {
         "name": "corporateActions",
         "rawType": "object",
         "type": "unknown"
        },
        {
         "name": "preMarketTime",
         "rawType": "int64",
         "type": "integer"
        },
        {
         "name": "exchange",
         "rawType": "object",
         "type": "string"
        },
        {
         "name": "messageBoardId",
         "rawType": "object",
         "type": "string"
        },
        {
         "name": "exchangeTimezoneName",
         "rawType": "object",
         "type": "string"
        },
        {
         "name": "exchangeTimezoneShortName",
         "rawType": "object",
         "type": "string"
        },
        {
         "name": "gmtOffSetMilliseconds",
         "rawType": "int64",
         "type": "integer"
        },
        {
         "name": "market",
         "rawType": "object",
         "type": "string"
        },
        {
         "name": "esgPopulated",
         "rawType": "bool",
         "type": "boolean"
        },
        {
         "name": "regularMarketChangePercent",
         "rawType": "float64",
         "type": "float"
        },
        {
         "name": "regularMarketPrice",
         "rawType": "float64",
         "type": "float"
        },
        {
         "name": "regularMarketTime",
         "rawType": "int64",
         "type": "integer"
        },
        {
         "name": "shortName",
         "rawType": "object",
         "type": "string"
        },
        {
         "name": "longName",
         "rawType": "object",
         "type": "string"
        },
        {
         "name": "marketState",
         "rawType": "object",
         "type": "string"
        },
        {
         "name": "priceEpsCurrentYear",
         "rawType": "float64",
         "type": "float"
        },
        {
         "name": "fiftyDayAverageChange",
         "rawType": "float64",
         "type": "float"
        },
        {
         "name": "fiftyDayAverageChangePercent",
         "rawType": "float64",
         "type": "float"
        },
        {
         "name": "twoHundredDayAverageChange",
         "rawType": "float64",
         "type": "float"
        },
        {
         "name": "sourceInterval",
         "rawType": "int64",
         "type": "integer"
        },
        {
         "name": "exchangeDataDelayedBy",
         "rawType": "int64",
         "type": "integer"
        },
        {
         "name": "averageAnalystRating",
         "rawType": "object",
         "type": "string"
        },
        {
         "name": "cryptoTradeable",
         "rawType": "bool",
         "type": "boolean"
        },
        {
         "name": "regularMarketChange",
         "rawType": "float64",
         "type": "float"
        },
        {
         "name": "regularMarketDayRange",
         "rawType": "object",
         "type": "string"
        },
        {
         "name": "fullExchangeName",
         "rawType": "object",
         "type": "string"
        },
        {
         "name": "averageDailyVolume3Month",
         "rawType": "int64",
         "type": "integer"
        },
        {
         "name": "fiftyTwoWeekLowChange",
         "rawType": "float64",
         "type": "float"
        },
        {
         "name": "fiftyTwoWeekLowChangePercent",
         "rawType": "float64",
         "type": "float"
        },
        {
         "name": "fiftyTwoWeekRange",
         "rawType": "object",
         "type": "string"
        },
        {
         "name": "fiftyTwoWeekHighChange",
         "rawType": "float64",
         "type": "float"
        },
        {
         "name": "fiftyTwoWeekHighChangePercent",
         "rawType": "float64",
         "type": "float"
        },
        {
         "name": "fiftyTwoWeekChangePercent",
         "rawType": "float64",
         "type": "float"
        },
        {
         "name": "dividendDate",
         "rawType": "int64",
         "type": "integer"
        },
        {
         "name": "earningsTimestamp",
         "rawType": "int64",
         "type": "integer"
        },
        {
         "name": "earningsTimestampStart",
         "rawType": "int64",
         "type": "integer"
        },
        {
         "name": "earningsTimestampEnd",
         "rawType": "int64",
         "type": "integer"
        },
        {
         "name": "earningsCallTimestampStart",
         "rawType": "int64",
         "type": "integer"
        },
        {
         "name": "earningsCallTimestampEnd",
         "rawType": "int64",
         "type": "integer"
        },
        {
         "name": "isEarningsDateEstimate",
         "rawType": "bool",
         "type": "boolean"
        },
        {
         "name": "epsTrailingTwelveMonths",
         "rawType": "float64",
         "type": "float"
        },
        {
         "name": "epsForward",
         "rawType": "float64",
         "type": "float"
        },
        {
         "name": "epsCurrentYear",
         "rawType": "float64",
         "type": "float"
        },
        {
         "name": "twoHundredDayAverageChangePercent",
         "rawType": "float64",
         "type": "float"
        },
        {
         "name": "hasPrePostMarketData",
         "rawType": "bool",
         "type": "boolean"
        },
        {
         "name": "firstTradeDateMilliseconds",
         "rawType": "int64",
         "type": "integer"
        },
        {
         "name": "preMarketChange",
         "rawType": "float64",
         "type": "float"
        },
        {
         "name": "preMarketChangePercent",
         "rawType": "float64",
         "type": "float"
        },
        {
         "name": "preMarketPrice",
         "rawType": "float64",
         "type": "float"
        },
        {
         "name": "displayName",
         "rawType": "object",
         "type": "string"
        },
        {
         "name": "trailingPegRatio",
         "rawType": "float64",
         "type": "float"
        }
       ],
       "conversionMethod": "pd.DataFrame",
       "ref": "cb946f11-b74e-4756-95b8-ef6031c873e7",
       "rows": [
        [
         "0",
         "One Apple Park Way",
         "Cupertino",
         "CA",
         "95014",
         "United States",
         "(408) 996-1010",
         "https://www.apple.com",
         "Consumer Electronics",
         "consumer-electronics",
         "Consumer Electronics",
         "Technology",
         "technology",
         "Technology",
         "Apple Inc. designs, manufactures, and markets smartphones, personal computers, tablets, wearables, and accessories worldwide. The company offers iPhone, a line of smartphones; Mac, a line of personal computers; iPad, a line of multi-purpose tablets; and wearables, home, and accessories comprising AirPods, Apple TV, Apple Watch, Beats products, and HomePod. It also provides AppleCare support and cloud services; and operates various platforms, including the App Store that allow customers to discover and download applications and digital content, such as books, music, video, games, and podcasts, as well as advertising services include third-party licensing arrangements and its own advertising platforms. In addition, the company offers various subscription-based services, such as Apple Arcade, a game subscription service; Apple Fitness+, a personalized fitness service; Apple Music, which offers users a curated listening experience with on-demand radio stations; Apple News+, a subscription news and magazine service; Apple TV+, which offers exclusive original content; Apple Card, a co-branded credit card; and Apple Pay, a cashless payment service, as well as licenses its intellectual property. The company serves consumers, and small and mid-sized businesses; and the education, enterprise, and government markets. It distributes third-party applications for its products through the App Store. The company also sells its products through its retail and online stores, and direct sales force; and third-party cellular network carriers, wholesalers, retailers, and resellers. Apple Inc. was founded in 1976 and is headquartered in Cupertino, California.",
         "150000",
         "[{'maxAge': 1, 'name': 'Mr. Timothy D. Cook', 'age': 63, 'title': 'CEO & Director', 'yearBorn': 1961, 'fiscalYear': 2023, 'totalPay': 16239562, 'exercisedValue': 0, 'unexercisedValue': 0}, {'maxAge': 1, 'name': 'Mr. Jeffrey E. Williams', 'age': 60, 'title': 'Chief Operating Officer', 'yearBorn': 1964, 'fiscalYear': 2023, 'totalPay': 4637585, 'exercisedValue': 0, 'unexercisedValue': 0}, {'maxAge': 1, 'name': 'Ms. Katherine L. Adams', 'age': 60, 'title': 'Senior VP, General Counsel & Secretary', 'yearBorn': 1964, 'fiscalYear': 2023, 'totalPay': 4618064, 'exercisedValue': 0, 'unexercisedValue': 0}, {'maxAge': 1, 'name': \"Ms. Deirdre  O'Brien\", 'age': 57, 'title': 'Chief People Officer & Senior VP of Retail', 'yearBorn': 1967, 'fiscalYear': 2023, 'totalPay': 4613369, 'exercisedValue': 0, 'unexercisedValue': 0}, {'maxAge': 1, 'name': 'Mr. Kevan  Parekh', 'age': 52, 'title': 'Senior VP & CFO', 'yearBorn': 1972, 'fiscalYear': 2023, 'exercisedValue': 0, 'unexercisedValue': 0}, {'maxAge': 1, 'name': 'Mr. Chris  Kondo', 'title': 'Senior Director of Corporate Accounting', 'fiscalYear': 2023, 'exercisedValue': 0, 'unexercisedValue': 0}, {'maxAge': 1, 'name': 'Suhasini  Chandramouli', 'title': 'Director of Investor Relations', 'fiscalYear': 2023, 'exercisedValue': 0, 'unexercisedValue': 0}, {'maxAge': 1, 'name': 'Ms. Kristin Huguet Quayle', 'title': 'Vice President of Worldwide Communications', 'fiscalYear': 2023, 'exercisedValue': 0, 'unexercisedValue': 0}, {'maxAge': 1, 'name': 'Mr. Greg  Joswiak', 'title': 'Senior Vice President of Worldwide Marketing', 'fiscalYear': 2023, 'exercisedValue': 0, 'unexercisedValue': 0}, {'maxAge': 1, 'name': 'Mr. Adrian  Perica', 'age': 50, 'title': 'Vice President of Corporate Development', 'yearBorn': 1974, 'fiscalYear': 2023, 'exercisedValue': 0, 'unexercisedValue': 0}]",
         "7",
         "1",
         "3",
         "1",
         "1",
         "1740787200",
         "1703980800",
         "http://investor.apple.com/",
         "[]",
         "86400",
         "2",
         "214.0",
         "214.14",
         "211.49",
         "215.15",
         "214.0",
         "214.14",
         "211.49",
         "215.15",
         "1.0",
         "0.47",
         "1739145600",
         "0.1571",
         "0.59",
         "1.178",
         "33.760315",
         "25.594463",
         "41207689",
         "41207689",
         "53123005",
         "56136880",
         "56136880",
         "212.72",
         "212.87",
         "2",
         "2",
         "3195050655744",
         "164.08",
         "260.1",
         "8.073202",
         "233.5782",
         "228.00475",
         "0.99",
         "0.0046261684",
         "USD",
         "False",
         "3238068748288",
         "0.24295",
         "14998187904",
         "15022100480",
         "134441154",
         "124917523",
         "1738281600",
         "1740700800",
         "0.009",
         "0.0207",
         "0.62806",
         "2.71",
         "0.009",
         "15787400192",
         "4.438",
         "47.92474",
         "1727481600",
         "1759017600",
         "1735344000",
         "0.071",
         "96150003712",
         "6.3",
         "8.31",
         "4:1",
         "1598832000",
         "8.182",
         "23.575",
         "0.19040692",
         "0.07465422",
         "0.25",
         "1739145600",
         "EQUITY",
         "212.69",
         "325.0",
         "197.0",
         "252.59052",
         "255.0",
         "2.02222",
         "buy",
         "39",
         "53774999552",
         "3.58",
         "137352003584",
         "96798998528",
         "0.783",
         "0.923",
         "395760009216",
         "145.0",
         "25.974",
         "0.22518998",
         "1.3652",
         "184102993920",
         "93833871360",
         "108293996544",
         "0.101",
         "0.04",
         "0.46519002",
         "0.34706002",
         "0.34459",
         "USD",
         "AAPL",
         "en-US",
         "US",
         "Equity",
         "Nasdaq Real Time Price",
         "True",
         "HIGH",
         "[]",
         "1742381820",
         "NMS",
         "finmb_24937",
         "America/New_York",
         "EDT",
         "-14400000",
         "us_market",
         "False",
         "-0.6121484",
         "212.69",
         "1742328001",
         "Apple Inc.",
         "Apple Inc.",
         "PRE",
         "29.026272",
         "-20.888199",
         "-0.089427",
         "-15.314743",
         "15",
         "0",
         "2.0 - Buy",
         "False",
         "-1.3099976",
         "211.49 - 215.15",
         "NasdaqGS",
         "53123005",
         "48.61",
         "0.2962579",
         "164.08 - 260.1",
         "-47.410004",
         "-0.18227606",
         "19.040691",
         "1739404800",
         "1738272600",
         "1746010740",
         "1746446400",
         "1738274400",
         "1738274400",
         "True",
         "6.3",
         "8.31",
         "7.3275",
         "-0.06716853",
         "True",
         "345479400000",
         "0.58000183",
         "0.27269822",
         "213.27",
         "Apple",
         "1.9739"
        ]
       ],
       "shape": {
        "columns": 180,
        "rows": 1
       }
      },
      "text/html": [
       "<div>\n",
       "<style scoped>\n",
       "    .dataframe tbody tr th:only-of-type {\n",
       "        vertical-align: middle;\n",
       "    }\n",
       "\n",
       "    .dataframe tbody tr th {\n",
       "        vertical-align: top;\n",
       "    }\n",
       "\n",
       "    .dataframe thead th {\n",
       "        text-align: right;\n",
       "    }\n",
       "</style>\n",
       "<table border=\"1\" class=\"dataframe\">\n",
       "  <thead>\n",
       "    <tr style=\"text-align: right;\">\n",
       "      <th></th>\n",
       "      <th>address1</th>\n",
       "      <th>city</th>\n",
       "      <th>state</th>\n",
       "      <th>zip</th>\n",
       "      <th>country</th>\n",
       "      <th>phone</th>\n",
       "      <th>website</th>\n",
       "      <th>industry</th>\n",
       "      <th>industryKey</th>\n",
       "      <th>industryDisp</th>\n",
       "      <th>...</th>\n",
       "      <th>epsForward</th>\n",
       "      <th>epsCurrentYear</th>\n",
       "      <th>twoHundredDayAverageChangePercent</th>\n",
       "      <th>hasPrePostMarketData</th>\n",
       "      <th>firstTradeDateMilliseconds</th>\n",
       "      <th>preMarketChange</th>\n",
       "      <th>preMarketChangePercent</th>\n",
       "      <th>preMarketPrice</th>\n",
       "      <th>displayName</th>\n",
       "      <th>trailingPegRatio</th>\n",
       "    </tr>\n",
       "  </thead>\n",
       "  <tbody>\n",
       "    <tr>\n",
       "      <th>0</th>\n",
       "      <td>One Apple Park Way</td>\n",
       "      <td>Cupertino</td>\n",
       "      <td>CA</td>\n",
       "      <td>95014</td>\n",
       "      <td>United States</td>\n",
       "      <td>(408) 996-1010</td>\n",
       "      <td>https://www.apple.com</td>\n",
       "      <td>Consumer Electronics</td>\n",
       "      <td>consumer-electronics</td>\n",
       "      <td>Consumer Electronics</td>\n",
       "      <td>...</td>\n",
       "      <td>8.31</td>\n",
       "      <td>7.3275</td>\n",
       "      <td>-0.067169</td>\n",
       "      <td>True</td>\n",
       "      <td>345479400000</td>\n",
       "      <td>0.580002</td>\n",
       "      <td>0.272698</td>\n",
       "      <td>213.27</td>\n",
       "      <td>Apple</td>\n",
       "      <td>1.9739</td>\n",
       "    </tr>\n",
       "  </tbody>\n",
       "</table>\n",
       "<p>1 rows × 180 columns</p>\n",
       "</div>"
      ],
      "text/plain": [
       "             address1       city state    zip        country           phone  \\\n",
       "0  One Apple Park Way  Cupertino    CA  95014  United States  (408) 996-1010   \n",
       "\n",
       "                 website              industry           industryKey  \\\n",
       "0  https://www.apple.com  Consumer Electronics  consumer-electronics   \n",
       "\n",
       "           industryDisp  ... epsForward epsCurrentYear  \\\n",
       "0  Consumer Electronics  ...       8.31         7.3275   \n",
       "\n",
       "  twoHundredDayAverageChangePercent hasPrePostMarketData  \\\n",
       "0                         -0.067169                 True   \n",
       "\n",
       "   firstTradeDateMilliseconds preMarketChange  preMarketChangePercent  \\\n",
       "0                345479400000        0.580002                0.272698   \n",
       "\n",
       "   preMarketPrice  displayName  trailingPegRatio  \n",
       "0          213.27        Apple            1.9739  \n",
       "\n",
       "[1 rows x 180 columns]"
      ]
     },
     "execution_count": 30,
     "metadata": {},
     "output_type": "execute_result"
    }
   ],
   "source": [
    "# Convertir a DataFrame con una fila\n",
    "aapl_df = pd.DataFrame([aapl_info])\n",
    "\n",
    "aapl_df"
   ]
  },
  {
   "cell_type": "code",
   "execution_count": 36,
   "metadata": {},
   "outputs": [
    {
     "data": {
      "application/vnd.microsoft.datawrangler.viewer.v0+json": {
       "columns": [
        {
         "name": "index",
         "rawType": "object",
         "type": "string"
        },
        {
         "name": "2024-09-30 00:00:00",
         "rawType": "object",
         "type": "unknown"
        },
        {
         "name": "2023-09-30 00:00:00",
         "rawType": "object",
         "type": "unknown"
        },
        {
         "name": "2022-09-30 00:00:00",
         "rawType": "object",
         "type": "unknown"
        },
        {
         "name": "2021-09-30 00:00:00",
         "rawType": "object",
         "type": "unknown"
        },
        {
         "name": "2020-09-30 00:00:00",
         "rawType": "object",
         "type": "unknown"
        }
       ],
       "conversionMethod": "pd.DataFrame",
       "ref": "f63e9d04-fc3b-45d5-97fe-fc0df2f9d60e",
       "rows": [
        [
         "Treasury Shares Number",
         null,
         "0.0",
         null,
         null,
         null
        ],
        [
         "Ordinary Shares Number",
         "15116786000.0",
         "15550061000.0",
         "15943425000.0",
         "16426786000.0",
         null
        ],
        [
         "Share Issued",
         "15116786000.0",
         "15550061000.0",
         "15943425000.0",
         "16426786000.0",
         null
        ],
        [
         "Net Debt",
         "76686000000.0",
         "81123000000.0",
         "96423000000.0",
         "89779000000.0",
         null
        ],
        [
         "Total Debt",
         "106629000000.0",
         "111088000000.0",
         "132480000000.0",
         "136522000000.0",
         null
        ],
        [
         "Tangible Book Value",
         "56950000000.0",
         "62146000000.0",
         "50672000000.0",
         "63090000000.0",
         null
        ],
        [
         "Invested Capital",
         "163579000000.0",
         "173234000000.0",
         "170741000000.0",
         "187809000000.0",
         null
        ],
        [
         "Working Capital",
         "-23405000000.0",
         "-1742000000.0",
         "-18577000000.0",
         "9355000000.0",
         null
        ],
        [
         "Net Tangible Assets",
         "56950000000.0",
         "62146000000.0",
         "50672000000.0",
         "63090000000.0",
         null
        ],
        [
         "Capital Lease Obligations",
         null,
         "12842000000.0",
         "12411000000.0",
         "11803000000.0",
         "9842000000.0"
        ],
        [
         "Common Stock Equity",
         "56950000000.0",
         "62146000000.0",
         "50672000000.0",
         "63090000000.0",
         null
        ],
        [
         "Total Capitalization",
         "142700000000.0",
         "157427000000.0",
         "149631000000.0",
         "172196000000.0",
         null
        ],
        [
         "Total Equity Gross Minority Interest",
         "56950000000.0",
         "62146000000.0",
         "50672000000.0",
         "63090000000.0",
         null
        ],
        [
         "Stockholders Equity",
         "56950000000.0",
         "62146000000.0",
         "50672000000.0",
         "63090000000.0",
         null
        ],
        [
         "Gains Losses Not Affecting Retained Earnings",
         "-7172000000.0",
         "-11452000000.0",
         "-11109000000.0",
         "163000000.0",
         null
        ],
        [
         "Other Equity Adjustments",
         "-7172000000.0",
         "-11452000000.0",
         "-11109000000.0",
         "163000000.0",
         null
        ],
        [
         "Retained Earnings",
         "-19154000000.0",
         "-214000000.0",
         "-3068000000.0",
         "5562000000.0",
         null
        ],
        [
         "Capital Stock",
         "83276000000.0",
         "73812000000.0",
         "64849000000.0",
         "57365000000.0",
         null
        ],
        [
         "Common Stock",
         "83276000000.0",
         "73812000000.0",
         "64849000000.0",
         "57365000000.0",
         null
        ],
        [
         "Total Liabilities Net Minority Interest",
         "308030000000.0",
         "290437000000.0",
         "302083000000.0",
         "287912000000.0",
         null
        ],
        [
         "Total Non Current Liabilities Net Minority Interest",
         "131638000000.0",
         "145129000000.0",
         "148101000000.0",
         "162431000000.0",
         null
        ],
        [
         "Other Non Current Liabilities",
         "36634000000.0",
         "34391000000.0",
         "21737000000.0",
         "18361000000.0",
         null
        ],
        [
         "Tradeand Other Payables Non Current",
         "9254000000.0",
         "15457000000.0",
         "16657000000.0",
         "24689000000.0",
         null
        ],
        [
         "Long Term Debt And Capital Lease Obligation",
         "85750000000.0",
         "95281000000.0",
         "109707000000.0",
         "119381000000.0",
         null
        ],
        [
         "Long Term Capital Lease Obligation",
         null,
         "11267000000.0",
         "10748000000.0",
         "10275000000.0",
         "8382000000.0"
        ],
        [
         "Long Term Debt",
         "85750000000.0",
         "95281000000.0",
         "98959000000.0",
         "109106000000.0",
         null
        ],
        [
         "Current Liabilities",
         "176392000000.0",
         "145308000000.0",
         "153982000000.0",
         "125481000000.0",
         null
        ],
        [
         "Other Current Liabilities",
         "51703000000.0",
         "50010000000.0",
         "52630000000.0",
         "45965000000.0",
         null
        ],
        [
         "Current Deferred Liabilities",
         "8249000000.0",
         "8061000000.0",
         "7912000000.0",
         "7612000000.0",
         null
        ],
        [
         "Current Deferred Revenue",
         "8249000000.0",
         "8061000000.0",
         "7912000000.0",
         "7612000000.0",
         null
        ],
        [
         "Current Debt And Capital Lease Obligation",
         "20879000000.0",
         "15807000000.0",
         "22773000000.0",
         "17141000000.0",
         null
        ],
        [
         "Current Capital Lease Obligation",
         null,
         "1575000000.0",
         "1663000000.0",
         "1528000000.0",
         "1460000000.0"
        ],
        [
         "Current Debt",
         "20879000000.0",
         "15807000000.0",
         "21110000000.0",
         "15613000000.0",
         null
        ],
        [
         "Other Current Borrowings",
         "10912000000.0",
         "9822000000.0",
         "11128000000.0",
         "9613000000.0",
         null
        ],
        [
         "Commercial Paper",
         "9967000000.0",
         "5985000000.0",
         "9982000000.0",
         "6000000000.0",
         null
        ],
        [
         "Payables And Accrued Expenses",
         "95561000000.0",
         "71430000000.0",
         "70667000000.0",
         "54763000000.0",
         null
        ],
        [
         "Payables",
         "95561000000.0",
         "71430000000.0",
         "70667000000.0",
         "54763000000.0",
         null
        ],
        [
         "Total Tax Payable",
         "26601000000.0",
         "8819000000.0",
         "6552000000.0",
         null,
         null
        ],
        [
         "Income Tax Payable",
         "26601000000.0",
         "8819000000.0",
         "6552000000.0",
         null,
         null
        ],
        [
         "Accounts Payable",
         "68960000000.0",
         "62611000000.0",
         "64115000000.0",
         "54763000000.0",
         null
        ],
        [
         "Total Assets",
         "364980000000.0",
         "352583000000.0",
         "352755000000.0",
         "351002000000.0",
         null
        ],
        [
         "Total Non Current Assets",
         "211993000000.0",
         "209017000000.0",
         "217350000000.0",
         "216166000000.0",
         null
        ],
        [
         "Other Non Current Assets",
         "55335000000.0",
         "46906000000.0",
         "39053000000.0",
         "38762000000.0",
         null
        ],
        [
         "Non Current Deferred Assets",
         "19499000000.0",
         "17852000000.0",
         "15375000000.0",
         null,
         null
        ],
        [
         "Non Current Deferred Taxes Assets",
         "19499000000.0",
         "17852000000.0",
         "15375000000.0",
         null,
         null
        ],
        [
         "Investments And Advances",
         "91479000000.0",
         "100544000000.0",
         "120805000000.0",
         "127877000000.0",
         null
        ],
        [
         "Other Investments",
         null,
         null,
         "120805000000.0",
         "127877000000.0",
         "100887000000.0"
        ],
        [
         "Investmentin Financial Assets",
         "91479000000.0",
         "100544000000.0",
         "120805000000.0",
         "127877000000.0",
         null
        ],
        [
         "Available For Sale Securities",
         "91479000000.0",
         "100544000000.0",
         "120805000000.0",
         "127877000000.0",
         null
        ],
        [
         "Net PPE",
         "45680000000.0",
         "43715000000.0",
         "42117000000.0",
         "49527000000.0",
         null
        ]
       ],
       "shape": {
        "columns": 5,
        "rows": 68
       }
      },
      "text/html": [
       "<div>\n",
       "<style scoped>\n",
       "    .dataframe tbody tr th:only-of-type {\n",
       "        vertical-align: middle;\n",
       "    }\n",
       "\n",
       "    .dataframe tbody tr th {\n",
       "        vertical-align: top;\n",
       "    }\n",
       "\n",
       "    .dataframe thead th {\n",
       "        text-align: right;\n",
       "    }\n",
       "</style>\n",
       "<table border=\"1\" class=\"dataframe\">\n",
       "  <thead>\n",
       "    <tr style=\"text-align: right;\">\n",
       "      <th></th>\n",
       "      <th>2024-09-30</th>\n",
       "      <th>2023-09-30</th>\n",
       "      <th>2022-09-30</th>\n",
       "      <th>2021-09-30</th>\n",
       "      <th>2020-09-30</th>\n",
       "    </tr>\n",
       "  </thead>\n",
       "  <tbody>\n",
       "    <tr>\n",
       "      <th>Treasury Shares Number</th>\n",
       "      <td>NaN</td>\n",
       "      <td>0.0</td>\n",
       "      <td>NaN</td>\n",
       "      <td>NaN</td>\n",
       "      <td>NaN</td>\n",
       "    </tr>\n",
       "    <tr>\n",
       "      <th>Ordinary Shares Number</th>\n",
       "      <td>15116786000.0</td>\n",
       "      <td>15550061000.0</td>\n",
       "      <td>15943425000.0</td>\n",
       "      <td>16426786000.0</td>\n",
       "      <td>NaN</td>\n",
       "    </tr>\n",
       "    <tr>\n",
       "      <th>Share Issued</th>\n",
       "      <td>15116786000.0</td>\n",
       "      <td>15550061000.0</td>\n",
       "      <td>15943425000.0</td>\n",
       "      <td>16426786000.0</td>\n",
       "      <td>NaN</td>\n",
       "    </tr>\n",
       "    <tr>\n",
       "      <th>Net Debt</th>\n",
       "      <td>76686000000.0</td>\n",
       "      <td>81123000000.0</td>\n",
       "      <td>96423000000.0</td>\n",
       "      <td>89779000000.0</td>\n",
       "      <td>NaN</td>\n",
       "    </tr>\n",
       "    <tr>\n",
       "      <th>Total Debt</th>\n",
       "      <td>106629000000.0</td>\n",
       "      <td>111088000000.0</td>\n",
       "      <td>132480000000.0</td>\n",
       "      <td>136522000000.0</td>\n",
       "      <td>NaN</td>\n",
       "    </tr>\n",
       "    <tr>\n",
       "      <th>...</th>\n",
       "      <td>...</td>\n",
       "      <td>...</td>\n",
       "      <td>...</td>\n",
       "      <td>...</td>\n",
       "      <td>...</td>\n",
       "    </tr>\n",
       "    <tr>\n",
       "      <th>Cash Cash Equivalents And Short Term Investments</th>\n",
       "      <td>65171000000.0</td>\n",
       "      <td>61555000000.0</td>\n",
       "      <td>48304000000.0</td>\n",
       "      <td>62639000000.0</td>\n",
       "      <td>NaN</td>\n",
       "    </tr>\n",
       "    <tr>\n",
       "      <th>Other Short Term Investments</th>\n",
       "      <td>35228000000.0</td>\n",
       "      <td>31590000000.0</td>\n",
       "      <td>24658000000.0</td>\n",
       "      <td>27699000000.0</td>\n",
       "      <td>NaN</td>\n",
       "    </tr>\n",
       "    <tr>\n",
       "      <th>Cash And Cash Equivalents</th>\n",
       "      <td>29943000000.0</td>\n",
       "      <td>29965000000.0</td>\n",
       "      <td>23646000000.0</td>\n",
       "      <td>34940000000.0</td>\n",
       "      <td>NaN</td>\n",
       "    </tr>\n",
       "    <tr>\n",
       "      <th>Cash Equivalents</th>\n",
       "      <td>2744000000.0</td>\n",
       "      <td>1606000000.0</td>\n",
       "      <td>5100000000.0</td>\n",
       "      <td>17635000000.0</td>\n",
       "      <td>NaN</td>\n",
       "    </tr>\n",
       "    <tr>\n",
       "      <th>Cash Financial</th>\n",
       "      <td>27199000000.0</td>\n",
       "      <td>28359000000.0</td>\n",
       "      <td>18546000000.0</td>\n",
       "      <td>17305000000.0</td>\n",
       "      <td>NaN</td>\n",
       "    </tr>\n",
       "  </tbody>\n",
       "</table>\n",
       "<p>68 rows × 5 columns</p>\n",
       "</div>"
      ],
      "text/plain": [
       "                                                      2024-09-30  \\\n",
       "Treasury Shares Number                                       NaN   \n",
       "Ordinary Shares Number                             15116786000.0   \n",
       "Share Issued                                       15116786000.0   \n",
       "Net Debt                                           76686000000.0   \n",
       "Total Debt                                        106629000000.0   \n",
       "...                                                          ...   \n",
       "Cash Cash Equivalents And Short Term Investments   65171000000.0   \n",
       "Other Short Term Investments                       35228000000.0   \n",
       "Cash And Cash Equivalents                          29943000000.0   \n",
       "Cash Equivalents                                    2744000000.0   \n",
       "Cash Financial                                     27199000000.0   \n",
       "\n",
       "                                                      2023-09-30  \\\n",
       "Treasury Shares Number                                       0.0   \n",
       "Ordinary Shares Number                             15550061000.0   \n",
       "Share Issued                                       15550061000.0   \n",
       "Net Debt                                           81123000000.0   \n",
       "Total Debt                                        111088000000.0   \n",
       "...                                                          ...   \n",
       "Cash Cash Equivalents And Short Term Investments   61555000000.0   \n",
       "Other Short Term Investments                       31590000000.0   \n",
       "Cash And Cash Equivalents                          29965000000.0   \n",
       "Cash Equivalents                                    1606000000.0   \n",
       "Cash Financial                                     28359000000.0   \n",
       "\n",
       "                                                      2022-09-30  \\\n",
       "Treasury Shares Number                                       NaN   \n",
       "Ordinary Shares Number                             15943425000.0   \n",
       "Share Issued                                       15943425000.0   \n",
       "Net Debt                                           96423000000.0   \n",
       "Total Debt                                        132480000000.0   \n",
       "...                                                          ...   \n",
       "Cash Cash Equivalents And Short Term Investments   48304000000.0   \n",
       "Other Short Term Investments                       24658000000.0   \n",
       "Cash And Cash Equivalents                          23646000000.0   \n",
       "Cash Equivalents                                    5100000000.0   \n",
       "Cash Financial                                     18546000000.0   \n",
       "\n",
       "                                                      2021-09-30 2020-09-30  \n",
       "Treasury Shares Number                                       NaN        NaN  \n",
       "Ordinary Shares Number                             16426786000.0        NaN  \n",
       "Share Issued                                       16426786000.0        NaN  \n",
       "Net Debt                                           89779000000.0        NaN  \n",
       "Total Debt                                        136522000000.0        NaN  \n",
       "...                                                          ...        ...  \n",
       "Cash Cash Equivalents And Short Term Investments   62639000000.0        NaN  \n",
       "Other Short Term Investments                       27699000000.0        NaN  \n",
       "Cash And Cash Equivalents                          34940000000.0        NaN  \n",
       "Cash Equivalents                                   17635000000.0        NaN  \n",
       "Cash Financial                                     17305000000.0        NaN  \n",
       "\n",
       "[68 rows x 5 columns]"
      ]
     },
     "execution_count": 36,
     "metadata": {},
     "output_type": "execute_result"
    }
   ],
   "source": [
    "aapl_ticker.balancesheet"
   ]
  },
  {
   "cell_type": "code",
   "execution_count": 35,
   "metadata": {},
   "outputs": [
    {
     "data": {
      "application/vnd.microsoft.datawrangler.viewer.v0+json": {
       "columns": [
        {
         "name": "index",
         "rawType": "object",
         "type": "string"
        },
        {
         "name": "2024-09-30 00:00:00",
         "rawType": "object",
         "type": "unknown"
        },
        {
         "name": "2023-09-30 00:00:00",
         "rawType": "object",
         "type": "unknown"
        },
        {
         "name": "2022-09-30 00:00:00",
         "rawType": "object",
         "type": "unknown"
        },
        {
         "name": "2021-09-30 00:00:00",
         "rawType": "object",
         "type": "unknown"
        },
        {
         "name": "2020-09-30 00:00:00",
         "rawType": "object",
         "type": "unknown"
        }
       ],
       "conversionMethod": "pd.DataFrame",
       "ref": "0e204c45-c0f2-49d4-b60d-8c13631bc3f2",
       "rows": [
        [
         "Tax Effect Of Unusual Items",
         "0.0",
         "0.0",
         "0.0",
         "0.0",
         null
        ],
        [
         "Tax Rate For Calcs",
         "0.241",
         "0.147",
         "0.162",
         "0.133",
         null
        ],
        [
         "Normalized EBITDA",
         "134661000000.0",
         "125820000000.0",
         "130541000000.0",
         "123136000000.0",
         null
        ],
        [
         "Net Income From Continuing Operation Net Minority Interest",
         "93736000000.0",
         "96995000000.0",
         "99803000000.0",
         "94680000000.0",
         null
        ],
        [
         "Reconciled Depreciation",
         "11445000000.0",
         "11519000000.0",
         "11104000000.0",
         "11284000000.0",
         null
        ],
        [
         "Reconciled Cost Of Revenue",
         "210352000000.0",
         "214137000000.0",
         "223546000000.0",
         "212981000000.0",
         null
        ],
        [
         "EBITDA",
         "134661000000.0",
         "125820000000.0",
         "130541000000.0",
         "123136000000.0",
         null
        ],
        [
         "EBIT",
         "123216000000.0",
         "114301000000.0",
         "119437000000.0",
         "111852000000.0",
         null
        ],
        [
         "Net Interest Income",
         null,
         "-183000000.0",
         "-106000000.0",
         "198000000.0",
         "890000000.0"
        ],
        [
         "Interest Expense",
         null,
         "3933000000.0",
         "2931000000.0",
         "2645000000.0",
         "2873000000.0"
        ],
        [
         "Interest Income",
         null,
         "3750000000.0",
         "2825000000.0",
         "2843000000.0",
         "3763000000.0"
        ],
        [
         "Normalized Income",
         "93736000000.0",
         "96995000000.0",
         "99803000000.0",
         "94680000000.0",
         null
        ],
        [
         "Net Income From Continuing And Discontinued Operation",
         "93736000000.0",
         "96995000000.0",
         "99803000000.0",
         "94680000000.0",
         null
        ],
        [
         "Total Expenses",
         "267819000000.0",
         "268984000000.0",
         "274891000000.0",
         "256868000000.0",
         null
        ],
        [
         "Total Operating Income As Reported",
         "123216000000.0",
         "114301000000.0",
         "119437000000.0",
         "108949000000.0",
         null
        ],
        [
         "Diluted Average Shares",
         "15408095000.0",
         "15812547000.0",
         "16325819000.0",
         "16864919000.0",
         null
        ],
        [
         "Basic Average Shares",
         "15343783000.0",
         "15744231000.0",
         "16215963000.0",
         "16701272000.0",
         null
        ],
        [
         "Diluted EPS",
         "6.08",
         "6.13",
         "6.11",
         "5.61",
         null
        ],
        [
         "Basic EPS",
         "6.11",
         "6.16",
         "6.15",
         "5.67",
         null
        ],
        [
         "Diluted NI Availto Com Stockholders",
         "93736000000.0",
         "96995000000.0",
         "99803000000.0",
         "94680000000.0",
         null
        ],
        [
         "Net Income Common Stockholders",
         "93736000000.0",
         "96995000000.0",
         "99803000000.0",
         "94680000000.0",
         null
        ],
        [
         "Net Income",
         "93736000000.0",
         "96995000000.0",
         "99803000000.0",
         "94680000000.0",
         null
        ],
        [
         "Net Income Including Noncontrolling Interests",
         "93736000000.0",
         "96995000000.0",
         "99803000000.0",
         "94680000000.0",
         null
        ],
        [
         "Net Income Continuous Operations",
         "93736000000.0",
         "96995000000.0",
         "99803000000.0",
         "94680000000.0",
         null
        ],
        [
         "Tax Provision",
         "29749000000.0",
         "16741000000.0",
         "19300000000.0",
         "14527000000.0",
         null
        ],
        [
         "Pretax Income",
         "123485000000.0",
         "113736000000.0",
         "119103000000.0",
         "109207000000.0",
         null
        ],
        [
         "Other Income Expense",
         "269000000.0",
         "-565000000.0",
         "-334000000.0",
         "60000000.0",
         null
        ],
        [
         "Other Non Operating Income Expenses",
         "269000000.0",
         "-565000000.0",
         "-334000000.0",
         "60000000.0",
         null
        ],
        [
         "Net Non Operating Interest Income Expense",
         null,
         "-183000000.0",
         "-106000000.0",
         "198000000.0",
         "890000000.0"
        ],
        [
         "Interest Expense Non Operating",
         null,
         "3933000000.0",
         "2931000000.0",
         "2645000000.0",
         "2873000000.0"
        ],
        [
         "Interest Income Non Operating",
         null,
         "3750000000.0",
         "2825000000.0",
         "2843000000.0",
         "3763000000.0"
        ],
        [
         "Operating Income",
         "123216000000.0",
         "114301000000.0",
         "119437000000.0",
         "108949000000.0",
         null
        ],
        [
         "Operating Expense",
         "57467000000.0",
         "54847000000.0",
         "51345000000.0",
         "43887000000.0",
         null
        ],
        [
         "Research And Development",
         "31370000000.0",
         "29915000000.0",
         "26251000000.0",
         "21914000000.0",
         null
        ],
        [
         "Selling General And Administration",
         "26097000000.0",
         "24932000000.0",
         "25094000000.0",
         "21973000000.0",
         null
        ],
        [
         "Gross Profit",
         "180683000000.0",
         "169148000000.0",
         "170782000000.0",
         "152836000000.0",
         null
        ],
        [
         "Cost Of Revenue",
         "210352000000.0",
         "214137000000.0",
         "223546000000.0",
         "212981000000.0",
         null
        ],
        [
         "Total Revenue",
         "391035000000.0",
         "383285000000.0",
         "394328000000.0",
         "365817000000.0",
         null
        ],
        [
         "Operating Revenue",
         "391035000000.0",
         "383285000000.0",
         "394328000000.0",
         "365817000000.0",
         null
        ]
       ],
       "shape": {
        "columns": 5,
        "rows": 39
       }
      },
      "text/html": [
       "<div>\n",
       "<style scoped>\n",
       "    .dataframe tbody tr th:only-of-type {\n",
       "        vertical-align: middle;\n",
       "    }\n",
       "\n",
       "    .dataframe tbody tr th {\n",
       "        vertical-align: top;\n",
       "    }\n",
       "\n",
       "    .dataframe thead th {\n",
       "        text-align: right;\n",
       "    }\n",
       "</style>\n",
       "<table border=\"1\" class=\"dataframe\">\n",
       "  <thead>\n",
       "    <tr style=\"text-align: right;\">\n",
       "      <th></th>\n",
       "      <th>2024-09-30</th>\n",
       "      <th>2023-09-30</th>\n",
       "      <th>2022-09-30</th>\n",
       "      <th>2021-09-30</th>\n",
       "      <th>2020-09-30</th>\n",
       "    </tr>\n",
       "  </thead>\n",
       "  <tbody>\n",
       "    <tr>\n",
       "      <th>Tax Effect Of Unusual Items</th>\n",
       "      <td>0.0</td>\n",
       "      <td>0.0</td>\n",
       "      <td>0.0</td>\n",
       "      <td>0.0</td>\n",
       "      <td>NaN</td>\n",
       "    </tr>\n",
       "    <tr>\n",
       "      <th>Tax Rate For Calcs</th>\n",
       "      <td>0.241</td>\n",
       "      <td>0.147</td>\n",
       "      <td>0.162</td>\n",
       "      <td>0.133</td>\n",
       "      <td>NaN</td>\n",
       "    </tr>\n",
       "    <tr>\n",
       "      <th>Normalized EBITDA</th>\n",
       "      <td>134661000000.0</td>\n",
       "      <td>125820000000.0</td>\n",
       "      <td>130541000000.0</td>\n",
       "      <td>123136000000.0</td>\n",
       "      <td>NaN</td>\n",
       "    </tr>\n",
       "    <tr>\n",
       "      <th>Net Income From Continuing Operation Net Minority Interest</th>\n",
       "      <td>93736000000.0</td>\n",
       "      <td>96995000000.0</td>\n",
       "      <td>99803000000.0</td>\n",
       "      <td>94680000000.0</td>\n",
       "      <td>NaN</td>\n",
       "    </tr>\n",
       "    <tr>\n",
       "      <th>Reconciled Depreciation</th>\n",
       "      <td>11445000000.0</td>\n",
       "      <td>11519000000.0</td>\n",
       "      <td>11104000000.0</td>\n",
       "      <td>11284000000.0</td>\n",
       "      <td>NaN</td>\n",
       "    </tr>\n",
       "    <tr>\n",
       "      <th>Reconciled Cost Of Revenue</th>\n",
       "      <td>210352000000.0</td>\n",
       "      <td>214137000000.0</td>\n",
       "      <td>223546000000.0</td>\n",
       "      <td>212981000000.0</td>\n",
       "      <td>NaN</td>\n",
       "    </tr>\n",
       "    <tr>\n",
       "      <th>EBITDA</th>\n",
       "      <td>134661000000.0</td>\n",
       "      <td>125820000000.0</td>\n",
       "      <td>130541000000.0</td>\n",
       "      <td>123136000000.0</td>\n",
       "      <td>NaN</td>\n",
       "    </tr>\n",
       "    <tr>\n",
       "      <th>EBIT</th>\n",
       "      <td>123216000000.0</td>\n",
       "      <td>114301000000.0</td>\n",
       "      <td>119437000000.0</td>\n",
       "      <td>111852000000.0</td>\n",
       "      <td>NaN</td>\n",
       "    </tr>\n",
       "    <tr>\n",
       "      <th>Net Interest Income</th>\n",
       "      <td>NaN</td>\n",
       "      <td>-183000000.0</td>\n",
       "      <td>-106000000.0</td>\n",
       "      <td>198000000.0</td>\n",
       "      <td>890000000.0</td>\n",
       "    </tr>\n",
       "    <tr>\n",
       "      <th>Interest Expense</th>\n",
       "      <td>NaN</td>\n",
       "      <td>3933000000.0</td>\n",
       "      <td>2931000000.0</td>\n",
       "      <td>2645000000.0</td>\n",
       "      <td>2873000000.0</td>\n",
       "    </tr>\n",
       "    <tr>\n",
       "      <th>Interest Income</th>\n",
       "      <td>NaN</td>\n",
       "      <td>3750000000.0</td>\n",
       "      <td>2825000000.0</td>\n",
       "      <td>2843000000.0</td>\n",
       "      <td>3763000000.0</td>\n",
       "    </tr>\n",
       "    <tr>\n",
       "      <th>Normalized Income</th>\n",
       "      <td>93736000000.0</td>\n",
       "      <td>96995000000.0</td>\n",
       "      <td>99803000000.0</td>\n",
       "      <td>94680000000.0</td>\n",
       "      <td>NaN</td>\n",
       "    </tr>\n",
       "    <tr>\n",
       "      <th>Net Income From Continuing And Discontinued Operation</th>\n",
       "      <td>93736000000.0</td>\n",
       "      <td>96995000000.0</td>\n",
       "      <td>99803000000.0</td>\n",
       "      <td>94680000000.0</td>\n",
       "      <td>NaN</td>\n",
       "    </tr>\n",
       "    <tr>\n",
       "      <th>Total Expenses</th>\n",
       "      <td>267819000000.0</td>\n",
       "      <td>268984000000.0</td>\n",
       "      <td>274891000000.0</td>\n",
       "      <td>256868000000.0</td>\n",
       "      <td>NaN</td>\n",
       "    </tr>\n",
       "    <tr>\n",
       "      <th>Total Operating Income As Reported</th>\n",
       "      <td>123216000000.0</td>\n",
       "      <td>114301000000.0</td>\n",
       "      <td>119437000000.0</td>\n",
       "      <td>108949000000.0</td>\n",
       "      <td>NaN</td>\n",
       "    </tr>\n",
       "    <tr>\n",
       "      <th>Diluted Average Shares</th>\n",
       "      <td>15408095000.0</td>\n",
       "      <td>15812547000.0</td>\n",
       "      <td>16325819000.0</td>\n",
       "      <td>16864919000.0</td>\n",
       "      <td>NaN</td>\n",
       "    </tr>\n",
       "    <tr>\n",
       "      <th>Basic Average Shares</th>\n",
       "      <td>15343783000.0</td>\n",
       "      <td>15744231000.0</td>\n",
       "      <td>16215963000.0</td>\n",
       "      <td>16701272000.0</td>\n",
       "      <td>NaN</td>\n",
       "    </tr>\n",
       "    <tr>\n",
       "      <th>Diluted EPS</th>\n",
       "      <td>6.08</td>\n",
       "      <td>6.13</td>\n",
       "      <td>6.11</td>\n",
       "      <td>5.61</td>\n",
       "      <td>NaN</td>\n",
       "    </tr>\n",
       "    <tr>\n",
       "      <th>Basic EPS</th>\n",
       "      <td>6.11</td>\n",
       "      <td>6.16</td>\n",
       "      <td>6.15</td>\n",
       "      <td>5.67</td>\n",
       "      <td>NaN</td>\n",
       "    </tr>\n",
       "    <tr>\n",
       "      <th>Diluted NI Availto Com Stockholders</th>\n",
       "      <td>93736000000.0</td>\n",
       "      <td>96995000000.0</td>\n",
       "      <td>99803000000.0</td>\n",
       "      <td>94680000000.0</td>\n",
       "      <td>NaN</td>\n",
       "    </tr>\n",
       "    <tr>\n",
       "      <th>Net Income Common Stockholders</th>\n",
       "      <td>93736000000.0</td>\n",
       "      <td>96995000000.0</td>\n",
       "      <td>99803000000.0</td>\n",
       "      <td>94680000000.0</td>\n",
       "      <td>NaN</td>\n",
       "    </tr>\n",
       "    <tr>\n",
       "      <th>Net Income</th>\n",
       "      <td>93736000000.0</td>\n",
       "      <td>96995000000.0</td>\n",
       "      <td>99803000000.0</td>\n",
       "      <td>94680000000.0</td>\n",
       "      <td>NaN</td>\n",
       "    </tr>\n",
       "    <tr>\n",
       "      <th>Net Income Including Noncontrolling Interests</th>\n",
       "      <td>93736000000.0</td>\n",
       "      <td>96995000000.0</td>\n",
       "      <td>99803000000.0</td>\n",
       "      <td>94680000000.0</td>\n",
       "      <td>NaN</td>\n",
       "    </tr>\n",
       "    <tr>\n",
       "      <th>Net Income Continuous Operations</th>\n",
       "      <td>93736000000.0</td>\n",
       "      <td>96995000000.0</td>\n",
       "      <td>99803000000.0</td>\n",
       "      <td>94680000000.0</td>\n",
       "      <td>NaN</td>\n",
       "    </tr>\n",
       "    <tr>\n",
       "      <th>Tax Provision</th>\n",
       "      <td>29749000000.0</td>\n",
       "      <td>16741000000.0</td>\n",
       "      <td>19300000000.0</td>\n",
       "      <td>14527000000.0</td>\n",
       "      <td>NaN</td>\n",
       "    </tr>\n",
       "    <tr>\n",
       "      <th>Pretax Income</th>\n",
       "      <td>123485000000.0</td>\n",
       "      <td>113736000000.0</td>\n",
       "      <td>119103000000.0</td>\n",
       "      <td>109207000000.0</td>\n",
       "      <td>NaN</td>\n",
       "    </tr>\n",
       "    <tr>\n",
       "      <th>Other Income Expense</th>\n",
       "      <td>269000000.0</td>\n",
       "      <td>-565000000.0</td>\n",
       "      <td>-334000000.0</td>\n",
       "      <td>60000000.0</td>\n",
       "      <td>NaN</td>\n",
       "    </tr>\n",
       "    <tr>\n",
       "      <th>Other Non Operating Income Expenses</th>\n",
       "      <td>269000000.0</td>\n",
       "      <td>-565000000.0</td>\n",
       "      <td>-334000000.0</td>\n",
       "      <td>60000000.0</td>\n",
       "      <td>NaN</td>\n",
       "    </tr>\n",
       "    <tr>\n",
       "      <th>Net Non Operating Interest Income Expense</th>\n",
       "      <td>NaN</td>\n",
       "      <td>-183000000.0</td>\n",
       "      <td>-106000000.0</td>\n",
       "      <td>198000000.0</td>\n",
       "      <td>890000000.0</td>\n",
       "    </tr>\n",
       "    <tr>\n",
       "      <th>Interest Expense Non Operating</th>\n",
       "      <td>NaN</td>\n",
       "      <td>3933000000.0</td>\n",
       "      <td>2931000000.0</td>\n",
       "      <td>2645000000.0</td>\n",
       "      <td>2873000000.0</td>\n",
       "    </tr>\n",
       "    <tr>\n",
       "      <th>Interest Income Non Operating</th>\n",
       "      <td>NaN</td>\n",
       "      <td>3750000000.0</td>\n",
       "      <td>2825000000.0</td>\n",
       "      <td>2843000000.0</td>\n",
       "      <td>3763000000.0</td>\n",
       "    </tr>\n",
       "    <tr>\n",
       "      <th>Operating Income</th>\n",
       "      <td>123216000000.0</td>\n",
       "      <td>114301000000.0</td>\n",
       "      <td>119437000000.0</td>\n",
       "      <td>108949000000.0</td>\n",
       "      <td>NaN</td>\n",
       "    </tr>\n",
       "    <tr>\n",
       "      <th>Operating Expense</th>\n",
       "      <td>57467000000.0</td>\n",
       "      <td>54847000000.0</td>\n",
       "      <td>51345000000.0</td>\n",
       "      <td>43887000000.0</td>\n",
       "      <td>NaN</td>\n",
       "    </tr>\n",
       "    <tr>\n",
       "      <th>Research And Development</th>\n",
       "      <td>31370000000.0</td>\n",
       "      <td>29915000000.0</td>\n",
       "      <td>26251000000.0</td>\n",
       "      <td>21914000000.0</td>\n",
       "      <td>NaN</td>\n",
       "    </tr>\n",
       "    <tr>\n",
       "      <th>Selling General And Administration</th>\n",
       "      <td>26097000000.0</td>\n",
       "      <td>24932000000.0</td>\n",
       "      <td>25094000000.0</td>\n",
       "      <td>21973000000.0</td>\n",
       "      <td>NaN</td>\n",
       "    </tr>\n",
       "    <tr>\n",
       "      <th>Gross Profit</th>\n",
       "      <td>180683000000.0</td>\n",
       "      <td>169148000000.0</td>\n",
       "      <td>170782000000.0</td>\n",
       "      <td>152836000000.0</td>\n",
       "      <td>NaN</td>\n",
       "    </tr>\n",
       "    <tr>\n",
       "      <th>Cost Of Revenue</th>\n",
       "      <td>210352000000.0</td>\n",
       "      <td>214137000000.0</td>\n",
       "      <td>223546000000.0</td>\n",
       "      <td>212981000000.0</td>\n",
       "      <td>NaN</td>\n",
       "    </tr>\n",
       "    <tr>\n",
       "      <th>Total Revenue</th>\n",
       "      <td>391035000000.0</td>\n",
       "      <td>383285000000.0</td>\n",
       "      <td>394328000000.0</td>\n",
       "      <td>365817000000.0</td>\n",
       "      <td>NaN</td>\n",
       "    </tr>\n",
       "    <tr>\n",
       "      <th>Operating Revenue</th>\n",
       "      <td>391035000000.0</td>\n",
       "      <td>383285000000.0</td>\n",
       "      <td>394328000000.0</td>\n",
       "      <td>365817000000.0</td>\n",
       "      <td>NaN</td>\n",
       "    </tr>\n",
       "  </tbody>\n",
       "</table>\n",
       "</div>"
      ],
      "text/plain": [
       "                                                        2024-09-30  \\\n",
       "Tax Effect Of Unusual Items                                    0.0   \n",
       "Tax Rate For Calcs                                           0.241   \n",
       "Normalized EBITDA                                   134661000000.0   \n",
       "Net Income From Continuing Operation Net Minori...   93736000000.0   \n",
       "Reconciled Depreciation                              11445000000.0   \n",
       "Reconciled Cost Of Revenue                          210352000000.0   \n",
       "EBITDA                                              134661000000.0   \n",
       "EBIT                                                123216000000.0   \n",
       "Net Interest Income                                            NaN   \n",
       "Interest Expense                                               NaN   \n",
       "Interest Income                                                NaN   \n",
       "Normalized Income                                    93736000000.0   \n",
       "Net Income From Continuing And Discontinued Ope...   93736000000.0   \n",
       "Total Expenses                                      267819000000.0   \n",
       "Total Operating Income As Reported                  123216000000.0   \n",
       "Diluted Average Shares                               15408095000.0   \n",
       "Basic Average Shares                                 15343783000.0   \n",
       "Diluted EPS                                                   6.08   \n",
       "Basic EPS                                                     6.11   \n",
       "Diluted NI Availto Com Stockholders                  93736000000.0   \n",
       "Net Income Common Stockholders                       93736000000.0   \n",
       "Net Income                                           93736000000.0   \n",
       "Net Income Including Noncontrolling Interests        93736000000.0   \n",
       "Net Income Continuous Operations                     93736000000.0   \n",
       "Tax Provision                                        29749000000.0   \n",
       "Pretax Income                                       123485000000.0   \n",
       "Other Income Expense                                   269000000.0   \n",
       "Other Non Operating Income Expenses                    269000000.0   \n",
       "Net Non Operating Interest Income Expense                      NaN   \n",
       "Interest Expense Non Operating                                 NaN   \n",
       "Interest Income Non Operating                                  NaN   \n",
       "Operating Income                                    123216000000.0   \n",
       "Operating Expense                                    57467000000.0   \n",
       "Research And Development                             31370000000.0   \n",
       "Selling General And Administration                   26097000000.0   \n",
       "Gross Profit                                        180683000000.0   \n",
       "Cost Of Revenue                                     210352000000.0   \n",
       "Total Revenue                                       391035000000.0   \n",
       "Operating Revenue                                   391035000000.0   \n",
       "\n",
       "                                                        2023-09-30  \\\n",
       "Tax Effect Of Unusual Items                                    0.0   \n",
       "Tax Rate For Calcs                                           0.147   \n",
       "Normalized EBITDA                                   125820000000.0   \n",
       "Net Income From Continuing Operation Net Minori...   96995000000.0   \n",
       "Reconciled Depreciation                              11519000000.0   \n",
       "Reconciled Cost Of Revenue                          214137000000.0   \n",
       "EBITDA                                              125820000000.0   \n",
       "EBIT                                                114301000000.0   \n",
       "Net Interest Income                                   -183000000.0   \n",
       "Interest Expense                                      3933000000.0   \n",
       "Interest Income                                       3750000000.0   \n",
       "Normalized Income                                    96995000000.0   \n",
       "Net Income From Continuing And Discontinued Ope...   96995000000.0   \n",
       "Total Expenses                                      268984000000.0   \n",
       "Total Operating Income As Reported                  114301000000.0   \n",
       "Diluted Average Shares                               15812547000.0   \n",
       "Basic Average Shares                                 15744231000.0   \n",
       "Diluted EPS                                                   6.13   \n",
       "Basic EPS                                                     6.16   \n",
       "Diluted NI Availto Com Stockholders                  96995000000.0   \n",
       "Net Income Common Stockholders                       96995000000.0   \n",
       "Net Income                                           96995000000.0   \n",
       "Net Income Including Noncontrolling Interests        96995000000.0   \n",
       "Net Income Continuous Operations                     96995000000.0   \n",
       "Tax Provision                                        16741000000.0   \n",
       "Pretax Income                                       113736000000.0   \n",
       "Other Income Expense                                  -565000000.0   \n",
       "Other Non Operating Income Expenses                   -565000000.0   \n",
       "Net Non Operating Interest Income Expense             -183000000.0   \n",
       "Interest Expense Non Operating                        3933000000.0   \n",
       "Interest Income Non Operating                         3750000000.0   \n",
       "Operating Income                                    114301000000.0   \n",
       "Operating Expense                                    54847000000.0   \n",
       "Research And Development                             29915000000.0   \n",
       "Selling General And Administration                   24932000000.0   \n",
       "Gross Profit                                        169148000000.0   \n",
       "Cost Of Revenue                                     214137000000.0   \n",
       "Total Revenue                                       383285000000.0   \n",
       "Operating Revenue                                   383285000000.0   \n",
       "\n",
       "                                                        2022-09-30  \\\n",
       "Tax Effect Of Unusual Items                                    0.0   \n",
       "Tax Rate For Calcs                                           0.162   \n",
       "Normalized EBITDA                                   130541000000.0   \n",
       "Net Income From Continuing Operation Net Minori...   99803000000.0   \n",
       "Reconciled Depreciation                              11104000000.0   \n",
       "Reconciled Cost Of Revenue                          223546000000.0   \n",
       "EBITDA                                              130541000000.0   \n",
       "EBIT                                                119437000000.0   \n",
       "Net Interest Income                                   -106000000.0   \n",
       "Interest Expense                                      2931000000.0   \n",
       "Interest Income                                       2825000000.0   \n",
       "Normalized Income                                    99803000000.0   \n",
       "Net Income From Continuing And Discontinued Ope...   99803000000.0   \n",
       "Total Expenses                                      274891000000.0   \n",
       "Total Operating Income As Reported                  119437000000.0   \n",
       "Diluted Average Shares                               16325819000.0   \n",
       "Basic Average Shares                                 16215963000.0   \n",
       "Diluted EPS                                                   6.11   \n",
       "Basic EPS                                                     6.15   \n",
       "Diluted NI Availto Com Stockholders                  99803000000.0   \n",
       "Net Income Common Stockholders                       99803000000.0   \n",
       "Net Income                                           99803000000.0   \n",
       "Net Income Including Noncontrolling Interests        99803000000.0   \n",
       "Net Income Continuous Operations                     99803000000.0   \n",
       "Tax Provision                                        19300000000.0   \n",
       "Pretax Income                                       119103000000.0   \n",
       "Other Income Expense                                  -334000000.0   \n",
       "Other Non Operating Income Expenses                   -334000000.0   \n",
       "Net Non Operating Interest Income Expense             -106000000.0   \n",
       "Interest Expense Non Operating                        2931000000.0   \n",
       "Interest Income Non Operating                         2825000000.0   \n",
       "Operating Income                                    119437000000.0   \n",
       "Operating Expense                                    51345000000.0   \n",
       "Research And Development                             26251000000.0   \n",
       "Selling General And Administration                   25094000000.0   \n",
       "Gross Profit                                        170782000000.0   \n",
       "Cost Of Revenue                                     223546000000.0   \n",
       "Total Revenue                                       394328000000.0   \n",
       "Operating Revenue                                   394328000000.0   \n",
       "\n",
       "                                                        2021-09-30  \\\n",
       "Tax Effect Of Unusual Items                                    0.0   \n",
       "Tax Rate For Calcs                                           0.133   \n",
       "Normalized EBITDA                                   123136000000.0   \n",
       "Net Income From Continuing Operation Net Minori...   94680000000.0   \n",
       "Reconciled Depreciation                              11284000000.0   \n",
       "Reconciled Cost Of Revenue                          212981000000.0   \n",
       "EBITDA                                              123136000000.0   \n",
       "EBIT                                                111852000000.0   \n",
       "Net Interest Income                                    198000000.0   \n",
       "Interest Expense                                      2645000000.0   \n",
       "Interest Income                                       2843000000.0   \n",
       "Normalized Income                                    94680000000.0   \n",
       "Net Income From Continuing And Discontinued Ope...   94680000000.0   \n",
       "Total Expenses                                      256868000000.0   \n",
       "Total Operating Income As Reported                  108949000000.0   \n",
       "Diluted Average Shares                               16864919000.0   \n",
       "Basic Average Shares                                 16701272000.0   \n",
       "Diluted EPS                                                   5.61   \n",
       "Basic EPS                                                     5.67   \n",
       "Diluted NI Availto Com Stockholders                  94680000000.0   \n",
       "Net Income Common Stockholders                       94680000000.0   \n",
       "Net Income                                           94680000000.0   \n",
       "Net Income Including Noncontrolling Interests        94680000000.0   \n",
       "Net Income Continuous Operations                     94680000000.0   \n",
       "Tax Provision                                        14527000000.0   \n",
       "Pretax Income                                       109207000000.0   \n",
       "Other Income Expense                                    60000000.0   \n",
       "Other Non Operating Income Expenses                     60000000.0   \n",
       "Net Non Operating Interest Income Expense              198000000.0   \n",
       "Interest Expense Non Operating                        2645000000.0   \n",
       "Interest Income Non Operating                         2843000000.0   \n",
       "Operating Income                                    108949000000.0   \n",
       "Operating Expense                                    43887000000.0   \n",
       "Research And Development                             21914000000.0   \n",
       "Selling General And Administration                   21973000000.0   \n",
       "Gross Profit                                        152836000000.0   \n",
       "Cost Of Revenue                                     212981000000.0   \n",
       "Total Revenue                                       365817000000.0   \n",
       "Operating Revenue                                   365817000000.0   \n",
       "\n",
       "                                                      2020-09-30  \n",
       "Tax Effect Of Unusual Items                                  NaN  \n",
       "Tax Rate For Calcs                                           NaN  \n",
       "Normalized EBITDA                                            NaN  \n",
       "Net Income From Continuing Operation Net Minori...           NaN  \n",
       "Reconciled Depreciation                                      NaN  \n",
       "Reconciled Cost Of Revenue                                   NaN  \n",
       "EBITDA                                                       NaN  \n",
       "EBIT                                                         NaN  \n",
       "Net Interest Income                                  890000000.0  \n",
       "Interest Expense                                    2873000000.0  \n",
       "Interest Income                                     3763000000.0  \n",
       "Normalized Income                                            NaN  \n",
       "Net Income From Continuing And Discontinued Ope...           NaN  \n",
       "Total Expenses                                               NaN  \n",
       "Total Operating Income As Reported                           NaN  \n",
       "Diluted Average Shares                                       NaN  \n",
       "Basic Average Shares                                         NaN  \n",
       "Diluted EPS                                                  NaN  \n",
       "Basic EPS                                                    NaN  \n",
       "Diluted NI Availto Com Stockholders                          NaN  \n",
       "Net Income Common Stockholders                               NaN  \n",
       "Net Income                                                   NaN  \n",
       "Net Income Including Noncontrolling Interests                NaN  \n",
       "Net Income Continuous Operations                             NaN  \n",
       "Tax Provision                                                NaN  \n",
       "Pretax Income                                                NaN  \n",
       "Other Income Expense                                         NaN  \n",
       "Other Non Operating Income Expenses                          NaN  \n",
       "Net Non Operating Interest Income Expense            890000000.0  \n",
       "Interest Expense Non Operating                      2873000000.0  \n",
       "Interest Income Non Operating                       3763000000.0  \n",
       "Operating Income                                             NaN  \n",
       "Operating Expense                                            NaN  \n",
       "Research And Development                                     NaN  \n",
       "Selling General And Administration                           NaN  \n",
       "Gross Profit                                                 NaN  \n",
       "Cost Of Revenue                                              NaN  \n",
       "Total Revenue                                                NaN  \n",
       "Operating Revenue                                            NaN  "
      ]
     },
     "execution_count": 35,
     "metadata": {},
     "output_type": "execute_result"
    }
   ],
   "source": [
    "aapl_ticker.income_stmt"
   ]
  }
 ],
 "metadata": {
  "kernelspec": {
   "display_name": "Python 3",
   "language": "python",
   "name": "python3"
  },
  "language_info": {
   "codemirror_mode": {
    "name": "ipython",
    "version": 3
   },
   "file_extension": ".py",
   "mimetype": "text/x-python",
   "name": "python",
   "nbconvert_exporter": "python",
   "pygments_lexer": "ipython3",
   "version": "3.11.9"
  }
 },
 "nbformat": 4,
 "nbformat_minor": 2
}
